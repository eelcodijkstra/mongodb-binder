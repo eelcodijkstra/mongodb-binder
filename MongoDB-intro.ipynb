{
 "cells": [
  {
   "cell_type": "markdown",
   "metadata": {},
   "source": [
    "# Inleiding MongoDB\n",
    "\n",
    "* Voorkennis: [Inleiding Jupyter](Inleiding-Jupyter.ipynb)\n",
    "\n",
    "In dit notebook geven we een aantal voorbeelden van MongoDB, aan de hand van de MongoDB shell (de commando-regel).\n",
    "Hiermee kun je oefenen met zoekopdrachten e.d.\n",
    "Het gebruik van een database in een Python-toepassing hebben we uitgewerkt in de andere Notebooks.\n",
    "\n",
    "Meer informatie over de MongoDB shell-opdrachten vind je via: [Mongo shell](https://docs.mongodb.com/manual/mongo/)."
   ]
  },
  {
   "cell_type": "markdown",
   "metadata": {},
   "source": [
    "In dit notebook moeten we per cell de mongo-shell opstarten; hiervoor gebruiken we de opdracht `mongo demo --quiet`.\n",
    "Daarna kunnen we één of meer mongo-shell opdrachten geven."
   ]
  },
  {
   "cell_type": "markdown",
   "metadata": {},
   "source": [
    "## Importeren voorbeeld-database\n",
    "\n",
    "Als eerste opdracht lezen we de voorbeeld database in, met `mongoimport`. Dit hoeft je maar één keer per sessie te doen. Maar je kunt hiermee ook de database herstellen als je deze verziekt hebt.\n",
    "\n",
    "In de onderstaande opdracht importeren we de *collection* `contacts` uit het bestand `adressen.json`."
   ]
  },
  {
   "cell_type": "code",
   "execution_count": null,
   "metadata": {},
   "outputs": [],
   "source": [
    "%%bash\n",
    "mongoimport -d demo --drop -c contacts adressen.json"
   ]
  },
  {
   "cell_type": "markdown",
   "metadata": {},
   "source": [
    "Met de onderstaande opdracht kun je het bestand `adressen.json` bekijken:"
   ]
  },
  {
   "cell_type": "code",
   "execution_count": null,
   "metadata": {},
   "outputs": [],
   "source": [
    "%%bash\n",
    "cat adressen.json"
   ]
  },
  {
   "cell_type": "markdown",
   "metadata": {},
   "source": [
    "## Eerste zoekopdrachten\n",
    "\n",
    "De zoekopdracht in de mongo-shell heeft de vorm: `db.collection.find(query-doc)`. Hierin is `query-doc` het zoek- document waarin een deel van de velden ingevuld is. De zoekopdracht vindt alle documenten die matchen met dit zoek-document.\n",
    "\n",
    "Als je geen zoekdocument opgeeft, of een leeg zoekdocument (`{}`), dan krijg je alle documenten in de collection."
   ]
  },
  {
   "cell_type": "code",
   "execution_count": null,
   "metadata": {},
   "outputs": [],
   "source": [
    "%%bash\n",
    "/usr/local/bin/mongo demo --quiet\n",
    "\n",
    "db.contacts.find({})"
   ]
  },
  {
   "cell_type": "markdown",
   "metadata": {},
   "source": [
    "Merk op dat de geïmporteerde documenten een veld `_id` hebben: dit is de unieke key van het document die MongoDB automatisch aangemaakt heeft. Deze key is uniek voor alle databases en collections."
   ]
  },
  {
   "cell_type": "code",
   "execution_count": null,
   "metadata": {},
   "outputs": [],
   "source": [
    "%%bash\n",
    "/usr/local/bin/mongo demo --quiet\n",
    "\n",
    "db.contacts.find({\"name\": \"Hans de Boer\"})"
   ]
  },
  {
   "cell_type": "markdown",
   "metadata": {},
   "source": [
    "## Projectie\n",
    "\n",
    "Met \"find\" selecteren we een verzameling documenten. Met het projectie-document geef je aan welke velden van deze documenten we in het resultaat willen zien: een veld in het resultaat geeft je aan met `fieldname:1`; het weglaten van een veld geef je aan met `fieldname:0`. Afgezien van het `_id`-field, kun je in een projectie-document alleen \"0\"-en of \"1\"-en opgeven.\n",
    "\n",
    "> In een SQL-querie geef je na de `SELECT` een opsomming van de kolommen in het resultaat: dit is de SQL-vorm van projectie."
   ]
  },
  {
   "cell_type": "code",
   "execution_count": null,
   "metadata": {},
   "outputs": [],
   "source": [
    "%%bash\n",
    "/usr/local/bin/mongo demo --quiet\n",
    "\n",
    "db.contacts.find({\"name\": \"Hans de Boer\"}, {\"_id\":0, \"name\":1, \"email\":1})"
   ]
  },
  {
   "cell_type": "code",
   "execution_count": null,
   "metadata": {},
   "outputs": [],
   "source": []
  },
  {
   "cell_type": "markdown",
   "metadata": {},
   "source": [
    "## Selectie in een samengestelde waarde\n",
    "\n",
    "Het adres-veld is een samengestelde waarde. met de velden `address.street`, `address.city` en `address.poscode`. Ook in zo'n samengestelde waarde kun je zoeken:"
   ]
  },
  {
   "cell_type": "code",
   "execution_count": null,
   "metadata": {},
   "outputs": [],
   "source": [
    "%%bash\n",
    "/usr/local/bin/mongo demo --quiet\n",
    "\n",
    "db.contacts.find({\"address.city\": \"Amsterdam\"})"
   ]
  },
  {
   "cell_type": "markdown",
   "metadata": {},
   "source": [
    "## Selecteren en meervoudige waarden\n",
    "\n",
    "In de voorbeeld-documenten komen documenten voor met meervoudige waarden voor het `email`-veld. Met de enkelvoudige velden in de zoekopdracht vind je ook docementen met zo'n samengestelde waarde:"
   ]
  },
  {
   "cell_type": "code",
   "execution_count": null,
   "metadata": {},
   "outputs": [],
   "source": [
    "%%bash\n",
    "/usr/local/bin/mongo demo --quiet\n",
    "\n",
    "db.contacts.find({\"email\": \"leontien134@tiscalimail.nl\"})"
   ]
  },
  {
   "cell_type": "markdown",
   "metadata": {},
   "source": [
    "## And en or\n",
    "\n",
    "Als je in het query-document meerdere velden invult, dan voldoen de zoekresultaten aan de \"en\" (*and*) van deze ingevulde velden.\n",
    "\n",
    "Een *or* is wat ingewikkelder: je gebruikt daarvoor het pseudo-veld `$or`, met een lijst van alternatieven. Voorbeeld:"
   ]
  },
  {
   "cell_type": "code",
   "execution_count": null,
   "metadata": {},
   "outputs": [],
   "source": [
    "%%bash\n",
    "/usr/local/bin/mongo demo --quiet\n",
    "\n",
    "db.contacts.find({\"$or\": [{\"address.city\": \"Amsterdam\"}, {\"address.city\": \"Rotterdam\"} ]})"
   ]
  },
  {
   "cell_type": "markdown",
   "metadata": {},
   "source": [
    "## Opdrachten\n"
   ]
  },
  {
   "cell_type": "code",
   "execution_count": null,
   "metadata": {},
   "outputs": [],
   "source": []
  }
 ],
 "metadata": {
  "kernelspec": {
   "display_name": "Python 3",
   "language": "python",
   "name": "python3"
  },
  "language_info": {
   "codemirror_mode": {
    "name": "ipython",
    "version": 3
   },
   "file_extension": ".py",
   "mimetype": "text/x-python",
   "name": "python",
   "nbconvert_exporter": "python",
   "pygments_lexer": "ipython3",
   "version": "3.6.8"
  }
 },
 "nbformat": 4,
 "nbformat_minor": 2
}
