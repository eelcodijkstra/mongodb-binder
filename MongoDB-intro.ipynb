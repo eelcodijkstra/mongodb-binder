{
 "cells": [
  {
   "cell_type": "markdown",
   "metadata": {},
   "source": [
    "# Inleiding MongoDB\n",
    "\n",
    "* **Voorkennis:** [Inleiding Jupyter](Inleiding-Jupyter.ipynb)\n",
    "\n",
    "In dit notebook geven we een aantal voorbeelden van MongoDB, aan de hand van de MongoDB shell (de commando-regel).\n",
    "Hiermee kun je oefenen met zoekopdrachten e.d.\n",
    "Het gebruik van een MongoDB-database in een Python-toepassing hebben we uitgewerkt in de andere Notebooks.\n",
    "Meer informatie over de MongoDB shell-opdrachten vind je via: [Mongo shell](https://docs.mongodb.com/manual/mongo/)."
   ]
  },
  {
   "cell_type": "markdown",
   "metadata": {},
   "source": [
    "In dit notebook moet je per cell de mongo-shell opstarten; hiervoor gebruiken je de opdracht `mongo demo --quiet`.\n",
    "Daarna kun je één of meer mongo-shell opdrachten geven."
   ]
  },
  {
   "cell_type": "markdown",
   "metadata": {},
   "source": [
    "De onderstaande opdracht is nodig als initialisatie in sommige omgevingen."
   ]
  },
  {
   "cell_type": "code",
   "execution_count": 1,
   "metadata": {},
   "outputs": [],
   "source": [
    "import os\n",
    "os.environ[\"PATH\"] += \":/usr/local/bin\""
   ]
  },
  {
   "cell_type": "markdown",
   "metadata": {},
   "source": [
    "## Importeren voorbeeld-database\n",
    "\n",
    "Als eerste opdracht lezen we de voorbeeld-database in, met `mongoimport`. Dit hoeft je maar één keer per sessie te doen. Je kunt hiermee ook de database herstellen als je deze verziekt hebt.\n",
    "\n",
    "In de onderstaande opdracht importeren we de *collection* `contacts` uit het bestand `adressen.json`."
   ]
  },
  {
   "cell_type": "code",
   "execution_count": 2,
   "metadata": {},
   "outputs": [
    {
     "name": "stderr",
     "output_type": "stream",
     "text": [
      "2019-08-25T14:36:12.397+0200\tconnected to: localhost\n",
      "2019-08-25T14:36:12.400+0200\tdropping: demo.contacts\n",
      "2019-08-25T14:36:12.599+0200\timported 7 documents\n"
     ]
    }
   ],
   "source": [
    "%%bash\n",
    "mongoimport -d demo --drop -c contacts adressen.json"
   ]
  },
  {
   "cell_type": "markdown",
   "metadata": {},
   "source": [
    "Met de onderstaande opdracht bekijk je het bestand `adressen.json`.\n",
    "\n",
    "**Ga na**:\n",
    "\n",
    "* welke documenten hebben geen email-adres?\n",
    "* welke documenten hebben meerdere email-adressen?\n",
    "* welke documenten hebben geen adres?\n",
    "* welke documenten hebben geen postcode in het adres?\n"
   ]
  },
  {
   "cell_type": "code",
   "execution_count": 3,
   "metadata": {},
   "outputs": [
    {
     "name": "stdout",
     "output_type": "stream",
     "text": [
      "{\"name\": \"Hans de Boer\",\n",
      " \"email\": \"hdb@example.com\",\n",
      " \"tel\": \"06-1290 8746\"\n",
      "}\n",
      "{\"name\": \"Anna Verschuur\",\n",
      " \"email\": \"anna@hotmail.com\",\n",
      " \"address\": {\"street\": \"Noorderkade 102\",\n",
      "             \"city\": \"Amsterdam\",\n",
      "             \"postcode\": \"1000 AA\"\n",
      "            }\n",
      "}\n",
      "{\"name\": \"F.G. Schuitema\",\n",
      " \"address\": {\"street\": \"Eikenlaan 23\",\n",
      "             \"city\": \"Amsterdam\",\n",
      "             \"postcode\": \"1001 AB\"\n",
      "            }\n",
      "}\n",
      "{\"name\": \"Adrie Vierhuis\",\n",
      " \"email\": \"a34huis@gmail.com\",\n",
      " \"address\": {\"street\": \"Beukenweg 12\",\n",
      "             \"city\": \"Rotterdam\",\n",
      "             \"postcode\": \"2001 BC\"\n",
      "            },\n",
      "  \"tel\": \"010-123 123 9\"\n",
      "}\n",
      "{\"name\": \"Joop de Zwart\",\n",
      " \"email\": \"zwartejoop@ziggo.nl\",\n",
      " \"address\": {\"street\": \"Rozengracht 42\",\n",
      "             \"city\": \"Rotterdam\"}\n",
      "}\n",
      "{\"name\": \"Gijs Bennekom\",\n",
      " \"email\": \"gijsbkom@ziggo.nl\",\n",
      " \"address\": {\"street\": \"Lijsterlaan 132\",\n",
      "             \"city\": \"Rotterdam\"}\n",
      "}\n",
      "{\"name\": \"Leontien de Bruin \",\n",
      " \"email\":\n",
      " [\"lhmdebruin@hotmail.com\",\n",
      "  \"leontien134@tiscalimail.nl\"\n",
      " ],\n",
      " \"address\": {\"street\": \"Tulpstraat 17\",\n",
      "             \"city\": \"Amsterdam\"}\n",
      "}"
     ]
    }
   ],
   "source": [
    "%%bash\n",
    "cat adressen.json"
   ]
  },
  {
   "cell_type": "markdown",
   "metadata": {},
   "source": [
    "## Eerste zoekopdrachten\n",
    "\n",
    "De zoekopdracht in de mongo-shell heeft de vorm: `db.collection.find(query-doc)`. Hierin is `query-doc` het zoek- document waarin een deel van de velden ingevuld is. De zoekopdracht vindt alle documenten die matchen met dit zoek-document.\n",
    "\n",
    "Als je geen zoekdocument opgeeft, of een leeg zoekdocument (`{}`), dan krijg je alle documenten in de collection."
   ]
  },
  {
   "cell_type": "code",
   "execution_count": 4,
   "metadata": {},
   "outputs": [
    {
     "name": "stdout",
     "output_type": "stream",
     "text": [
      "{ \"_id\" : ObjectId(\"5d6280bc6f385c47986b6c52\"), \"name\" : \"Anna Verschuur\", \"email\" : \"anna@hotmail.com\", \"address\" : { \"street\" : \"Noorderkade 102\", \"city\" : \"Amsterdam\", \"postcode\" : \"1000 AA\" } }\n",
      "{ \"_id\" : ObjectId(\"5d6280bc6f385c47986b6c53\"), \"name\" : \"Joop de Zwart\", \"email\" : \"zwartejoop@ziggo.nl\", \"address\" : { \"street\" : \"Rozengracht 42\", \"city\" : \"Rotterdam\" } }\n",
      "{ \"_id\" : ObjectId(\"5d6280bc6f385c47986b6c54\"), \"name\" : \"Adrie Vierhuis\", \"email\" : \"a34huis@gmail.com\", \"address\" : { \"street\" : \"Beukenweg 12\", \"city\" : \"Rotterdam\", \"postcode\" : \"2001 BC\" }, \"tel\" : \"010-123 123 9\" }\n",
      "{ \"_id\" : ObjectId(\"5d6280bc6f385c47986b6c55\"), \"name\" : \"Gijs Bennekom\", \"email\" : \"gijsbkom@ziggo.nl\", \"address\" : { \"street\" : \"Lijsterlaan 132\", \"city\" : \"Rotterdam\" } }\n",
      "{ \"_id\" : ObjectId(\"5d6280bc6f385c47986b6c56\"), \"name\" : \"Leontien de Bruin \", \"email\" : [ \"lhmdebruin@hotmail.com\", \"leontien134@tiscalimail.nl\" ], \"address\" : { \"street\" : \"Tulpstraat 17\", \"city\" : \"Amsterdam\" } }\n",
      "{ \"_id\" : ObjectId(\"5d6280bc6f385c47986b6c57\"), \"name\" : \"Hans de Boer\", \"email\" : \"hdb@example.com\", \"tel\" : \"06-1290 8746\" }\n",
      "{ \"_id\" : ObjectId(\"5d6280bc6f385c47986b6c58\"), \"name\" : \"F.G. Schuitema\", \"address\" : { \"street\" : \"Eikenlaan 23\", \"city\" : \"Amsterdam\", \"postcode\" : \"1001 AB\" } }\n"
     ]
    }
   ],
   "source": [
    "%%bash\n",
    "mongo demo --quiet\n",
    "\n",
    "db.contacts.find({})"
   ]
  },
  {
   "cell_type": "markdown",
   "metadata": {},
   "source": [
    "### Key: `_id`-veld\n",
    "\n",
    "Merk op dat de geïmporteerde documenten een veld `_id` hebben: dit is de unieke key van het document die MongoDB automatisch aangemaakt heeft. Deze key is uniek voor alle databases en collections."
   ]
  },
  {
   "cell_type": "markdown",
   "metadata": {},
   "source": [
    "### Zoeken naar enkel document\n",
    "\n",
    "Door een veld op te geven dat uniek is binnen de collectie, vind je een enkel document."
   ]
  },
  {
   "cell_type": "code",
   "execution_count": 5,
   "metadata": {},
   "outputs": [
    {
     "name": "stdout",
     "output_type": "stream",
     "text": [
      "{ \"_id\" : ObjectId(\"5d6280bc6f385c47986b6c57\"), \"name\" : \"Hans de Boer\", \"email\" : \"hdb@example.com\", \"tel\" : \"06-1290 8746\" }\n"
     ]
    }
   ],
   "source": [
    "%%bash\n",
    "mongo demo --quiet\n",
    "\n",
    "db.contacts.find({\"name\": \"Hans de Boer\"})"
   ]
  },
  {
   "cell_type": "markdown",
   "metadata": {},
   "source": [
    "**Opdracht** zoek een document op basis van het email-veld."
   ]
  },
  {
   "cell_type": "code",
   "execution_count": 6,
   "metadata": {},
   "outputs": [
    {
     "name": "stdout",
     "output_type": "stream",
     "text": [
      "2019-08-25T14:36:14.666+0200 E QUERY    [js] SyntaxError: invalid property id @(shell):1:18\n"
     ]
    }
   ],
   "source": [
    "%%bash\n",
    "mongo demo --quiet\n",
    "\n",
    "db.contacts.find({???})"
   ]
  },
  {
   "cell_type": "markdown",
   "metadata": {},
   "source": [
    "**Opdracht** zoek een document op basis van het `_id`-veld."
   ]
  },
  {
   "cell_type": "code",
   "execution_count": 7,
   "metadata": {},
   "outputs": [
    {
     "name": "stdout",
     "output_type": "stream",
     "text": [
      "2019-08-25T14:36:15.063+0200 E QUERY    [js] SyntaxError: invalid property id @(shell):1:18\n"
     ]
    }
   ],
   "source": [
    "%%bash\n",
    "mongo demo --quiet\n",
    "\n",
    "db.contacts.find({???})"
   ]
  },
  {
   "cell_type": "markdown",
   "metadata": {},
   "source": [
    "## Projectie\n",
    "\n",
    "Met \"find\" selecteren we een verzameling documenten. De algemene vorm is: `db.collection.find({<selection>}, {<projection>})`. Met het projectie-document geef je aan welke velden van deze documenten je in het resultaat wilt zien: een veld in het resultaat geeft je aan met `fieldname:1`; het weglaten van een veld geef je aan met `fieldname:0`. Afgezien van het `_id`-field, kun je in een projectie-document alleen \"0\"-en of \"1\"-en opgeven.\n",
    "\n",
    "> In een SQL-querie geef je na de `SELECT` een opsomming van de kolommen in het resultaat: dit is de SQL-vorm van projectie.\n",
    "\n",
    "**Voorbeeld**"
   ]
  },
  {
   "cell_type": "code",
   "execution_count": 8,
   "metadata": {},
   "outputs": [
    {
     "name": "stdout",
     "output_type": "stream",
     "text": [
      "{ \"name\" : \"Hans de Boer\", \"email\" : \"hdb@example.com\" }\n"
     ]
    }
   ],
   "source": [
    "%%bash\n",
    "mongo demo --quiet\n",
    "\n",
    "db.contacts.find({\"name\": \"Hans de Boer\"}, {\"_id\":0, \"name\":1, \"email\": 1})"
   ]
  },
  {
   "cell_type": "markdown",
   "metadata": {},
   "source": [
    "**Opdracht.** De volgorde van de velden in het resultaat hangt af van de oorspronkelijke definitie van het document, niet van de volgorde van de velden in de projectie. **Ga dit na**, door onderstaande query aan te passen.\n",
    "\n",
    "> Dit is een verschil met SQL: daar bepaalt de query de volgorde van de kolommen in het resultaat."
   ]
  },
  {
   "cell_type": "code",
   "execution_count": 9,
   "metadata": {},
   "outputs": [
    {
     "name": "stdout",
     "output_type": "stream",
     "text": [
      "{ \"name\" : \"Hans de Boer\", \"email\" : \"hdb@example.com\" }\n"
     ]
    }
   ],
   "source": [
    "%%bash\n",
    "mongo demo --quiet\n",
    "\n",
    "db.contacts.find({\"name\": \"Hans de Boer\"}, {\"_id\":0, \"name\":1, \"email\": 1})"
   ]
  },
  {
   "cell_type": "markdown",
   "metadata": {},
   "source": [
    "## Selectie in een samengestelde waarde\n",
    "\n",
    "Het adres-veld is een samengestelde waarde, met de velden `address.street`, `address.city` en `address.poscode`. Ook in zo'n samengestelde waarde kun je zoeken:"
   ]
  },
  {
   "cell_type": "code",
   "execution_count": 10,
   "metadata": {},
   "outputs": [
    {
     "name": "stdout",
     "output_type": "stream",
     "text": [
      "{ \"_id\" : ObjectId(\"5d6280bc6f385c47986b6c52\"), \"name\" : \"Anna Verschuur\", \"email\" : \"anna@hotmail.com\", \"address\" : { \"street\" : \"Noorderkade 102\", \"city\" : \"Amsterdam\", \"postcode\" : \"1000 AA\" } }\n",
      "{ \"_id\" : ObjectId(\"5d6280bc6f385c47986b6c56\"), \"name\" : \"Leontien de Bruin \", \"email\" : [ \"lhmdebruin@hotmail.com\", \"leontien134@tiscalimail.nl\" ], \"address\" : { \"street\" : \"Tulpstraat 17\", \"city\" : \"Amsterdam\" } }\n",
      "{ \"_id\" : ObjectId(\"5d6280bc6f385c47986b6c58\"), \"name\" : \"F.G. Schuitema\", \"address\" : { \"street\" : \"Eikenlaan 23\", \"city\" : \"Amsterdam\", \"postcode\" : \"1001 AB\" } }\n"
     ]
    }
   ],
   "source": [
    "%%bash\n",
    "mongo demo --quiet\n",
    "\n",
    "db.contacts.find({\"address.city\": \"Amsterdam\"})"
   ]
  },
  {
   "cell_type": "markdown",
   "metadata": {},
   "source": [
    "**Opdracht** Dit heeft een andere betekenis dan `{\"address\":{\"city\": \"Amsterdam\"}}` . **Ga dit na**. (Waarom zou dat zo zijn?)"
   ]
  },
  {
   "cell_type": "code",
   "execution_count": 11,
   "metadata": {},
   "outputs": [
    {
     "name": "stdout",
     "output_type": "stream",
     "text": [
      "2019-08-25T14:36:16.711+0200 E QUERY    [js] SyntaxError: invalid property id @(shell):1:18\n"
     ]
    }
   ],
   "source": [
    "%%bash\n",
    "mongo demo --quiet\n",
    "\n",
    "db.contacts.find({???}})"
   ]
  },
  {
   "cell_type": "markdown",
   "metadata": {},
   "source": [
    "**Opdracht.** Je kunt selectie en projectie combineren. \n",
    "Maak een query met als resultaat (alleen) de namen van alle contacten met woonplaats Amsterdam."
   ]
  },
  {
   "cell_type": "code",
   "execution_count": 12,
   "metadata": {},
   "outputs": [
    {
     "name": "stdout",
     "output_type": "stream",
     "text": [
      "2019-08-25T14:36:17.063+0200 E QUERY    [js] SyntaxError: invalid property id @(shell):1:18\n"
     ]
    }
   ],
   "source": [
    "%%bash\n",
    "mongo demo --quiet\n",
    "\n",
    "db.contacts.find({<selectie>}, {<projectie>})"
   ]
  },
  {
   "cell_type": "markdown",
   "metadata": {},
   "source": [
    "## Selectie en meervoudige waarden\n",
    "\n",
    "In de voorbeeld-documenten komen documenten voor met meervoudige waarden voor het `email`-veld. Met een enkelvoudig veld in de zoekopdracht vind je ook docementen met zo'n samengestelde waarde:"
   ]
  },
  {
   "cell_type": "code",
   "execution_count": 13,
   "metadata": {},
   "outputs": [
    {
     "name": "stdout",
     "output_type": "stream",
     "text": [
      "{ \"_id\" : ObjectId(\"5d6280bc6f385c47986b6c56\"), \"name\" : \"Leontien de Bruin \", \"email\" : [ \"lhmdebruin@hotmail.com\", \"leontien134@tiscalimail.nl\" ], \"address\" : { \"street\" : \"Tulpstraat 17\", \"city\" : \"Amsterdam\" } }\n"
     ]
    }
   ],
   "source": [
    "%%bash\n",
    "mongo demo --quiet\n",
    "\n",
    "db.contacts.find({\"email\": \"leontien134@tiscalimail.nl\"})"
   ]
  },
  {
   "cell_type": "markdown",
   "metadata": {},
   "source": [
    "## And en or\n",
    "\n",
    "Als je in het query-document meerdere velden invult, dan voldoen de zoekresultaten aan de \"en\" (*and*) van deze ingevulde velden.\n",
    "\n",
    "Een *or* is wat ingewikkelder: je gebruikt daarvoor een `$or`, met een lijst van alternatieven. Voorbeeld:"
   ]
  },
  {
   "cell_type": "code",
   "execution_count": 14,
   "metadata": {},
   "outputs": [
    {
     "name": "stdout",
     "output_type": "stream",
     "text": [
      "{ \"_id\" : ObjectId(\"5d6280bc6f385c47986b6c52\"), \"name\" : \"Anna Verschuur\", \"email\" : \"anna@hotmail.com\", \"address\" : { \"street\" : \"Noorderkade 102\", \"city\" : \"Amsterdam\", \"postcode\" : \"1000 AA\" } }\n",
      "{ \"_id\" : ObjectId(\"5d6280bc6f385c47986b6c53\"), \"name\" : \"Joop de Zwart\", \"email\" : \"zwartejoop@ziggo.nl\", \"address\" : { \"street\" : \"Rozengracht 42\", \"city\" : \"Rotterdam\" } }\n",
      "{ \"_id\" : ObjectId(\"5d6280bc6f385c47986b6c54\"), \"name\" : \"Adrie Vierhuis\", \"email\" : \"a34huis@gmail.com\", \"address\" : { \"street\" : \"Beukenweg 12\", \"city\" : \"Rotterdam\", \"postcode\" : \"2001 BC\" }, \"tel\" : \"010-123 123 9\" }\n",
      "{ \"_id\" : ObjectId(\"5d6280bc6f385c47986b6c55\"), \"name\" : \"Gijs Bennekom\", \"email\" : \"gijsbkom@ziggo.nl\", \"address\" : { \"street\" : \"Lijsterlaan 132\", \"city\" : \"Rotterdam\" } }\n",
      "{ \"_id\" : ObjectId(\"5d6280bc6f385c47986b6c56\"), \"name\" : \"Leontien de Bruin \", \"email\" : [ \"lhmdebruin@hotmail.com\", \"leontien134@tiscalimail.nl\" ], \"address\" : { \"street\" : \"Tulpstraat 17\", \"city\" : \"Amsterdam\" } }\n",
      "{ \"_id\" : ObjectId(\"5d6280bc6f385c47986b6c58\"), \"name\" : \"F.G. Schuitema\", \"address\" : { \"street\" : \"Eikenlaan 23\", \"city\" : \"Amsterdam\", \"postcode\" : \"1001 AB\" } }\n"
     ]
    }
   ],
   "source": [
    "%%bash\n",
    "mongo demo --quiet\n",
    "\n",
    "db.contacts.find({\"$or\": [{\"address.city\": \"Amsterdam\"}, {\"address.city\": \"Rotterdam\"} ]})"
   ]
  },
  {
   "cell_type": "markdown",
   "metadata": {},
   "source": [
    "## Ontbrekende velden\n",
    "\n",
    "Zoals we gezien hebben kunnen de documenten in een collection nogal verschillen in de velden die ze definiëren.\n",
    "Met de query `{field: {$exists: false}}` vind je de documenten zonder `field`."
   ]
  },
  {
   "cell_type": "code",
   "execution_count": 15,
   "metadata": {},
   "outputs": [
    {
     "name": "stdout",
     "output_type": "stream",
     "text": [
      "{ \"_id\" : ObjectId(\"5d6280bc6f385c47986b6c57\"), \"name\" : \"Hans de Boer\", \"email\" : \"hdb@example.com\", \"tel\" : \"06-1290 8746\" }\n"
     ]
    }
   ],
   "source": [
    "%%bash\n",
    "mongo demo --quiet\n",
    "\n",
    "db.contacts.find({\"address.city\": {\"$exists\": false}})"
   ]
  },
  {
   "cell_type": "markdown",
   "metadata": {},
   "source": [
    "**Opdracht** vind de documenten zonder postcode."
   ]
  },
  {
   "cell_type": "code",
   "execution_count": 16,
   "metadata": {},
   "outputs": [
    {
     "name": "stdout",
     "output_type": "stream",
     "text": [
      "2019-08-25T14:36:18.743+0200 E QUERY    [js] SyntaxError: invalid property id @(shell):1:18\n"
     ]
    }
   ],
   "source": [
    "%%bash\n",
    "mongo demo --quiet\n",
    "\n",
    "db.contacts.find({???})"
   ]
  },
  {
   "cell_type": "markdown",
   "metadata": {},
   "source": [
    "**Opdracht.** vind de documenten **met** postcode. (Wat is het alternatief voor `false`?)"
   ]
  },
  {
   "cell_type": "code",
   "execution_count": 17,
   "metadata": {},
   "outputs": [
    {
     "name": "stdout",
     "output_type": "stream",
     "text": [
      "2019-08-25T14:36:19.090+0200 E QUERY    [js] SyntaxError: invalid property id @(shell):1:18\n"
     ]
    }
   ],
   "source": [
    "%%bash\n",
    "mongo demo --quiet\n",
    "\n",
    "db.contacts.find({???})"
   ]
  },
  {
   "cell_type": "markdown",
   "metadata": {},
   "source": [
    "## Reguliere expressies\n",
    "\n",
    "In de query kun je ook een *reguliere expressie* opgeven, om op een ruimere manier strings te matchen.\n",
    "Zie voor de uitgebreide mogelijkheden de MongoDB-documentatie.\n",
    "\n",
    "Een voorbeeld hoe je dit in MongoDB gebruikt: zoek alle documenten waarvan de `address.city`-string de substring `dam` bevat. (In dit geval, \"Amsterdam\" en \"Rotterdam\")."
   ]
  },
  {
   "cell_type": "code",
   "execution_count": 18,
   "metadata": {},
   "outputs": [
    {
     "name": "stdout",
     "output_type": "stream",
     "text": [
      "{ \"_id\" : ObjectId(\"5d6280bc6f385c47986b6c52\"), \"name\" : \"Anna Verschuur\", \"email\" : \"anna@hotmail.com\", \"address\" : { \"street\" : \"Noorderkade 102\", \"city\" : \"Amsterdam\", \"postcode\" : \"1000 AA\" } }\n",
      "{ \"_id\" : ObjectId(\"5d6280bc6f385c47986b6c53\"), \"name\" : \"Joop de Zwart\", \"email\" : \"zwartejoop@ziggo.nl\", \"address\" : { \"street\" : \"Rozengracht 42\", \"city\" : \"Rotterdam\" } }\n",
      "{ \"_id\" : ObjectId(\"5d6280bc6f385c47986b6c54\"), \"name\" : \"Adrie Vierhuis\", \"email\" : \"a34huis@gmail.com\", \"address\" : { \"street\" : \"Beukenweg 12\", \"city\" : \"Rotterdam\", \"postcode\" : \"2001 BC\" }, \"tel\" : \"010-123 123 9\" }\n",
      "{ \"_id\" : ObjectId(\"5d6280bc6f385c47986b6c55\"), \"name\" : \"Gijs Bennekom\", \"email\" : \"gijsbkom@ziggo.nl\", \"address\" : { \"street\" : \"Lijsterlaan 132\", \"city\" : \"Rotterdam\" } }\n",
      "{ \"_id\" : ObjectId(\"5d6280bc6f385c47986b6c56\"), \"name\" : \"Leontien de Bruin \", \"email\" : [ \"lhmdebruin@hotmail.com\", \"leontien134@tiscalimail.nl\" ], \"address\" : { \"street\" : \"Tulpstraat 17\", \"city\" : \"Amsterdam\" } }\n",
      "{ \"_id\" : ObjectId(\"5d6280bc6f385c47986b6c58\"), \"name\" : \"F.G. Schuitema\", \"address\" : { \"street\" : \"Eikenlaan 23\", \"city\" : \"Amsterdam\", \"postcode\" : \"1001 AB\" } }\n"
     ]
    }
   ],
   "source": [
    "%%bash\n",
    "mongo demo --quiet\n",
    "\n",
    "db.contacts.find({\"address.city\": {\"$regex\": /dam/}})"
   ]
  },
  {
   "cell_type": "markdown",
   "metadata": {},
   "source": [
    "**Opdracht.** Zoek alle documenten waarvan de naam \"Anna\" bevat."
   ]
  },
  {
   "cell_type": "code",
   "execution_count": 19,
   "metadata": {},
   "outputs": [
    {
     "name": "stdout",
     "output_type": "stream",
     "text": [
      "2019-08-25T14:36:19.838+0200 E QUERY    [js] SyntaxError: invalid property id @(shell):1:18\n"
     ]
    }
   ],
   "source": [
    "%%bash\n",
    "mongo demo --quiet\n",
    "\n",
    "db.contacts.find({???})"
   ]
  },
  {
   "cell_type": "markdown",
   "metadata": {},
   "source": [
    "## Verder\n",
    "\n",
    "* [Inhoudsopgave](Inhoud.ipynb)"
   ]
  },
  {
   "cell_type": "code",
   "execution_count": null,
   "metadata": {},
   "outputs": [],
   "source": []
  }
 ],
 "metadata": {
  "kernelspec": {
   "display_name": "Python 3",
   "language": "python",
   "name": "python3"
  },
  "language_info": {
   "codemirror_mode": {
    "name": "ipython",
    "version": 3
   },
   "file_extension": ".py",
   "mimetype": "text/x-python",
   "name": "python",
   "nbconvert_exporter": "python",
   "pygments_lexer": "ipython3",
   "version": "3.6.8"
  }
 },
 "nbformat": 4,
 "nbformat_minor": 2
}
