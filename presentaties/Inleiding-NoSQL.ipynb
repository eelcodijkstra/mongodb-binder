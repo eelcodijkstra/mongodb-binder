{
 "cells": [
  {
   "cell_type": "markdown",
   "metadata": {
    "jupyter": {
     "source_hidden": true
    },
    "slideshow": {
     "slide_type": "slide"
    }
   },
   "source": [
    "## Inleiding NoSQL"
   ]
  },
  {
   "cell_type": "markdown",
   "metadata": {
    "slideshow": {
     "slide_type": "slide"
    }
   },
   "source": [
    "## Samenvatting relationele databases (SQL)\n",
    "\n",
    "* alle data in rechthoekige tabellen\n",
    "* JOIN: combineren van tabellen\n",
    "* normalisatie: \"one source of truth\"\n",
    "* RDMBS lost veel problemen voor toepassingen op"
   ]
  },
  {
   "cell_type": "markdown",
   "metadata": {
    "slideshow": {
     "slide_type": "subslide"
    }
   },
   "source": [
    "### Alle data in rechthoekige tabellen\n",
    "\n",
    "* tabel is *relatie*\n",
    "* kolom heeft *naam* en *type*\n",
    "* *key* identificeert rij in tabel\n",
    "* verwijzingen tussen tabellen\n",
    "    * foreign key identificeert rij in andere tabel\n"
   ]
  },
  {
   "cell_type": "markdown",
   "metadata": {
    "slideshow": {
     "slide_type": "subslide"
    }
   },
   "source": [
    "![rechthoekige-data.png](rechthoekige-data.png)"
   ]
  },
  {
   "cell_type": "markdown",
   "metadata": {
    "slideshow": {
     "slide_type": "subslide"
    }
   },
   "source": [
    "### JOIN: combineren van tabellen\n",
    "\n",
    "* door normalisatie gegevens verdeeld over veel tabellen\n",
    "* JOIN: combineren van gegevens uit meerdere tabellen"
   ]
  },
  {
   "cell_type": "markdown",
   "metadata": {
    "slideshow": {
     "slide_type": "subslide"
    }
   },
   "source": [
    "![join.png](join.png)"
   ]
  },
  {
   "cell_type": "markdown",
   "metadata": {
    "slideshow": {
     "slide_type": "subslide"
    }
   },
   "source": [
    "### Normalisatie: \"one source of truth\"\n",
    "\n",
    "* elk gegeven (\"feit\") op 1 plek in de database\n",
    "* voorkom duplicatie door verwijzingen (naar andere tabel)\n",
    "* -> consistentie bij veranderingen"
   ]
  },
  {
   "cell_type": "markdown",
   "metadata": {
    "slideshow": {
     "slide_type": "subslide"
    }
   },
   "source": [
    "### RDBMS vereenvoudigt toepassingen\n",
    "\n",
    "* RDBMS voorziet in consistentie van data\n",
    "* vereenvoudigt toepassingen"
   ]
  },
  {
   "cell_type": "markdown",
   "metadata": {
    "slideshow": {
     "slide_type": "slide"
    }
   },
   "source": [
    "## NoSQL: waarom?\n",
    "\n",
    "* data: niet altijd rechthoekig\n",
    "* gebruik: soms snelheid belangrijker dan consistentie\n",
    "* schaling en distributie: veel data en/of veel gebruikers"
   ]
  },
  {
   "cell_type": "markdown",
   "metadata": {
    "slideshow": {
     "slide_type": "subslide"
    }
   },
   "source": [
    "### Data: niet altijd rechthoekig\n",
    "\n",
    "* meerwaardige attributen\n",
    "* optionele attributen (NULL)\n",
    "\n",
    "*Oplossing in SQL vraagt (veel) extra tabellen*"
   ]
  },
  {
   "cell_type": "markdown",
   "metadata": {
    "slideshow": {
     "slide_type": "subslide"
    }
   },
   "source": [
    "![Contact-event-relatie](Contact-event-relatie.png)"
   ]
  },
  {
   "cell_type": "markdown",
   "metadata": {
    "slideshow": {
     "slide_type": "subslide"
    }
   },
   "source": [
    "### Gebruik: snelheid boven consistentie\n",
    "\n",
    "* soms snelheid erg belangrijk\n",
    "* en \"eventual consistency\" voldoende\n",
    "* optimalisatie voor enkele toepassing\n",
    "    * uitgangspunt: bekende queries"
   ]
  },
  {
   "cell_type": "markdown",
   "metadata": {
    "slideshow": {
     "slide_type": "subslide"
    }
   },
   "source": [
    "### Schaling en distributie\n",
    "\n",
    "* schaling - veel data en/of veel gebruikers\n",
    "    * sharding: verdelen van data (vlg. key) over servers\n",
    "    * replicatie: zelfde data op meerdere servers\n",
    "* distributie van data\n",
    "    * *lokale kopie* voor beschikbaarheid en snelheid\n",
    "    * -> synchronisatie tussen verschillende servers,\n",
    "    * of tussen client (bijv. smartphone) en server\n",
    "    \n",
    "Door *replicatie* en *distributie* niet meer \"one source of truth\""
   ]
  },
  {
   "cell_type": "markdown",
   "metadata": {
    "slideshow": {
     "slide_type": "slide"
    }
   },
   "source": [
    "## NoSQL: hoe?\n",
    "\n",
    "* key-value database (e.g. IndexedDB)\n",
    "* *document database* (e.g. ***MongoDB***, CouchDB)\n",
    "* object database\n",
    "* graph database\n",
    "* ...\n",
    "* multi-model database"
   ]
  },
  {
   "cell_type": "markdown",
   "metadata": {},
   "source": [
    "<div>\n",
    "<img src=\"attachment:rechthoekige-data.png\" width=\"500\"/>\n",
    "</div>"
   ]
  },
  {
   "cell_type": "markdown",
   "metadata": {},
   "source": [
    "<div>\n",
    "<img src=\"attachment:rechthoekige-data.png\" width=\"500\"/>\n",
    "</div>"
   ]
  },
  {
   "cell_type": "code",
   "execution_count": null,
   "metadata": {},
   "outputs": [],
   "source": []
  }
 ],
 "metadata": {
  "celltoolbar": "Diavoorstelling",
  "kernelspec": {
   "display_name": "Python 3",
   "language": "python",
   "name": "python3"
  },
  "language_info": {
   "codemirror_mode": {
    "name": "ipython",
    "version": 3
   },
   "file_extension": ".py",
   "mimetype": "text/x-python",
   "name": "python",
   "nbconvert_exporter": "python",
   "pygments_lexer": "ipython3",
   "version": "3.7.6"
  }
 },
 "nbformat": 4,
 "nbformat_minor": 4
}
