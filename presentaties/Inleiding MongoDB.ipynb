{
 "cells": [
  {
   "cell_type": "markdown",
   "metadata": {
    "slideshow": {
     "slide_type": "slide"
    }
   },
   "source": [
    "# Inleiding MongoDB"
   ]
  },
  {
   "cell_type": "markdown",
   "metadata": {
    "slideshow": {
     "slide_type": "slide"
    }
   },
   "source": [
    "## MongoDB: document database\n",
    "\n",
    "Wat is een *document*?\n",
    "\n",
    "* gestructureerde data (benoemde velden/waarden)\n",
    "* met nesting en herhaling (arrays)\n",
    "* vgl. JSON - als \"serialisatie\" van JavaScript/Python object\n",
    "* MongoDB: *key* (`_id`) voor identificatie"
   ]
  },
  {
   "cell_type": "markdown",
   "metadata": {
    "slideshow": {
     "slide_type": "subslide"
    }
   },
   "source": [
    "#### JSON voorbeeld\n",
    "\n",
    "```JSON\n",
    "{ \"naam\": \"Fred de Boer\",\n",
    "  \"email\": \"fdeboer@mymail.nl\",\n",
    "  \"telefoon: [\"013-7788990\", \"06-12398765\"]\n",
    "  \"adres\": {\"straat\": \"Dorpsstraat 22\",\n",
    "            \"plaats\": \"Ons Dorp\",\n",
    "            \"postcode\": \"1234 AZ\"\n",
    "           }\n",
    "}\n",
    "            \n",
    "```"
   ]
  },
  {
   "cell_type": "markdown",
   "metadata": {
    "slideshow": {
     "slide_type": "slide"
    }
   },
   "source": [
    "Nodig voor de volgende opdrachten, in deze omgeving:"
   ]
  },
  {
   "cell_type": "code",
   "execution_count": null,
   "metadata": {},
   "outputs": [],
   "source": [
    "import os\n",
    "os.environ[\"PATH\"] += \":/usr/local/bin\""
   ]
  },
  {
   "cell_type": "code",
   "execution_count": null,
   "metadata": {},
   "outputs": [],
   "source": [
    "%%bash\n",
    "mongoimport -d demo --drop -c contacts adressen.json"
   ]
  },
  {
   "cell_type": "code",
   "execution_count": null,
   "metadata": {},
   "outputs": [],
   "source": [
    "%%bash\n",
    "cat adressen.json"
   ]
  },
  {
   "cell_type": "markdown",
   "metadata": {
    "slideshow": {
     "slide_type": "slide"
    }
   },
   "source": [
    "## Opdrachten in mongoDB-shell\n",
    "\n",
    "```\n",
    "%%bash                  <-- switch van Python naar bash-shell\n",
    "mongo demo --quiet      <-- start mongoDB shell\n",
    "\n",
    "db.contacts.find({})    <-- mongoDB shell opdracht\n",
    "```"
   ]
  },
  {
   "cell_type": "markdown",
   "metadata": {
    "slideshow": {
     "slide_type": "slide"
    }
   },
   "source": [
    "### find: selecteren van documenten\n",
    "\n",
    "`find( {} )`: alle documenten"
   ]
  },
  {
   "cell_type": "code",
   "execution_count": null,
   "metadata": {},
   "outputs": [],
   "source": [
    "%%bash \n",
    "mongo demo --quiet\n",
    "\n",
    "db.contacts.find({})"
   ]
  },
  {
   "cell_type": "markdown",
   "metadata": {
    "slideshow": {
     "slide_type": "subslide"
    }
   },
   "source": [
    "`find( condition )`: selecteer documenten volgens `condition`\n",
    "\n",
    "`condition`: een BSON-document, mogelijk met operatoren en wildcards"
   ]
  },
  {
   "cell_type": "code",
   "execution_count": null,
   "metadata": {},
   "outputs": [],
   "source": [
    "%%bash \n",
    "mongo demo --quiet\n",
    "\n",
    "db.contacts.find({\"name\": \"Leontien de Bruin\"})"
   ]
  },
  {
   "cell_type": "markdown",
   "metadata": {
    "slideshow": {
     "slide_type": "subslide"
    }
   },
   "source": [
    "Zoeken in een samengesteld (genest) attribuut"
   ]
  },
  {
   "cell_type": "code",
   "execution_count": null,
   "metadata": {},
   "outputs": [],
   "source": [
    "%%bash \n",
    "mongo demo --quiet\n",
    "\n",
    "db.contacts.find({\"address.city\": \"Rotterdam\"})"
   ]
  },
  {
   "cell_type": "markdown",
   "metadata": {
    "slideshow": {
     "slide_type": "subslide"
    }
   },
   "source": [
    "Zoeken in een (mogelijk) meerwaardig attribuut"
   ]
  },
  {
   "cell_type": "code",
   "execution_count": null,
   "metadata": {},
   "outputs": [],
   "source": [
    "%%bash \n",
    "mongo demo --quiet\n",
    "\n",
    "db.contacts.find({\"email\": \"lhmdebruin@hotmail.com\"})"
   ]
  },
  {
   "cell_type": "markdown",
   "metadata": {
    "slideshow": {
     "slide_type": "subslide"
    }
   },
   "source": [
    "Zoeken met reguliere expressies (wildcards)"
   ]
  },
  {
   "cell_type": "code",
   "execution_count": null,
   "metadata": {},
   "outputs": [],
   "source": [
    "%%bash \n",
    "mongo demo --quiet\n",
    "\n",
    "db.contacts.find({\"email\": /ziggo/})"
   ]
  },
  {
   "cell_type": "markdown",
   "metadata": {
    "slideshow": {
     "slide_type": "slide"
    }
   },
   "source": [
    "## key: genereren of zelf opgeven?\n",
    "\n"
   ]
  },
  {
   "cell_type": "markdown",
   "metadata": {
    "slideshow": {
     "slide_type": "fragment"
    }
   },
   "source": [
    "Elk document heeft een `_id`-veld: unieke key\n",
    "\n",
    "* door MongoDB gegenereerd \n",
    "* of: zelf opgeven"
   ]
  },
  {
   "cell_type": "markdown",
   "metadata": {
    "slideshow": {
     "slide_type": "slide"
    }
   },
   "source": [
    "## Aan de slag: jupyter notebook\n",
    "\n",
    "* https://mybinder.org/v2/gh/infvo/mongodb-binder.git/master?filepath=Inhoud.ipynb\n",
    "    * opstarten duurt even...\n",
    "* handleiding Jupyter Notebook (Jupyter Lab):\n",
    "    * Inleiding-Jupyter.ipynb\n",
    "    * https://www.youtube.com/watch?v=jZ952vChhuI\n",
    "* handig: SHIFT-RETURN voert huidige cel uit\n"
   ]
  },
  {
   "cell_type": "markdown",
   "metadata": {
    "slideshow": {
     "slide_type": "slide"
    }
   },
   "source": [
    "## Huiswerk\n",
    "\n",
    "MongoDB in Python\n",
    "\n",
    "* Connect\n",
    "* Find \n",
    "* CRUD\n"
   ]
  }
 ],
 "metadata": {
  "celltoolbar": "Diavoorstelling",
  "kernelspec": {
   "display_name": "Python 3",
   "language": "python",
   "name": "python3"
  },
  "language_info": {
   "codemirror_mode": {
    "name": "ipython",
    "version": 3
   },
   "file_extension": ".py",
   "mimetype": "text/x-python",
   "name": "python",
   "nbconvert_exporter": "python",
   "pygments_lexer": "ipython3",
   "version": "3.7.6"
  }
 },
 "nbformat": 4,
 "nbformat_minor": 4
}
