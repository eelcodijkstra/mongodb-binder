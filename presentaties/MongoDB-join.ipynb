{
 "cells": [
  {
   "cell_type": "markdown",
   "metadata": {
    "slideshow": {
     "slide_type": "skip"
    }
   },
   "source": [
    "# MongoDB - join\n",
    "\n",
    "MongoDB is een document database."
   ]
  },
  {
   "cell_type": "markdown",
   "metadata": {
    "slideshow": {
     "slide_type": "slide"
    }
   },
   "source": [
    "MongoDB:\n",
    "\n",
    "* document: zelf-beschrijvende gestructureerde data\n",
    "    * met mogelijk samengestelde waarden\n",
    "    * met mogelijk meerwaardige waarden\n",
    "    * ook: combineren meerwaardig en samengesteld\n",
    "* collection: verzameling \"gelijksoortige\" documenten"
   ]
  },
  {
   "cell_type": "markdown",
   "metadata": {
    "slideshow": {
     "slide_type": "fragment"
    }
   },
   "source": [
    "*Hoe vertaal je een datamodel naar een MongoDB-database?*"
   ]
  },
  {
   "cell_type": "markdown",
   "metadata": {
    "slideshow": {
     "slide_type": "slide"
    }
   },
   "source": [
    "![persoon-event model](persoon-event-relatie.png)"
   ]
  },
  {
   "cell_type": "markdown",
   "metadata": {
    "slideshow": {
     "slide_type": "subslide"
    }
   },
   "source": [
    "Voorbeeldmodel\n",
    "\n",
    "* personen\n",
    "    * elke persoon neemt mogelijk deel in meerdere events\n",
    "* events\n",
    "    * elk event heeft mogelijk meerdere deelnemers (personen)\n",
    "* relatie tussen personen en events?"
   ]
  },
  {
   "cell_type": "markdown",
   "metadata": {
    "slideshow": {
     "slide_type": "fragment"
    }
   },
   "source": [
    "In SQL: apart relatie-object nodig (\"deelnemers\" o.i.d.)"
   ]
  },
  {
   "cell_type": "markdown",
   "metadata": {
    "slideshow": {
     "slide_type": "fragment"
    }
   },
   "source": [
    "In MongoDB: inbedden of verwijzen (embedding or referencing)"
   ]
  },
  {
   "cell_type": "markdown",
   "metadata": {
    "slideshow": {
     "slide_type": "subslide"
    }
   },
   "source": [
    "Inbedden van persoon-documenten bij events???\n",
    "```\n",
    " {'_id': 2, 'datum': '2020-12-13', 'locatie': 'Breda',\n",
    "  'deelnemers': [{'_id': 5, 'naam': 'Anna Bouma', \n",
    "                  'email': 'anna.bouma@fmail.com', \n",
    "                  'plaats': 'Breda'},\n",
    "                 {'_id': 3, 'naam': 'Frans Gerrits', \n",
    "                  'email': 'fg23@mymail.net', \n",
    "                  'plaats': 'Tilburg'},\n",
    "                 {'_id': 4, 'naam': 'Joke Boer', \n",
    "                  'email': 'jboer@farmer.net',\n",
    "                  'plaats': 'Breda'},\n",
    "                 {'_id': 2, 'naam': 'Erik Bakker', \n",
    "                  'email': 'erikB@ziggomail.nl', \n",
    "                  'plaats': 'Tilburg'}\n",
    "                ]}\n",
    "```"
   ]
  },
  {
   "cell_type": "markdown",
   "metadata": {
    "slideshow": {
     "slide_type": "subslide"
    }
   },
   "source": [
    "Inbedden van event-documenten bij persoon???\n",
    "```\n",
    " {'_id': 4,\n",
    "  'naam': 'Joke Boer',\n",
    "  'email': 'jboer@farmer.net',\n",
    "  'plaats': 'Breda',\n",
    "  'events': [{'_id': 2, 'datum': '2020-12-13', \n",
    "              'locatie': 'Breda'}, \n",
    "             {'_id': 5, 'datum': '2020-12-23', \n",
    "              'locatie': 'Breda'}]}\n",
    "  \n",
    "```  "
   ]
  },
  {
   "cell_type": "markdown",
   "metadata": {
    "slideshow": {
     "slide_type": "subslide"
    }
   },
   "source": [
    "Gebruik van *verwijzingen* (foreign keys) in persoon-document:\n",
    "\n",
    "```\n",
    "{'_id': 4,\n",
    "  'naam': 'Joke Boer',\n",
    "  'email': 'jboer@farmer.net',\n",
    "  'plaats': 'Breda',\n",
    "  'events': [2, 5]}\n",
    "```\n",
    "\n",
    "*Vraag: waarom is dit handiger dan omgekeerd?*"
   ]
  },
  {
   "cell_type": "markdown",
   "metadata": {
    "slideshow": {
     "slide_type": "subslide"
    }
   },
   "source": [
    "In SQL aparte tabel `deelname` nodig -\n",
    "\n",
    "met foreign keys van `persoon` en `event`. \n",
    "    \n",
    "<img src=\"deelname-tabel.png\" width=\"150\">"
   ]
  },
  {
   "cell_type": "markdown",
   "metadata": {
    "slideshow": {
     "slide_type": "notes"
    }
   },
   "source": [
    "In een relationele database heb je veel minder mogelijkheden voor embedding,\n",
    "omdat je geen meervoudige waarden kunt hebben.\n",
    "\n",
    "Embedding hoeft niet noodzakelijk tot een niet-redundante representatie te leiden:\n",
    "het bovenstaande voorbeeld kun je nog steeds als \"genormaliseerd\" beschouwen."
   ]
  },
  {
   "cell_type": "markdown",
   "metadata": {
    "slideshow": {
     "slide_type": "skip"
    }
   },
   "source": [
    "Verwijzen-voorbeeld\n",
    "\n",
    "(personen-aanmeldingen-wedstrijden)\n",
    "(voorbeeld: aanmeldingen als aparte documenten)\n",
    "\n",
    "NB: in beide gevallen zijn wedstrijden aparte documenten"
   ]
  },
  {
   "cell_type": "markdown",
   "metadata": {
    "slideshow": {
     "slide_type": "slide"
    }
   },
   "source": [
    "Maak entiteit apart document als\n",
    "\n",
    "* deze afzonderlijk aangemaakt en bijgewerkt wordt;\n",
    "* en deze afzonderlijk opgevraagd wordt.\n",
    "\n",
    "Voorbeeld: aanmeldingen bijwerken: altijd persoonsgegevens nodig => embedden"
   ]
  },
  {
   "cell_type": "markdown",
   "metadata": {
    "slideshow": {
     "slide_type": "notes"
    }
   },
   "source": [
    "Dit is een voorbeeld van de manier waarop in MongoDB het gebruik (de queries) centraal staan, veel meer dan de data."
   ]
  },
  {
   "cell_type": "markdown",
   "metadata": {
    "slideshow": {
     "slide_type": "slide"
    }
   },
   "source": [
    "Join: combineren van documenten\n",
    "\n",
    "* uitprogrammeren in toepassing, of:\n",
    "* join (`lookup`) als onderdeel van *aggregation pipeline*"
   ]
  },
  {
   "cell_type": "markdown",
   "metadata": {
    "slideshow": {
     "slide_type": "slide"
    }
   },
   "source": [
    "MongoDB `aggregate` pijplijn:\n",
    "\n",
    "```\n",
    "collection.aggregate([ {... stap 1 ...},\n",
    "                       {... stap 2 ...},\n",
    "                       ...,\n",
    "                       {... stap N ...}])\n",
    "```\n",
    "stap 1: werkt op alle documenten in `collection`\n",
    "\n",
    "stap2: werkt op de resultaten van stap 1,\n",
    "\n",
    "enz..."
   ]
  },
  {
   "cell_type": "markdown",
   "metadata": {
    "slideshow": {
     "slide_type": "subslide"
    }
   },
   "source": [
    "Functies voor `aggregate` pijplijn:\n",
    "    \n",
    "* `$match` - filteren van documenten\n",
    "* `$group` - groeperen en samenvatten (tellen enz.)\n",
    "* `$project` - filteren van velden\n",
    "* `$lookup` - combineren met andere collection (\"join\")"
   ]
  },
  {
   "cell_type": "code",
   "execution_count": 1,
   "metadata": {
    "slideshow": {
     "slide_type": "slide"
    }
   },
   "outputs": [],
   "source": [
    "import os\n",
    "os.environ[\"PATH\"]=os.environ[\"PATH\"] + \":/usr/local/bin\""
   ]
  },
  {
   "cell_type": "code",
   "execution_count": 2,
   "metadata": {
    "slideshow": {
     "slide_type": "slide"
    }
   },
   "outputs": [
    {
     "name": "stdout",
     "output_type": "stream",
     "text": [
      "Database name: eelco-demodb\n",
      "Mongo version 3.11.0\n"
     ]
    }
   ],
   "source": [
    "import os\n",
    "import re\n",
    "import pandas as pd\n",
    "import numpy as np\n",
    "from IPython.core.display import display, HTML\n",
    "import pymongo\n",
    "\n",
    "pd.set_option('max_colwidth',160)\n",
    "\n",
    "userline = !echo $USER\n",
    "username = userline[0]\n",
    "dbname = username + \"-demodb\"\n",
    "print(\"Database name: \" + dbname)\n",
    "\n",
    "print('Mongo version', pymongo.__version__)\n",
    "client = pymongo.MongoClient('localhost', 27017)\n",
    "db = client[dbname]"
   ]
  },
  {
   "cell_type": "code",
   "execution_count": 3,
   "metadata": {
    "slideshow": {
     "slide_type": "slide"
    }
   },
   "outputs": [
    {
     "data": {
      "text/plain": [
       "0"
      ]
     },
     "execution_count": 3,
     "metadata": {},
     "output_type": "execute_result"
    }
   ],
   "source": [
    "persons = db.persons\n",
    "persons.drop()\n",
    "os.system('mongoimport -d ' + dbname + ' -c persons persons.json')"
   ]
  },
  {
   "cell_type": "code",
   "execution_count": 4,
   "metadata": {
    "slideshow": {
     "slide_type": "fragment"
    }
   },
   "outputs": [
    {
     "data": {
      "text/plain": [
       "[{'_id': 3,\n",
       "  'naam': 'Frans Gerrits',\n",
       "  'email': 'fg23@mymail.net',\n",
       "  'plaats': 'Tilburg',\n",
       "  'events': [2]},\n",
       " {'_id': 5,\n",
       "  'naam': 'Anna Bouma',\n",
       "  'email': 'anna.bouma@fmail.com',\n",
       "  'plaats': 'Breda',\n",
       "  'events': [2, 4]},\n",
       " {'_id': 6,\n",
       "  'naam': 'Linda Fransen',\n",
       "  'email': 'lindaf78@mymail.net',\n",
       "  'plaats': 'Tilburg',\n",
       "  'events': [1, 3, 5]},\n",
       " {'_id': 2,\n",
       "  'naam': 'Erik Bakker',\n",
       "  'email': 'erikB@ziggomail.nl',\n",
       "  'plaats': 'Tilburg',\n",
       "  'events': [1, 2]},\n",
       " {'_id': 4,\n",
       "  'naam': 'Joke Boer',\n",
       "  'email': 'jboer@farmer.net',\n",
       "  'plaats': 'Breda',\n",
       "  'events': [2, 5]},\n",
       " {'_id': 1,\n",
       "  'naam': 'Jan de Vries',\n",
       "  'email': 'jandevries1@kpnmail.nl',\n",
       "  'plaats': 'Roosendaal',\n",
       "  'events': [1, 3, 4]}]"
      ]
     },
     "execution_count": 4,
     "metadata": {},
     "output_type": "execute_result"
    }
   ],
   "source": [
    "list(db.persons.find())"
   ]
  },
  {
   "cell_type": "code",
   "execution_count": 5,
   "metadata": {
    "slideshow": {
     "slide_type": "slide"
    }
   },
   "outputs": [
    {
     "data": {
      "text/plain": [
       "0"
      ]
     },
     "execution_count": 5,
     "metadata": {},
     "output_type": "execute_result"
    }
   ],
   "source": [
    "events = db.events\n",
    "events.drop()\n",
    "os.system('mongoimport -d ' + dbname + ' -c events events.json')"
   ]
  },
  {
   "cell_type": "code",
   "execution_count": 6,
   "metadata": {
    "slideshow": {
     "slide_type": "fragment"
    }
   },
   "outputs": [
    {
     "data": {
      "text/plain": [
       "[{'_id': 3, 'datum': '2020-12-19', 'locatie': 'Roosendaal'},\n",
       " {'_id': 1, 'datum': '2020-12-12', 'locatie': 'Tilburg'},\n",
       " {'_id': 2, 'datum': '2020-12-13', 'locatie': 'Breda'},\n",
       " {'_id': 5, 'datum': '2020-12-23', 'locatie': 'Breda'},\n",
       " {'_id': 4, 'datum': '2020-12-20', 'locatie': 'Tilburg'}]"
      ]
     },
     "execution_count": 6,
     "metadata": {},
     "output_type": "execute_result"
    }
   ],
   "source": [
    "list(db.events.find())"
   ]
  },
  {
   "cell_type": "markdown",
   "metadata": {
    "slideshow": {
     "slide_type": "slide"
    }
   },
   "source": [
    "Samenvatten: aantal personen per woonplaats"
   ]
  },
  {
   "cell_type": "code",
   "execution_count": 7,
   "metadata": {
    "slideshow": {
     "slide_type": "fragment"
    }
   },
   "outputs": [
    {
     "data": {
      "text/plain": [
       "[{'_id': 'Roosendaal', 'aantal': 1},\n",
       " {'_id': 'Breda', 'aantal': 2},\n",
       " {'_id': 'Tilburg', 'aantal': 3}]"
      ]
     },
     "execution_count": 7,
     "metadata": {},
     "output_type": "execute_result"
    }
   ],
   "source": [
    "cursor = persons.aggregate([{\"$group\":{\"_id\": \"$plaats\", \"aantal\": {\"$sum\": 1} }}])\n",
    "list(cursor)"
   ]
  },
  {
   "cell_type": "markdown",
   "metadata": {
    "slideshow": {
     "slide_type": "slide"
    }
   },
   "source": [
    "Lookup: combineren van personen en events\n",
    "Deelnemers van event op `2020-12-13`"
   ]
  },
  {
   "cell_type": "code",
   "execution_count": 8,
   "metadata": {
    "slideshow": {
     "slide_type": "subslide"
    }
   },
   "outputs": [
    {
     "data": {
      "text/plain": [
       "[{'_id': 2, 'datum': '2020-12-13', 'locatie': 'Breda'}]"
      ]
     },
     "execution_count": 8,
     "metadata": {},
     "output_type": "execute_result"
    }
   ],
   "source": [
    "cursor = events.aggregate([{\"$match\": {\"datum\": \"2020-12-13\"}},\n",
    "                          ])\n",
    "list(cursor)"
   ]
  },
  {
   "cell_type": "code",
   "execution_count": 9,
   "metadata": {
    "slideshow": {
     "slide_type": "subslide"
    }
   },
   "outputs": [
    {
     "data": {
      "text/plain": [
       "[{'_id': 2,\n",
       "  'datum': '2020-12-13',\n",
       "  'locatie': 'Breda',\n",
       "  'deelnemers': [{'_id': 3,\n",
       "    'naam': 'Frans Gerrits',\n",
       "    'email': 'fg23@mymail.net',\n",
       "    'plaats': 'Tilburg',\n",
       "    'events': [2]},\n",
       "   {'_id': 5,\n",
       "    'naam': 'Anna Bouma',\n",
       "    'email': 'anna.bouma@fmail.com',\n",
       "    'plaats': 'Breda',\n",
       "    'events': [2, 4]},\n",
       "   {'_id': 2,\n",
       "    'naam': 'Erik Bakker',\n",
       "    'email': 'erikB@ziggomail.nl',\n",
       "    'plaats': 'Tilburg',\n",
       "    'events': [1, 2]},\n",
       "   {'_id': 4,\n",
       "    'naam': 'Joke Boer',\n",
       "    'email': 'jboer@farmer.net',\n",
       "    'plaats': 'Breda',\n",
       "    'events': [2, 5]}]}]"
      ]
     },
     "execution_count": 9,
     "metadata": {},
     "output_type": "execute_result"
    }
   ],
   "source": [
    "cursor = events.aggregate([{\"$match\": {\"datum\": \"2020-12-13\"}},\n",
    "                           {\"$lookup\":{\"from\": \"persons\", \n",
    "                                       \"localField\": \"_id\", \n",
    "                                       \"foreignField\": \"events\",\n",
    "                                       \"as\": \"deelnemers\"}}])\n",
    "list(cursor)"
   ]
  },
  {
   "cell_type": "code",
   "execution_count": 10,
   "metadata": {
    "slideshow": {
     "slide_type": "subslide"
    }
   },
   "outputs": [
    {
     "data": {
      "text/plain": [
       "[{'deelnemers': [{'naam': 'Frans Gerrits',\n",
       "    'email': 'fg23@mymail.net',\n",
       "    'plaats': 'Tilburg'},\n",
       "   {'naam': 'Anna Bouma', 'email': 'anna.bouma@fmail.com', 'plaats': 'Breda'},\n",
       "   {'naam': 'Erik Bakker', 'email': 'erikB@ziggomail.nl', 'plaats': 'Tilburg'},\n",
       "   {'naam': 'Joke Boer', 'email': 'jboer@farmer.net', 'plaats': 'Breda'}]}]"
      ]
     },
     "execution_count": 10,
     "metadata": {},
     "output_type": "execute_result"
    }
   ],
   "source": [
    "cursor = events.aggregate([{\"$match\": {\"datum\": \"2020-12-13\"}},\n",
    "                           {\"$lookup\":{\"from\": \"persons\", \"localField\": \"_id\", \"foreignField\": \"events\",\n",
    "                                        \"as\": \"deelnemers\"}},\n",
    "                           {\"$project\": {\"_id\": 0, \"deelnemers\":1}},\n",
    "                           {\"$project\": {\"deelnemers._id\":0, \"deelnemers.events\": 0}}])\n",
    "list(cursor)"
   ]
  },
  {
   "cell_type": "code",
   "execution_count": 11,
   "metadata": {
    "slideshow": {
     "slide_type": "subslide"
    }
   },
   "outputs": [
    {
     "data": {
      "text/plain": [
       "[{'naam': 'Frans Gerrits', 'email': 'fg23@mymail.net', 'plaats': 'Tilburg'},\n",
       " {'naam': 'Anna Bouma', 'email': 'anna.bouma@fmail.com', 'plaats': 'Breda'},\n",
       " {'naam': 'Erik Bakker', 'email': 'erikB@ziggomail.nl', 'plaats': 'Tilburg'},\n",
       " {'naam': 'Joke Boer', 'email': 'jboer@farmer.net', 'plaats': 'Breda'}]"
      ]
     },
     "execution_count": 11,
     "metadata": {},
     "output_type": "execute_result"
    }
   ],
   "source": [
    "cursor = events.aggregate([{\"$match\": {\"datum\": \"2020-12-13\"}},\n",
    "                           {\"$lookup\":{\"from\": \"persons\", \"localField\": \"_id\", \"foreignField\": \"events\",\n",
    "                                        \"as\": \"deelnemers\"}},\n",
    "                           {\"$project\": {\"_id\": 0, \"deelnemers\":1}},\n",
    "                           {\"$project\": {\"deelnemers._id\":0, \"deelnemers.events\": 0}},\n",
    "                           {\"$unwind\": \"$deelnemers\"},\n",
    "                           {\"$replaceRoot\": {\"newRoot\": \"$deelnemers\"}}])\n",
    "list(cursor)"
   ]
  },
  {
   "cell_type": "markdown",
   "metadata": {
    "slideshow": {
     "slide_type": "slide"
    }
   },
   "source": [
    "Opdrachten: \n",
    "\n",
    "* maak een overzicht van het aantal events per locatie.\n",
    "* maak lijst van events van Linda Fransen."
   ]
  },
  {
   "cell_type": "code",
   "execution_count": null,
   "metadata": {},
   "outputs": [],
   "source": []
  }
 ],
 "metadata": {
  "celltoolbar": "Diavoorstelling",
  "kernelspec": {
   "display_name": "Python 3",
   "language": "python",
   "name": "python3"
  },
  "language_info": {
   "codemirror_mode": {
    "name": "ipython",
    "version": 3
   },
   "file_extension": ".py",
   "mimetype": "text/x-python",
   "name": "python",
   "nbconvert_exporter": "python",
   "pygments_lexer": "ipython3",
   "version": "3.7.7"
  }
 },
 "nbformat": 4,
 "nbformat_minor": 4
}
