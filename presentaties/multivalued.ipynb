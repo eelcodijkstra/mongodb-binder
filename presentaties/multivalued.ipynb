{
 "cells": [
  {
   "cell_type": "code",
   "execution_count": null,
   "metadata": {},
   "outputs": [],
   "source": [
    "upd_obj = {\"email\": [\"hdebo1@gmail.com\"]}\n",
    "\n",
    "collection.update_one({\"name\": \"Hans de Boer\"}, {\"$set\": upd_obj})\n",
    "obj = collection.find_one({\"name\": \"Hans de Boer\"})\n",
    "print(obj)\n",
    "print(obj[\"email\"])\n",
    "if not ('hdebo2@gmail.com' in obj[\"email\"]):\n",
    "    obj[\"email\"].append('hdebo2@gmail.com')\n",
    "print(obj[\"email\"])\n",
    "upd_obj = {\"email\": obj[\"email\"]}\n",
    "collection.update_one({\"name\": \"Hans de Boer\"}, {\"$set\": upd_obj})\n",
    "obj = collection.find_one({\"name\": \"Hans de Boer\"})\n",
    "print(obj)"
   ]
  },
  {
   "cell_type": "code",
   "execution_count": null,
   "metadata": {},
   "outputs": [],
   "source": [
    "# add email \"hdebo@gmail.com\" to email-adresses of Hans de Boer\n",
    "\n",
    "newemail = \"hdebo@gmail.com\"\n",
    "obj = collection.find_one({\"name\": \"Hans de Boer\"})\n",
    "print(\"before update:\")\n",
    "print(obj)\n",
    "if \"email\" in obj:\n",
    "    email = obj[\"email\"]\n",
    "    if type(email) == list:\n",
    "        if newemail in email:\n",
    "            pass # already in list\n",
    "        else:\n",
    "            email.append(newemail)\n",
    "    else if email == newemail:\n",
    "        email = [email]\n",
    "    else:    \n",
    "        email = [email, newemail]\n",
    "else:\n",
    "    email = [newemail]\n",
    "upd_obj = {\"email\": email}\n",
    "collection.update_one({\"name\": \"Hans de Boer\"}, {\"$set\": upd_obj})\n",
    "obj = collection.find_one({\"name\": \"Hans de Boer\"})\n",
    "print(\"after update\")\n",
    "print(obj)"
   ]
  },
  {
   "cell_type": "code",
   "execution_count": null,
   "metadata": {},
   "outputs": [],
   "source": [
    "obj = {}\n",
    "x = obj[\"email\"]\n",
    "print(x)"
   ]
  },
  {
   "cell_type": "code",
   "execution_count": null,
   "metadata": {},
   "outputs": [],
   "source": [
    "type(10)"
   ]
  }
 ],
 "metadata": {
  "kernelspec": {
   "display_name": "Python 3",
   "language": "python",
   "name": "python3"
  },
  "language_info": {
   "codemirror_mode": {
    "name": "ipython",
    "version": 3
   },
   "file_extension": ".py",
   "mimetype": "text/x-python",
   "name": "python",
   "nbconvert_exporter": "python",
   "pygments_lexer": "ipython3",
   "version": "3.7.6"
  }
 },
 "nbformat": 4,
 "nbformat_minor": 4
}
