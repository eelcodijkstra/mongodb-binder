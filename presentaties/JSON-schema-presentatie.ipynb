{
 "cells": [
  {
   "cell_type": "markdown",
   "metadata": {
    "slideshow": {
     "slide_type": "slide"
    }
   },
   "source": [
    "# JSON-schema"
   ]
  },
  {
   "cell_type": "markdown",
   "metadata": {
    "slideshow": {
     "slide_type": "slide"
    }
   },
   "source": [
    "JSON-schema: schema-notatie voor JSON-objecten\n",
    "\n",
    "* structuur\n",
    "* namen\n",
    "* types\n",
    "* waarden\n"
   ]
  },
  {
   "cell_type": "markdown",
   "metadata": {
    "slideshow": {
     "slide_type": "slide"
    }
   },
   "source": [
    "## Gebruikt voor...\n",
    "\n",
    "* MongoDB: validatie documenten\n",
    "* web-API's: documentatie, validatie\n",
    "* ... overal waar JSON gebruikt wordt..."
   ]
  },
  {
   "cell_type": "markdown",
   "metadata": {
    "slideshow": {
     "slide_type": "slide"
    }
   },
   "source": [
    "## Definitie van een schema (voorbeeld)"
   ]
  },
  {
   "cell_type": "code",
   "execution_count": 18,
   "metadata": {},
   "outputs": [],
   "source": [
    "contact_schema = {\n",
    "    \"$schema\": \"http://json-schema.org/draft-07/schema#\",\n",
    "    \"title\": \"Contact\",\n",
    "    \"description\": \"schema for documents in the contacts collection\",\n",
    "    \"type\": \"object\",\n",
    "    \"properties\": {\n",
    "        \"name\": {\"type\": \"string\"},\n",
    "        \"email\": {\"type\": \"string\"}\n",
    "    },\n",
    "    \"required\": [\"name\", \"email\"]\n",
    "}"
   ]
  },
  {
   "cell_type": "markdown",
   "metadata": {
    "slideshow": {
     "slide_type": "slide"
    }
   },
   "source": [
    "## Valideren van object tegen schema"
   ]
  },
  {
   "cell_type": "code",
   "execution_count": 19,
   "metadata": {},
   "outputs": [],
   "source": [
    "from jsonschema import validate"
   ]
  },
  {
   "cell_type": "code",
   "execution_count": 20,
   "metadata": {},
   "outputs": [
    {
     "ename": "ValidationError",
     "evalue": "'name' is a required property\n\nFailed validating 'required' in schema:\n    {'$schema': 'http://json-schema.org/draft-07/schema#',\n     'description': 'schema for documents in the contacts collection',\n     'properties': {'email': {'type': 'string'},\n                    'name': {'type': 'string'}},\n     'required': ['name', 'email'],\n     'title': 'Contact',\n     'type': 'object'}\n\nOn instance:\n    {'email': 'harryvdoorm@friendmail.org',\n     'naam': 'Harry van Doorn',\n     'tel': '06-1357 8642'}",
     "output_type": "error",
     "traceback": [
      "\u001b[0;31m---------------------------------------------------------------------------\u001b[0m",
      "\u001b[0;31mValidationError\u001b[0m                           Traceback (most recent call last)",
      "\u001b[0;32m<ipython-input-20-706bd5782b85>\u001b[0m in \u001b[0;36m<module>\u001b[0;34m\u001b[0m\n\u001b[1;32m      5\u001b[0m }\n\u001b[1;32m      6\u001b[0m \u001b[0;34m\u001b[0m\u001b[0m\n\u001b[0;32m----> 7\u001b[0;31m \u001b[0mvalidate\u001b[0m\u001b[0;34m(\u001b[0m\u001b[0minstance\u001b[0m\u001b[0;34m=\u001b[0m\u001b[0mmycontact\u001b[0m\u001b[0;34m,\u001b[0m \u001b[0mschema\u001b[0m\u001b[0;34m=\u001b[0m\u001b[0mcontact_schema\u001b[0m\u001b[0;34m)\u001b[0m\u001b[0;34m\u001b[0m\u001b[0;34m\u001b[0m\u001b[0m\n\u001b[0m",
      "\u001b[0;32m~/opt/anaconda3/lib/python3.7/site-packages/jsonschema/validators.py\u001b[0m in \u001b[0;36mvalidate\u001b[0;34m(instance, schema, cls, *args, **kwargs)\u001b[0m\n\u001b[1;32m    932\u001b[0m     \u001b[0merror\u001b[0m \u001b[0;34m=\u001b[0m \u001b[0mexceptions\u001b[0m\u001b[0;34m.\u001b[0m\u001b[0mbest_match\u001b[0m\u001b[0;34m(\u001b[0m\u001b[0mvalidator\u001b[0m\u001b[0;34m.\u001b[0m\u001b[0miter_errors\u001b[0m\u001b[0;34m(\u001b[0m\u001b[0minstance\u001b[0m\u001b[0;34m)\u001b[0m\u001b[0;34m)\u001b[0m\u001b[0;34m\u001b[0m\u001b[0;34m\u001b[0m\u001b[0m\n\u001b[1;32m    933\u001b[0m     \u001b[0;32mif\u001b[0m \u001b[0merror\u001b[0m \u001b[0;32mis\u001b[0m \u001b[0;32mnot\u001b[0m \u001b[0;32mNone\u001b[0m\u001b[0;34m:\u001b[0m\u001b[0;34m\u001b[0m\u001b[0;34m\u001b[0m\u001b[0m\n\u001b[0;32m--> 934\u001b[0;31m         \u001b[0;32mraise\u001b[0m \u001b[0merror\u001b[0m\u001b[0;34m\u001b[0m\u001b[0;34m\u001b[0m\u001b[0m\n\u001b[0m\u001b[1;32m    935\u001b[0m \u001b[0;34m\u001b[0m\u001b[0m\n\u001b[1;32m    936\u001b[0m \u001b[0;34m\u001b[0m\u001b[0m\n",
      "\u001b[0;31mValidationError\u001b[0m: 'name' is a required property\n\nFailed validating 'required' in schema:\n    {'$schema': 'http://json-schema.org/draft-07/schema#',\n     'description': 'schema for documents in the contacts collection',\n     'properties': {'email': {'type': 'string'},\n                    'name': {'type': 'string'}},\n     'required': ['name', 'email'],\n     'title': 'Contact',\n     'type': 'object'}\n\nOn instance:\n    {'email': 'harryvdoorm@friendmail.org',\n     'naam': 'Harry van Doorn',\n     'tel': '06-1357 8642'}"
     ]
    }
   ],
   "source": [
    "mycontact = {\n",
    "    \"naam\": \"Harry van Doorn\",\n",
    "    \"email\": \"harryvdoorm@friendmail.org\",\n",
    "    \"tel\": \"06-1357 8642\"\n",
    "}\n",
    "\n",
    "validate(instance=mycontact, schema=contact_schema)"
   ]
  },
  {
   "cell_type": "markdown",
   "metadata": {
    "slideshow": {
     "slide_type": "slide"
    }
   },
   "source": [
    "## Beschrijven van\n",
    "\n",
    "* object, met properties; wel/niet verplicht\n",
    "    * ook: alternatieven\n",
    "* array, met item-type\n",
    "* string, met opsomming, reguliere expressie"
   ]
  },
  {
   "cell_type": "markdown",
   "metadata": {
    "slideshow": {
     "slide_type": "slide"
    }
   },
   "source": [
    "## Voorbeeld (2)"
   ]
  },
  {
   "cell_type": "code",
   "execution_count": 21,
   "metadata": {},
   "outputs": [],
   "source": [
    "schema1 = {\n",
    "    \"type\": \"object\",\n",
    "    \"required\": [\"name\"],\n",
    "    \"properties\": {\n",
    "        \"name\": {\"type\": \"string\"}\n",
    "    },\n",
    "    \"anyOf\": [\n",
    "        {\"properties\": {\"email\":  {\"type\": \"array\",\n",
    "                                   \"items\": {\"type\": \"string\"}}\n",
    "                        },\n",
    "         \"required\": [\"email\"]},\n",
    "        \n",
    "        {\"properties\": {\"telephone\": {\"type\": \"string\"}},\n",
    "         \"required\": [\"telephone\"]}\n",
    "    ]\n",
    "}"
   ]
  },
  {
   "cell_type": "markdown",
   "metadata": {
    "slideshow": {
     "slide_type": "slide"
    }
   },
   "source": [
    "## Validatie (voorbeeld)"
   ]
  },
  {
   "cell_type": "code",
   "execution_count": 22,
   "metadata": {
    "slideshow": {
     "slide_type": "-"
    }
   },
   "outputs": [],
   "source": [
    "mycontact1 = {\n",
    "    \"name\": \"Harry van Doorn\",\n",
    "    \"email\": [\"harryvdoorm@friendmail.org\"]\n",
    "}\n",
    "\n",
    "validate(instance=mycontact1, schema=schema1)"
   ]
  },
  {
   "cell_type": "markdown",
   "metadata": {
    "slideshow": {
     "slide_type": "slide"
    }
   },
   "source": [
    "## Schema-standaardisatie\n",
    "\n",
    "\n",
    "* schema.org\n",
    "    * Thing, Person, ContactPoint, Location, ...\n",
    "    * ontology/vocabulary: schema's in samenhang\n",
    "* https://lov.linkeddata.es/dataset/lov/vocabs\n",
    "    * http://xmlns.com/foaf/spec/#term_Person\n",
    "    * https://www.w3.org/2002/12/cal/ical\n",
    "* OpenGraph (Facebook)\n",
    "\n",
    "(vgl. ook https://referentiegrootboekschema.nl)"
   ]
  },
  {
   "cell_type": "markdown",
   "metadata": {
    "slideshow": {
     "slide_type": "slide"
    }
   },
   "source": [
    "## Linked (Open) Data\n",
    "\n",
    "* Gestructureerde data in het web\n",
    "* Bijv.: zoekmachines\n",
    "* openingstijden, locatie, ... van bedrijven\n",
    "\n",
    "Wordt vervolgd...\n",
    "    "
   ]
  },
  {
   "cell_type": "markdown",
   "metadata": {
    "slideshow": {
     "slide_type": "notes"
    }
   },
   "source": [
    "De volgende presentatie gaat over Linked Data"
   ]
  }
 ],
 "metadata": {
  "celltoolbar": "Diavoorstelling",
  "kernelspec": {
   "display_name": "Python 3",
   "language": "python",
   "name": "python3"
  },
  "language_info": {
   "codemirror_mode": {
    "name": "ipython",
    "version": 3
   },
   "file_extension": ".py",
   "mimetype": "text/x-python",
   "name": "python",
   "nbconvert_exporter": "python",
   "pygments_lexer": "ipython3",
   "version": "3.7.9"
  },
  "toc": {
   "base_numbering": 1,
   "nav_menu": {},
   "number_sections": false,
   "sideBar": true,
   "skip_h1_title": false,
   "title_cell": "Table of Contents",
   "title_sidebar": "Contents",
   "toc_cell": false,
   "toc_position": {},
   "toc_section_display": true,
   "toc_window_display": false
  }
 },
 "nbformat": 4,
 "nbformat_minor": 4
}
