{
 "cells": [
  {
   "cell_type": "markdown",
   "metadata": {
    "slideshow": {
     "slide_type": "slide"
    }
   },
   "source": [
    "# Linked data en JSON-LD"
   ]
  },
  {
   "cell_type": "markdown",
   "metadata": {
    "slideshow": {
     "slide_type": "slide"
    }
   },
   "source": [
    "## Inleiding\n",
    "\n",
    "* MongoDB collection: verzameling *gelijksoortige documenten*\n",
    "* Schema beschrijft dit \"gelijksoortig\":\n",
    "    * structuur; veldnamen; types; waarden\n",
    "* MongoDB query als \"validator\" gekoppeld aan collection\n",
    "* alternatief: gebruik van JSON-schema\n",
    "* gebruik van standaard-schema's - bijv. schema.org\n",
    "    * vaste namen, met omschreven betekenis\n",
    "    * -> documenten uitwisselbaar"
   ]
  },
  {
   "cell_type": "markdown",
   "metadata": {
    "slideshow": {
     "slide_type": "slide"
    }
   },
   "source": [
    "## Hoe maak je dit expliciet?\n",
    "\n",
    "* hoe maak je dit bruikbaar voor computers?\n",
    "* hoe maak je duidelijk welke standaard-schema's je gebruikt?\n",
    "* hoe geef je het verband aan met andere data?"
   ]
  },
  {
   "cell_type": "markdown",
   "metadata": {
    "slideshow": {
     "slide_type": "slide"
    }
   },
   "source": [
    "## Linked data\n",
    "\n",
    "Linked data volgens Tim Berners-Lee\n",
    "\n",
    "1. Use URIs as names for things\n",
    "2. Use HTTP URIs so that people can look up those names.\n",
    "3. When someone looks up a URI, provide useful information, using the standards (RDF*, SPARQL)\n",
    "4. Include links to other URIs. so that they can discover more things.\n",
    "\n",
    "https://www.w3.org/DesignIssues/LinkedData.html"
   ]
  },
  {
   "cell_type": "markdown",
   "metadata": {
    "slideshow": {
     "slide_type": "slide"
    }
   },
   "source": [
    "## (1) Gebruik URI's/IRI's als namen\n",
    "\n",
    "URI/IRI: globale identificatie; onafhankelijk van lokale context\n",
    "\n",
    "URI/IRI voorbeelden:\n",
    "\n",
    "* urn:isbn:0-486-27557-4  (ISBN-nummer)\n",
    "* urn:dev:mac:0024befffe804ff1 (MAC-adres)\n",
    "* tel:+1-816-555-1212\n",
    "* mailto:John.Doe@example.com\n",
    "* ftp://ftp.is.co.za/rfc/rfc1808.txt\n",
    "* http://www.ietf.org/rfc/rfc2396.txt"
   ]
  },
  {
   "cell_type": "markdown",
   "metadata": {
    "slideshow": {
     "slide_type": "slide"
    }
   },
   "source": [
    "## (2) Gebruik HTTP URL's als URI's\n",
    "\n",
    "Gebruik waar mogelijk HTTP URL's als URI's.\n",
    "\n",
    "Toegepast op eerdere voorbeeld:\n",
    "\n",
    "```\n",
    "{\n",
    "    \"http://schema.org/name\": \"Harry van Doorn\",\n",
    "    \"http://schema.org/email\": \"harryvdoorm@friendmail.org\",\n",
    "    \"http://schema.org/telephone\": \"+31-6-1357 8642\"\n",
    "}\n",
    "```\n",
    "\n",
    "Omslachtig! -> compacter via JSON-LD"
   ]
  },
  {
   "cell_type": "markdown",
   "metadata": {
    "slideshow": {
     "slide_type": "slide"
    }
   },
   "source": [
    "Gebruikte libraries:\n",
    "\n",
    "* requests - versturen van HTTP-requests\n",
    "* jsonld - json-ld bewerkingen (expand, compact)\n",
    "* BeautifulSoup - selecteren van HTML-onderdelen"
   ]
  },
  {
   "cell_type": "code",
   "execution_count": 12,
   "metadata": {
    "slideshow": {
     "slide_type": "-"
    }
   },
   "outputs": [],
   "source": [
    "import requests\n",
    "import json\n",
    "from bs4 import BeautifulSoup\n",
    "from pyld import jsonld"
   ]
  },
  {
   "cell_type": "markdown",
   "metadata": {
    "slideshow": {
     "slide_type": "slide"
    }
   },
   "source": [
    "## JSON-LD\n",
    "\n",
    "JSON-LD: context definieert namen\n",
    "\n",
    "```\n",
    "{\n",
    "  \"@context: \"http://schema.org\",\n",
    "  \"name\": \"Harry van Doorn\",\n",
    "  \"email\": \"harryvdoorm@friendmail.org\",\n",
    "  \"telephone\": \"+31-6-1357 8642\"\n",
    "}\n",
    "```"
   ]
  },
  {
   "cell_type": "code",
   "execution_count": 13,
   "metadata": {
    "slideshow": {
     "slide_type": "slide"
    }
   },
   "outputs": [
    {
     "data": {
      "text/plain": [
       "[{'http://schema.org/email': [{'@value': 'harryvdoorm@friendmail.org'}],\n",
       "  'http://schema.org/name': [{'@value': 'Harry van Doorn'}],\n",
       "  'http://schema.org/telephone': [{'@value': '+31-6-1357 8642'}]}]"
      ]
     },
     "execution_count": 13,
     "metadata": {},
     "output_type": "execute_result"
    }
   ],
   "source": [
    "mycontact = {\n",
    "  \"@context\": \"http://schema.org/docs/jsonldcontext.jsonld\",\n",
    "  \"name\": \"Harry van Doorn\",\n",
    "  \"email\": \"harryvdoorm@friendmail.org\",\n",
    "  \"telephone\": \"+31-6-1357 8642\"\n",
    "}\n",
    "\n",
    "expanded_contact = jsonld.expand(mycontact)\n",
    "expanded_contact"
   ]
  },
  {
   "cell_type": "markdown",
   "metadata": {
    "slideshow": {
     "slide_type": "slide"
    }
   },
   "source": [
    "jsonld.compact: compactificeren met context"
   ]
  },
  {
   "cell_type": "code",
   "execution_count": 14,
   "metadata": {},
   "outputs": [
    {
     "data": {
      "text/plain": [
       "{'@context': 'http://schema.org/docs/jsonldcontext.jsonld',\n",
       " 'email': 'harryvdoorm@friendmail.org',\n",
       " 'name': 'Harry van Doorn',\n",
       " 'telephone': '+31-6-1357 8642'}"
      ]
     },
     "execution_count": 14,
     "metadata": {},
     "output_type": "execute_result"
    }
   ],
   "source": [
    "jsonld.compact(expanded_contact, \"http://schema.org/docs/jsonldcontext.jsonld\")"
   ]
  },
  {
   "cell_type": "markdown",
   "metadata": {
    "slideshow": {
     "slide_type": "slide"
    }
   },
   "source": [
    "## (3) Geef extra informatie via de URL's\n",
    "\n",
    "Welke gegevens bij \"[http://schema.org/email](http://schema.org/email)\"?"
   ]
  },
  {
   "cell_type": "code",
   "execution_count": 15,
   "metadata": {},
   "outputs": [
    {
     "data": {
      "text/plain": [
       "200"
      ]
     },
     "execution_count": 15,
     "metadata": {},
     "output_type": "execute_result"
    }
   ],
   "source": [
    "r = requests.get(\"http://schema.org/email\")\n",
    "r.status_code"
   ]
  },
  {
   "cell_type": "code",
   "execution_count": 16,
   "metadata": {},
   "outputs": [
    {
     "data": {
      "text/plain": [
       "'\\n<!DOCTYPE html>\\n<html lang=\"en\">\\n<!-- Generated from TermPageEx.j2 -->\\n    \\n    \\n    <head>\\n\\n    <title>email - Schema.org Property</title>\\n    <meta charset=\"utf-8\" >\\n    <meta name=\"viewport\" content=\"width=device-width, initial-scale=1\">\\n    <meta name=\"description\" content=\"Schema.org Property: email - Email address.\" />\\n    <link rel=\"shortcut icon\" type=\"image/png\" href=\"/docs/favicon.ico\"/>\\n    <link rel=\"stylesheet\" type=\"text/css\" href=\"/docs/schemaorg.css\" />\\n    <link rel=\"stylesheet'"
      ]
     },
     "execution_count": 16,
     "metadata": {},
     "output_type": "execute_result"
    }
   ],
   "source": [
    "r.text[0:500]"
   ]
  },
  {
   "cell_type": "markdown",
   "metadata": {
    "slideshow": {
     "slide_type": "slide"
    }
   },
   "source": [
    "Via BeautifulSoup: jsonld-script selecteren"
   ]
  },
  {
   "cell_type": "code",
   "execution_count": 17,
   "metadata": {},
   "outputs": [
    {
     "data": {
      "text/plain": [
       "<script type=\"application/ld+json\">\n",
       "{\n",
       "  \"@context\": {\n",
       "    \"rdf\": \"http://www.w3.org/1999/02/22-rdf-syntax-ns#\",\n",
       "    \"rdfs\": \"http://www.w3.org/2000/01/rdf-schema#\",\n",
       "    \"schema\": \"http://schema.org/\",\n",
       "    \"xsd\": \"http://www.w3.org/2001/XMLSchema#\"\n",
       "  },\n",
       "  \"@id\": \"schema:email\",\n",
       "  \"@type\": \"rdf:Property\",\n",
       "  \"rdfs:comment\": \"Email address.\",\n",
       "  \"rdfs:label\": \"email\",\n",
       "  \"schema:domainIncludes\": [\n",
       "    {\n",
       "      \"@id\": \"schema:Organization\"\n",
       "    },\n",
       "    {\n",
       "      \"@id\": \"schema:ContactPoint\"\n",
       "    },\n",
       "    {\n",
       "      \"@id\": \"schema:Person\"\n",
       "    }\n",
       "  ],\n",
       "  \"schema:rangeIncludes\": {\n",
       "    \"@id\": \"schema:Text\"\n",
       "  }\n",
       "}\n",
       "</script>"
      ]
     },
     "execution_count": 17,
     "metadata": {},
     "output_type": "execute_result"
    }
   ],
   "source": [
    "soup =  BeautifulSoup(r.text, \"html.parser\")\n",
    "jsonld_script = soup.find(type=\"application/ld+json\")\n",
    "jsonld_script"
   ]
  },
  {
   "cell_type": "markdown",
   "metadata": {
    "slideshow": {
     "slide_type": "slide"
    }
   },
   "source": [
    "Selecteren van json-document uit script:"
   ]
  },
  {
   "cell_type": "code",
   "execution_count": 18,
   "metadata": {},
   "outputs": [
    {
     "data": {
      "text/plain": [
       "{'@context': {'rdf': 'http://www.w3.org/1999/02/22-rdf-syntax-ns#',\n",
       "  'rdfs': 'http://www.w3.org/2000/01/rdf-schema#',\n",
       "  'schema': 'http://schema.org/',\n",
       "  'xsd': 'http://www.w3.org/2001/XMLSchema#'},\n",
       " '@id': 'schema:email',\n",
       " '@type': 'rdf:Property',\n",
       " 'rdfs:comment': 'Email address.',\n",
       " 'rdfs:label': 'email',\n",
       " 'schema:domainIncludes': [{'@id': 'schema:Organization'},\n",
       "  {'@id': 'schema:ContactPoint'},\n",
       "  {'@id': 'schema:Person'}],\n",
       " 'schema:rangeIncludes': {'@id': 'schema:Text'}}"
      ]
     },
     "execution_count": 18,
     "metadata": {},
     "output_type": "execute_result"
    }
   ],
   "source": [
    "json.loads(jsonld_script.contents[0].string)"
   ]
  },
  {
   "cell_type": "markdown",
   "metadata": {
    "slideshow": {
     "slide_type": "slide"
    }
   },
   "source": [
    "### Functie get_json_ld\n",
    "\n",
    "Functie voor ophalen json-ld uit html bij URL:"
   ]
  },
  {
   "cell_type": "code",
   "execution_count": 19,
   "metadata": {},
   "outputs": [],
   "source": [
    "def get_json_ld (url):\n",
    "    r = requests.get(url)\n",
    "    if r.status_code != 200: \n",
    "        return None\n",
    "    soup =  BeautifulSoup(r.text, \"html.parser\")\n",
    "    json_script = soup.find(type=\"application/ld+json\")\n",
    "    if json_script == None:\n",
    "        return None\n",
    "    return json.loads(json_script.contents[0].string)"
   ]
  },
  {
   "cell_type": "markdown",
   "metadata": {
    "slideshow": {
     "slide_type": "slide"
    }
   },
   "source": [
    "## (4) Gebruik links in de gegevens bij een URL\n",
    "\n",
    "* web: links voor verbinden van documenten in web\n",
    "* data-web: links voor verbinden van data in data-web"
   ]
  },
  {
   "cell_type": "markdown",
   "metadata": {
    "slideshow": {
     "slide_type": "slide"
    }
   },
   "source": [
    "## JSON-LD voor zoekmachines\n",
    "\n",
    "JSON-LD in HTML voor zoekmachines\n",
    "\n",
    "Google:  [Google structured data richtlijnen](https://developers.google.com/search/docs/guides/intro-structured-data)\n",
    "\n",
    "Voorbeelden:"
   ]
  },
  {
   "cell_type": "code",
   "execution_count": 20,
   "metadata": {},
   "outputs": [
    {
     "data": {
      "text/plain": [
       "{'@context': 'http://schema.org',\n",
       " '@type': 'Organization',\n",
       " 'url': 'https://ieni.org/',\n",
       " 'sameAs': ['https://twitter.com/@ieni'],\n",
       " '@id': '#organization',\n",
       " 'name': 'Vakvereniging i&amp;i',\n",
       " 'logo': 'https://ieni.org/assets/img/brand/header-dark.svg'}"
      ]
     },
     "execution_count": 20,
     "metadata": {},
     "output_type": "execute_result"
    }
   ],
   "source": [
    "get_json_ld(\"https://ieni.org\")"
   ]
  },
  {
   "cell_type": "code",
   "execution_count": 21,
   "metadata": {
    "slideshow": {
     "slide_type": "slide"
    }
   },
   "outputs": [
    {
     "data": {
      "text/plain": [
       "{'@context': 'https://schema.org/',\n",
       " '@type': 'Recipe',\n",
       " 'keywords': 'Recept, Gekookt ei, Diner, Nederlandse keuken, Zacht en romig',\n",
       " 'author': {'@type': 'Person', 'name': 'zolar'},\n",
       " 'name': 'Gekookt ei',\n",
       " 'recipeCategory': 'Feestmaaltijd',\n",
       " 'recipeCuisine': 'Nederlands',\n",
       " 'cookTime': 'PT10M',\n",
       " 'totalTime': 'PT10M',\n",
       " 'recipeIngredient': 'ei',\n",
       " 'recipeInstructions': 'Kook het ei.',\n",
       " 'description': 'Gekookt ei Kook het ei.',\n",
       " 'recipeYield': '1 personen',\n",
       " 'image': 'https://images.smulweb.nl/sw3/sw_fallback.png',\n",
       " 'aggregateRating': {'@type': 'AggregateRating',\n",
       "  'ratingValue': '5.0',\n",
       "  'bestRating': '5',\n",
       "  'worstRating': '0',\n",
       "  'ratingCount': '4'},\n",
       " 'comment': [{'@type': 'Comment',\n",
       "   'text': 'Geweldig recept! Misschien eerst proberen voordat ik hey met Pasen ga serveren :-)',\n",
       "   'datePublished': '16-03-2016',\n",
       "   'author': {'@type': 'Person', 'name': 'Harry66'}},\n",
       "  {'@type': 'Comment',\n",
       "   'text': 'Je moet van tevoren kijken of het niet al gebakken is........ Maar dat kan toch niet in de eierschaal? Moest dat niet zijn \"gekookt\"? (of misschien \"bebroed\") ???\\n\\nEn ik mis nog een stap tussen het ko',\n",
       "   'datePublished': '04-04-2015',\n",
       "   'author': {'@type': 'Person', 'name': 'Eddy_EBT'}},\n",
       "  {'@type': 'Comment',\n",
       "   'text': 'Bij mij is het mislukt, maar misschien komt dat omdat ik per ongeluk de laatste 2 stappen heb omgewisseld.',\n",
       "   'datePublished': '27-03-2014',\n",
       "   'author': {'@type': 'Person', 'name': 'Fredje2412'}},\n",
       "  {'@type': 'Comment',\n",
       "   'text': 'kun je het even uitleggen het is nogal ingewikkeld',\n",
       "   'datePublished': '19-04-2011',\n",
       "   'author': {'@type': 'Person', 'name': 'iris17'}},\n",
       "  {'@type': 'Comment',\n",
       "   'text': 'Graag meerdere recepten !!!!!!',\n",
       "   'datePublished': '19-04-2003',\n",
       "   'author': {'@type': 'Person', 'name': 'edvanrosmalen'}},\n",
       "  {'@type': 'Comment',\n",
       "   'text': 'Deze kende ik nog niet.',\n",
       "   'datePublished': '01-07-2002',\n",
       "   'author': {'@type': 'Person', 'name': 'ongelofeloos'}},\n",
       "  {'@type': 'Comment',\n",
       "   'text': 'wat goed!!!!!!',\n",
       "   'datePublished': '28-03-2002',\n",
       "   'author': {'@type': 'Person', 'name': 'tournesol1'}},\n",
       "  {'@type': 'Comment',\n",
       "   'text': 'Wat een heerlijk recept, ga ik morgen direct proberen, bedankt voor de tip!!\\nWat zullen we smullen.\\n\\nAnja',\n",
       "   'datePublished': '22-03-2002',\n",
       "   'author': {'@type': 'Person', 'name': 'schulting'}},\n",
       "  {'@type': 'Comment',\n",
       "   'text': 'Zo dat lijkt mij wel de moeite waard om ook eens te proberen.Ik ga gelijk op je pagina kijken of je nog meer van zulke lekkere recepten heb.',\n",
       "   'datePublished': '16-01-2002',\n",
       "   'author': {'@type': 'Person', 'name': 'simply'}}]}"
      ]
     },
     "execution_count": 21,
     "metadata": {},
     "output_type": "execute_result"
    }
   ],
   "source": [
    "get_json_ld(\"https://www.smulweb.nl/recepten/941502/Gekookt-ei\")"
   ]
  },
  {
   "cell_type": "code",
   "execution_count": 22,
   "metadata": {
    "slideshow": {
     "slide_type": "slide"
    }
   },
   "outputs": [
    {
     "data": {
      "text/plain": [
       "{'@context': 'https://schema.org',\n",
       " '@type': 'Article',\n",
       " 'name': 'Hedy Lamarr',\n",
       " 'url': 'https://nl.wikipedia.org/wiki/Hedy_Lamarr',\n",
       " 'sameAs': 'http://www.wikidata.org/entity/Q49034',\n",
       " 'mainEntity': 'http://www.wikidata.org/entity/Q49034',\n",
       " 'author': {'@type': 'Organization',\n",
       "  'name': 'Bijdragers aan Wikimedia projecten'},\n",
       " 'publisher': {'@type': 'Organization',\n",
       "  'name': 'Wikimedia Foundation, Inc.',\n",
       "  'logo': {'@type': 'ImageObject',\n",
       "   'url': 'https://www.wikimedia.org/static/images/wmf-hor-googpub.png'}},\n",
       " 'datePublished': '2005-03-15T19:42:44Z',\n",
       " 'dateModified': '2020-11-09T12:29:00Z',\n",
       " 'image': 'https://upload.wikimedia.org/wikipedia/commons/6/61/Hedy_lamarr_-_1940.jpg',\n",
       " 'headline': 'Oostenrijks-Amerikaans actrice en uitvindster'}"
      ]
     },
     "execution_count": 22,
     "metadata": {},
     "output_type": "execute_result"
    }
   ],
   "source": [
    "get_json_ld(\"https://nl.wikipedia.org/wiki/Hedy_Lamarr\")"
   ]
  },
  {
   "cell_type": "markdown",
   "metadata": {
    "slideshow": {
     "slide_type": "slide"
    }
   },
   "source": [
    "## Het web van linked data\n",
    "\n",
    " [Linked Open Data Cloud](https://lod-cloud.net): linked open data \n",
    "\n",
    "* (Wikipedia) \n",
    "* [Wikidata](https://wikidata.org)\n",
    "* [DBpedia](https://dbpedia.org)\n",
    "\n",
    "Benaderen van deze gegevens via SPARQL etc.\n",
    "\n",
    "\n",
    "**Linked data: eerste stap naar het Semantische Web**"
   ]
  },
  {
   "cell_type": "markdown",
   "metadata": {
    "slideshow": {
     "slide_type": "slide"
    }
   },
   "source": [
    "\n",
    "### Nu zelf aan de slag..."
   ]
  },
  {
   "cell_type": "markdown",
   "metadata": {
    "slideshow": {
     "slide_type": "skip"
    }
   },
   "source": [
    "## JSON-LD\n",
    "\n",
    "In een JSON-object kun je namen gebruiken zoals \"voornaam\" en \"adres\".\n",
    "Voor de menselijke lezer is vaak wel (ongeveer) duidelijk wat deze betekenen.\n",
    "Maar bij ingewikkelder schema's is dat vaak minder duidelijk.\n",
    "\n",
    "Door het gebruik van een schema voor een collection kun je ervoor zorgen dat de documenten in die collection in elk geval dezelfde namen gebruiken voor dezelfde begrippen. Dus bijvoorbeeld allemaal \"givenName\" in plaats van \"firstName\".\n",
    "\n",
    "Als je de standaard-schema's van schema.org gebruikt als uitgangspunt weet je dat je aansluit op naamgeving die elders gebruikt wordt.\n",
    "\n",
    "Met behulp van JSON-LD kun je dit nog een stap verder brengen: je koppelt de namen die je gebruikt direct aan de namen in (bijvoorbeeld) schema.org.\n",
    "\n",
    "De namen van schema.org kun je toevoegen als *context* aan je JSON-objecten: de veldnaam `givenName` komt dan overeen met [http://schema.org/givenName](http://schema.org/givenName). Met andere woorden: een naam komt overeen met een (unieke) URL. Dit is één van de principes van het web: je gebruikt URIs (URLs) voor het *identificeren* van dingen (\"resources\") op een eenduidige manier. Omdat de naamgeving in het web wereldwijd dezelfde is, is voor iedereen duidelijk wat hier bedoeld wordt.\n",
    "\n",
    "Via een context kun je een ook een lokale naam invoeren voor een begrip dat via een URL gedefinieerd is; bijvoorbeeld:\n",
    "\n",
    "```\n",
    "\"schema\": \"http://schema.org/\",\n",
    "\"voornaam\": {\"@id\": \"schema:givenName\"}\n",
    "```\n",
    "\n",
    "Dit is een afkorting voor:\n",
    "\n",
    "```\n",
    "\"voornaam\": {\"@id\": \"http://schema.org/givenName\"}\n",
    "```\n",
    "\n",
    "Op deze manier kun je je eigen namen gebruiken, in de lokale taal, zonder de unieke identificatie van schema.org te verliezen.\n",
    "\n",
    "> Dit maakt het gemakkelijker om aan te sluiten bij lokale gewoontes.\n",
    "\n",
    "De namen van schema.org vormen niet alleen een unieke identificatie: via de URL kun je ook informatie over een naam ophalen. In de eerste plaats als gewoon HTML document, geschikt voor de menselijke lezer, maar daarnaast ook in een vorm die beter door machines verwerkt kan worden, in `json-ld` formaat. Deze beschrijving is te vinden in een apart script-gedeelte in het HTML-bestand.\n",
    "\n"
   ]
  }
 ],
 "metadata": {
  "celltoolbar": "Diavoorstelling",
  "kernelspec": {
   "display_name": "Python 3",
   "language": "python",
   "name": "python3"
  },
  "language_info": {
   "codemirror_mode": {
    "name": "ipython",
    "version": 3
   },
   "file_extension": ".py",
   "mimetype": "text/x-python",
   "name": "python",
   "nbconvert_exporter": "python",
   "pygments_lexer": "ipython3",
   "version": "3.7.9"
  },
  "toc": {
   "base_numbering": 1,
   "nav_menu": {},
   "number_sections": false,
   "sideBar": true,
   "skip_h1_title": true,
   "title_cell": "Table of Contents",
   "title_sidebar": "Contents",
   "toc_cell": false,
   "toc_position": {},
   "toc_section_display": true,
   "toc_window_display": false
  }
 },
 "nbformat": 4,
 "nbformat_minor": 4
}
