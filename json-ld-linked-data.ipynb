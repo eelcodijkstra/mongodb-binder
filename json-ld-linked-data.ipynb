{
 "cells": [
  {
   "cell_type": "markdown",
   "metadata": {},
   "source": [
    "[JSON-schema](json-schema.ipynb) <- vorige - [Inhoudsopgave](Inhoud.ipynb) - volgende -> [Linked data(2)](Linked-data-2.ipynb)"
   ]
  },
  {
   "cell_type": "markdown",
   "metadata": {},
   "source": [
    "# Linked data en JSON-LD\n",
    "\n",
    "## Inleiding\n",
    "\n",
    "In de voorgaande hoofdstukken heb je gezien hoe je met een schema ervoor kunt zorgen dat de documenten in een MongoDB database-collection gelijksoortig zijn.\n",
    "In MongoDB kun je een query als schema koppelen aan een collection, om een document te valideren voordat je dit toevoegt of verandert.\n",
    "\n",
    "In plaats van een MongoDB-query kun je ook de JSON-schema notatie gebruiken.\n",
    "Hiermee kun je nog preciezer beschrijven wat de structuur van een document moet zijn, welke (veld)namen gebruikt moeten worden, en hoe de waarden getypeerd moeten zijn.\n",
    "\n",
    "Door het gebruik van standaard-schema's zoals die van http://schema.org kun je ervoor zorgen dat de betekenis van de velden duidelijk vastligt, in elk geval voor de menselijke lezer. \n",
    "En je zorgt ervoor dat je documenten uitwisselbaar zijn met anderen die dezelfde schema's gebruiken.\n",
    "\n",
    "Een volgende vraag is hoe je de eigenschappen van een schema expliciet kunt maken, zodat deze ook gebruikt (geïnterpreteerd) kunnen worden door computers, en niet alleen door mensen. Hiervoor kun je gebruik maken van de Linked Data technologie zoals die ontwikkeld is voor het web.\n",
    "\n",
    "* hoe kun je duidelijk maken welke standaard-schema's je gebruikt?\n",
    "* hoe kun je het verband met andere data aangeven?\n"
   ]
  },
  {
   "cell_type": "markdown",
   "metadata": {},
   "source": [
    "## Linked data\n",
    "\n",
    "Volgens Tim Berners-Lee, de uitvinder van het web, bestaat Linked Data uit de volgende stappen:\n",
    "    \n",
    "zie: https://www.w3.org/DesignIssues/LinkedData.html\n",
    "\n",
    "1. Use URIs as names for things\n",
    "2. Use HTTP URIs so that people can look up those names.\n",
    "3. When someone looks up a URI, provide useful information, using the standards (RDF*, SPARQL)\n",
    "4. Include links to other URIs. so that they can discover more things.    "
   ]
  },
  {
   "cell_type": "markdown",
   "metadata": {},
   "source": [
    "## (1) Gebruik URI's/IRI's als namen\n",
    "\n",
    "De eerste stap is het gebruiken van globale unieke identificaties voor \"dingen\" (resources).\n",
    "Dergelijke globale identificaties zijn iet afhankelijk van de lokale context:\n",
    "Dit betekent dat je gegevens gemakkelijk kunt uitwisselen tussen verschillende lokale contexten.\n",
    "In het web is voor deze globale identificatie de URI (tegenwoordig: IRI) ontwikkeld.\n",
    "\n",
    "> De web-term voor \"ding\" is \"resource\": dit kan iets concreets zijn: een ding, mens, dier, planeet; het kan ook iets virtueels of abstracts zijn. Het hoeft niet in het internet/web aanwezig te zijn, om het in het web te kunnen beschrijven.\n",
    "\n",
    "Enkele voorbeelden van URI's/IRI's:\n",
    "\n",
    "* urn:isbn:0-486-27557-4  (een ISBN-nummer identificeert een boek-editie)\n",
    "* urn:dev:mac:0024befffe804ff1 (een MAC-adres identificeert een apparaat/netwerk-aansluiting)\n",
    "* tel:+1-816-555-1212\n",
    "* mailto:John.Doe@example.com\n",
    "* ftp://ftp.is.co.za/rfc/rfc1808.txt\n",
    "* http://www.ietf.org/rfc/rfc2396.txt\n",
    "\n",
    "De eerste van deze voorbeelden zijn identificaties die je niet als link in het web kunt gebruiken.\n",
    "Deze vallen onder de categorie \"Uniform Resource Numbers\" (urn).\n",
    "De laatste voorbeelden, vanaf het telefoonnummer, kun je wel als link in een webpagina gebruiken.\n",
    "De browser kan deze identificaties interpreteren, en er actie op ondernemen.\n",
    "Bij de laatste twee gevallen kun je via de browser meer gegevens bij de identificatie ophalen.\n",
    "\n",
    "> Het belangrijkste verschil tussen URI's en IRI's is dat deze laatste veel meer mogelijkheden bieden om een alternatief alfabet te gebruiken. URI's zijn traditioneel sterk gericht op het latijnse alfabet (ASCII).\n",
    "\n",
    "* https://tools.ietf.org/html/rfc3986 (internet-RFC over URI's)\n",
    "* https://tools.ietf.org/html/rfc3987 (IRI's)\n",
    "* https://en.wikipedia.org/wiki/Internationalized_Resource_Identifier"
   ]
  },
  {
   "cell_type": "markdown",
   "metadata": {},
   "source": [
    "## (2) Gebruik URL's als URI's\n",
    "\n",
    "De tweede stap is: gebruik waar mogelijk URL's als URI's.\n",
    "Een URL kun je als link in het web gebruiken, en via een URL kun je meer gegevens bij de identificatie vinden (zie de volgende stap).\n",
    "\n",
    "Je kunt dit toepassen op de veldnamen van een document.\n",
    "Als je de namen gebruiken van schema.org krijgen je bijvoorbeeld:\n",
    "\n",
    "```\n",
    "{\n",
    "    \"http://schema.org/name\": \"Harry van Doorn\",\n",
    "    \"http://schema.org/email\": \"harryvdoorm@friendmail.org\",\n",
    "    \"http://schema.org/telephone\": \"+31-6-1357 8642\"\n",
    "}\n",
    "```\n",
    "\n",
    "Dit is voor computers duidelijk en ondubbelzinnig, maar voor mensen wat omslachtig.\n",
    "Met behulp van JSON-LD kun je dit compacter en overzichtelijker beschrijven."
   ]
  },
  {
   "cell_type": "code",
   "execution_count": null,
   "metadata": {},
   "outputs": [],
   "source": [
    "import requests\n",
    "import json\n",
    "from bs4 import BeautifulSoup\n",
    "from pyld import jsonld"
   ]
  },
  {
   "cell_type": "markdown",
   "metadata": {},
   "source": [
    "## JSON-LD\n",
    "\n",
    "In JSON-LD kun je bij een JSON-object aangeven welke context gebruikt wordt.\n",
    "Anders gezegd: waar je de definitie van de gebruikte namen kunt vinden.\n",
    "Het bovenstaande voorbeeld wordt dan:\n",
    "\n",
    "```\n",
    "{\n",
    "  \"@context: \"http://schema.org\",\n",
    "  \"name\": \"Harry van Doorn\",\n",
    "  \"email\": \"harryvdoorm@friendmail.org\",\n",
    "  \"telephone\": \"+31-6-1357 8642\"\n",
    "}\n",
    "```\n",
    "\n",
    "Met behulp van de hulpprogramma's bij JSON-LD (uit pyld) kun je dit expanderen.\n",
    "\n",
    "> Door een fout in de python-implementatie moet je hier in plaats van \"http://schmema.org\" gebruiken: \"http://schema.org/docs/jsonldcontext.jsonld\". In een volgende versie is dat waarschijnlijk opgelost."
   ]
  },
  {
   "cell_type": "code",
   "execution_count": null,
   "metadata": {},
   "outputs": [],
   "source": [
    "mycontact = {\n",
    "  \"@context\": \"http://schema.org/docs/jsonldcontext.jsonld\",\n",
    "  \"name\": \"Harry van Doorn\",\n",
    "  \"email\": \"harryvdoorm@friendmail.org\",\n",
    "  \"telephone\": \"+31-6-1357 8642\"\n",
    "}\n",
    "\n",
    "expanded_contact = jsonld.expand(mycontact)\n",
    "expanded_contact"
   ]
  },
  {
   "cell_type": "markdown",
   "metadata": {},
   "source": [
    "Het omgekeerde is ook mogelijk: je kunt uit een geëxpandeerd document en een context weer een compact document maken.\n",
    "\n",
    "> De volgorde van de velden in het document kan hierbij veranderen, maar dat heeft geen betekenis, noch in JSON, noch in Python."
   ]
  },
  {
   "cell_type": "code",
   "execution_count": null,
   "metadata": {},
   "outputs": [],
   "source": [
    "jsonld.compact(expanded_contact, \"http://schema.org/docs/jsonldcontext.jsonld\")"
   ]
  },
  {
   "cell_type": "markdown",
   "metadata": {},
   "source": [
    "**Opdrachten**\n",
    "\n",
    "* Ga na wat er gebeurt als je een naam gebruikt die niet in schema.org gedefinieerd wordt, bijvoorbeeld \"tel\" in plaats van \"telephone\".\n",
    "    * welke URL krijg je als veldnaam?\n",
    "    * wat gebeurt er als je die URL gebruikt in de browser? (als je op die URL klikt?, anders gezegd: als je het document bij die URL ophaalt?)\n",
    "* Vraag de lijst met namen in de browser op, via de link http://schema.org/docs/jsonldcontext.jsonld"
   ]
  },
  {
   "cell_type": "code",
   "execution_count": null,
   "metadata": {},
   "outputs": [],
   "source": []
  },
  {
   "cell_type": "markdown",
   "metadata": {},
   "source": [
    "### Links\n",
    "\n",
    "* https://json-ld.org\n",
    "* https://json-ld.org/playground/"
   ]
  },
  {
   "cell_type": "markdown",
   "metadata": {},
   "source": [
    "## (3) Geef extra informatie via de URL's\n",
    "\n",
    "De volgende stap is om via de URL's die als naam gebruikt worden, meer informatie over de naam en het bijbehorende \"ding\" te geven.\n",
    "\n",
    "Welke gegevens krijg je bij de URL \"[http://schema.org/email](http://schema.org/email)\"?\n",
    "\n",
    "> We gebruiken hier de Python-library `requests`, voor het versturen van HTTP-requests vanuit Python. (zie: https://requests.readthedocs.io/)"
   ]
  },
  {
   "cell_type": "code",
   "execution_count": null,
   "metadata": {},
   "outputs": [],
   "source": [
    "r = requests.get(\"http://schema.org/email\")\n",
    "r.status_code"
   ]
  },
  {
   "cell_type": "markdown",
   "metadata": {},
   "source": [
    "Als de status_code = 200 (\"OK\"), dan was de aanvraag succesvol; de webserver heeft een document teruggestuurd, je vindt dat onder `r.text`. We laten hier de eerste 500 tekens zien:"
   ]
  },
  {
   "cell_type": "code",
   "execution_count": null,
   "metadata": {},
   "outputs": [],
   "source": [
    "r.text[0:500]"
   ]
  },
  {
   "cell_type": "markdown",
   "metadata": {},
   "source": [
    "Dit is hetzelfde HTML-document dat je krijgt als je die link in de browser opent.\n",
    "Voor computers is dit document niet erg handig, maar er zit een JSON-LD document \"verstopt\" in de HTML-code.\n",
    "\n",
    "Via de Python-library BeautifulSoup (REF), voor het verwerken van HTML-documenten, kun je die gegevens vinden, als een script met als type: \"application/ld+json\"):"
   ]
  },
  {
   "cell_type": "code",
   "execution_count": null,
   "metadata": {},
   "outputs": [],
   "source": [
    "soup =  BeautifulSoup(r.text, \"html.parser\")\n",
    "json_script = soup.find(type=\"application/ld+json\")\n",
    "json_script"
   ]
  },
  {
   "cell_type": "markdown",
   "metadata": {},
   "source": [
    "Het JSON-LD object in dit script krijg je via:"
   ]
  },
  {
   "cell_type": "code",
   "execution_count": null,
   "metadata": {},
   "outputs": [],
   "source": [
    "json.loads(json_script.contents[0].string)"
   ]
  },
  {
   "cell_type": "markdown",
   "metadata": {},
   "source": [
    "**Opdracht**\n",
    "\n",
    "* vergelijk het JSON-LD object met de gegevens die je via de browser vindt op [http://schema.org/email](http://schema.org/email).\n",
    "* wat is het type van de waarde van het veld [http://schema.org/email](http://schema.org/email)?\n",
    "* in welk soort documenten kan het veld [http://schema.org/email](http://schema.org/email) voorkomen?\n",
    "* wat is het \"label\" bij [http://schema.org/email](http://schema.org/email)?\n",
    "* wat is de betekenis van \"label\" volgens het bijbehorende schema?"
   ]
  },
  {
   "cell_type": "code",
   "execution_count": null,
   "metadata": {},
   "outputs": [],
   "source": []
  },
  {
   "cell_type": "markdown",
   "metadata": {},
   "source": [
    "### Functie get_json_ld\n",
    "\n",
    "We definiëren een functie om een dergelijk JSON-LD script uit het HTML-bestand bij een gegeven URL te vinden, als dit er is. Het resultaat None geeft aan dat we bij die URL geen JSON-LD object kunnen vinden."
   ]
  },
  {
   "cell_type": "code",
   "execution_count": null,
   "metadata": {},
   "outputs": [],
   "source": [
    "def get_json_ld (url):\n",
    "    r = requests.get(url)\n",
    "    if r.status_code != 200: \n",
    "        return None\n",
    "    soup =  BeautifulSoup(r.text, \"html.parser\")\n",
    "    json_script = soup.find(type=\"application/ld+json\")\n",
    "    if json_script == None:\n",
    "        return None\n",
    "    return json.loads(json_script.contents[0].string)"
   ]
  },
  {
   "cell_type": "markdown",
   "metadata": {},
   "source": [
    "**Opdrachten**\n",
    "\n",
    "* zoek de gegevens op van [http://schema.org/productionDate](http://schema.org/productionDate)\n",
    "    * via de browser\n",
    "    * via de functie `get_json_ld`\n",
    "* zoek de gegevens op van [http://schema.org/Person](http://schema.org/Person)\n",
    "    * via de browser\n",
    "    * via de functie `get_json_ld`"
   ]
  },
  {
   "cell_type": "code",
   "execution_count": null,
   "metadata": {},
   "outputs": [],
   "source": []
  },
  {
   "cell_type": "markdown",
   "metadata": {},
   "source": [
    "## (4) Gebruik links in de gegevens bij een URL\n",
    "\n",
    "In het web gebruik je links om de verschillende documenten aan elkaar te koppelen.\n",
    "In het geval van Linked Data kun je dat ook in de data zelf doen.\n",
    "Dit heb je al gezien voor de gegevens in de schema's.\n",
    "Je kunt het ook voor de waarden zelf doen.\n",
    "\n",
    "We geven een aantal voorbeelden van het gebruik van Linked Data.\n",
    "Ga zelf na hoe daarin links naar andere data gebruikt worden."
   ]
  },
  {
   "cell_type": "markdown",
   "metadata": {},
   "source": [
    "## JSON-LD voor zoekmachines\n",
    "\n",
    "Met behulp van gestructureerde gegevens kunnen zoekmachines veel preciezer zoeken,\n",
    "en zoekresultaten beter representeren.\n",
    "\n",
    "Google beschrijft in de [Google structured data richtlijnen](https://developers.google.com/search/docs/guides/intro-structured-data) hoe je deze json-lddata in je webpagina's kunt opnemen.\n",
    "\n",
    "We geven hieronder enkele voorbeelden van websites met ingebedde json-ld gegevens"
   ]
  },
  {
   "cell_type": "code",
   "execution_count": null,
   "metadata": {},
   "outputs": [],
   "source": [
    "get_json_ld(\"https://ieni.org\")"
   ]
  },
  {
   "cell_type": "code",
   "execution_count": null,
   "metadata": {},
   "outputs": [],
   "source": [
    "get_json_ld(\"https://www.smulweb.nl/recepten/941502/Gekookt-ei\")"
   ]
  },
  {
   "cell_type": "code",
   "execution_count": null,
   "metadata": {},
   "outputs": [],
   "source": [
    "get_json_ld(\"https://nl.wikipedia.org/wiki/Hedy_Lamarr\")"
   ]
  },
  {
   "cell_type": "markdown",
   "metadata": {},
   "source": [
    "**Opdrachten**\n",
    "\n",
    "* zoek een website van een winkel in de buurt waarin json-ld data gebruikt wordt. Welke gegevens vind je in die data?\n",
    "* zoek via een zoekmachine naar die winkel; welke gegevens krijg je als resultaat van de zoekopdracht te zien?"
   ]
  },
  {
   "cell_type": "markdown",
   "metadata": {},
   "source": [
    "## Het web van linked data\n",
    "\n",
    "Zoals het web een web van documenten vormt, geeft linked data een web van data.\n",
    "De [Linked Open Data Cloud](https://lod-cloud.net) is daarvan een deel met vrij toegankelijke en herbruikbare (\"open\") data.\n",
    "\n",
    "* Wikipedia bevat naast de tekstuele data, ook gestructureerde data \n",
    "* [Wikidata](https://wikidata.org) is de open data-wiki van Mediawiki (Wikipedia)\n",
    "* [DBpedia](https://dbpedia.org) is een open data-wiki op basis van de gegevens in Wikipedia en andere bronnen.\n",
    "\n",
    "Je kunt deze gegevens op verschillende manieren benaderen, bijvoorbeeld via SPARQL queries.\n",
    "\n",
    "*Opmerking*: deze gegevens zijn bedoeld om door computers gelezen te worden; voor mensen zijn de resultaten niet altijd handig.\n",
    "\n",
    "Deze linked data vormt de eerste stap naar het Semantische web."
   ]
  },
  {
   "cell_type": "markdown",
   "metadata": {},
   "source": [
    "**Opdrachten**\n",
    "\n",
    "* zoek Hedy Lamarr op Wikidata\n",
    "* zoek Hedy Lamarr op DBPedia\n",
    "    * gebruik bijvoorbeeld: http://dbpedia.org/fct/facet.vsp\n",
    "    * wat is haar rol in \"How we got to now\"?"
   ]
  },
  {
   "cell_type": "markdown",
   "metadata": {},
   "source": [
    "-----"
   ]
  }
 ],
 "metadata": {
  "kernelspec": {
   "display_name": "Python 3",
   "language": "python",
   "name": "python3"
  },
  "language_info": {
   "codemirror_mode": {
    "name": "ipython",
    "version": 3
   },
   "file_extension": ".py",
   "mimetype": "text/x-python",
   "name": "python",
   "nbconvert_exporter": "python",
   "pygments_lexer": "ipython3",
   "version": "3.7.6"
  }
 },
 "nbformat": 4,
 "nbformat_minor": 4
}
