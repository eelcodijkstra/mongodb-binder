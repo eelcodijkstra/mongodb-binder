{
 "cells": [
  {
   "cell_type": "markdown",
   "metadata": {},
   "source": [
    "# C(R)UD: toevoegen (insert), veranderen (update) en verwijderen (delete)\n",
    "\n",
    "In het vorige notebook hebben aandacht besteed aan het opvragen van gegevens uit de datebase.\n",
    "In dit notebook gaan we in op het toevoegen (insert of create), veranderen (update) en verwijderen (delete) van documenten in de database. We hebben dan de basisopdrachten (CRUD) van een database-systeem behandeld."
   ]
  },
  {
   "cell_type": "markdown",
   "metadata": {},
   "source": [
    "De onderstaande opdracht is nodig als initialisatie in sommige omgevingen."
   ]
  },
  {
   "cell_type": "code",
   "execution_count": 1,
   "metadata": {},
   "outputs": [],
   "source": [
    "import os\n",
    "os.environ[\"PATH\"]=os.environ[\"PATH\"] + \":/usr/local/bin\""
   ]
  },
  {
   "cell_type": "markdown",
   "metadata": {},
   "source": [
    "## Initialisaties"
   ]
  },
  {
   "cell_type": "code",
   "execution_count": 2,
   "metadata": {},
   "outputs": [
    {
     "name": "stdout",
     "output_type": "stream",
     "text": [
      "Database name: eelco-demodb\n",
      "Mongo version 3.11.0\n"
     ]
    },
    {
     "data": {
      "text/plain": [
       "0"
      ]
     },
     "execution_count": 2,
     "metadata": {},
     "output_type": "execute_result"
    }
   ],
   "source": [
    "import os\n",
    "import re\n",
    "import pandas as pd\n",
    "import numpy as np\n",
    "from IPython.core.display import display, HTML\n",
    "import pymongo\n",
    "from bson.objectid import ObjectId\n",
    "\n",
    "pd.set_option('max_colwidth',160)\n",
    "\n",
    "userline = !echo $USER\n",
    "username = userline[0]\n",
    "dbname = username + \"-demodb\"\n",
    "print(\"Database name: \" + dbname)\n",
    "\n",
    "print('Mongo version', pymongo.__version__)\n",
    "client = pymongo.MongoClient('localhost', 27017)\n",
    "db = client[dbname]\n",
    "collection = db.contacts\n",
    "\n",
    "collection.drop()\n",
    "os.system('mongoimport -d ' + dbname + ' -c contacts adressen.json')"
   ]
  },
  {
   "cell_type": "markdown",
   "metadata": {},
   "source": [
    "## Insert: toevoegen van documenten\n",
    "\n",
    "Met de `insert`-opdracht kunnen we documenten aan een collectie toevoegen.\n",
    "Vaak gebruiken we `insert_one`, om een enkel document toe te voegen."
   ]
  },
  {
   "cell_type": "code",
   "execution_count": 3,
   "metadata": {},
   "outputs": [
    {
     "data": {
      "text/plain": [
       "<pymongo.results.InsertOneResult at 0x10a81f8c0>"
      ]
     },
     "execution_count": 3,
     "metadata": {},
     "output_type": "execute_result"
    }
   ],
   "source": [
    "person = {\"name\": \"Sylvia Hansma\", \n",
    "          \"email\": \"sylh123@hotmail.com\", \n",
    "          \"address\": {\"street\": \"Rijksstraatweg 84\", \"city\": \"Halfweg\"}\n",
    "         }\n",
    "collection.insert_one(person)"
   ]
  },
  {
   "cell_type": "code",
   "execution_count": 4,
   "metadata": {},
   "outputs": [
    {
     "data": {
      "text/plain": [
       "[{'_id': ObjectId('5f96a4335359d765ea1d12ca'),\n",
       "  'name': 'Sylvia Hansma',\n",
       "  'email': 'sylh123@hotmail.com',\n",
       "  'address': {'street': 'Rijksstraatweg 84', 'city': 'Halfweg'}}]"
      ]
     },
     "execution_count": 4,
     "metadata": {},
     "output_type": "execute_result"
    }
   ],
   "source": [
    "list(collection.find({\"name\": \"Sylvia Hansma\"}))"
   ]
  },
  {
   "cell_type": "markdown",
   "metadata": {},
   "source": [
    "### Dubbele inserts\n",
    "\n",
    "**Let op**: als je deze insert-opdracht herhaalt, voeg je nog  nog een kopie van hetzelfde document aan de collectie toe.\n",
    "Dit is een nadeel van het laten genereren van de `_id` door MongoDB. (We zullen later behandelen hoe je documenten verwijdert.) \n",
    "\n",
    "**Opdracht** Ga dit na."
   ]
  },
  {
   "cell_type": "code",
   "execution_count": 5,
   "metadata": {},
   "outputs": [
    {
     "data": {
      "text/plain": [
       "[{'_id': ObjectId('5f96a4335359d765ea1d12ca'),\n",
       "  'name': 'Sylvia Hansma',\n",
       "  'email': 'sylh123@hotmail.com',\n",
       "  'address': {'street': 'Rijksstraatweg 84', 'city': 'Halfweg'}},\n",
       " {'_id': ObjectId('5f96a4365359d765ea1d12cb'),\n",
       "  'name': 'Sylvia Hansma',\n",
       "  'email': 'sylh123@hotmail.com',\n",
       "  'address': {'street': 'Rijksstraatweg 84', 'city': 'Halfweg'}}]"
      ]
     },
     "execution_count": 5,
     "metadata": {},
     "output_type": "execute_result"
    }
   ],
   "source": [
    "person = {\"name\": \"Sylvia Hansma\", \n",
    "          \"email\": \"sylh123@hotmail.com\", \n",
    "          \"address\": {\"street\": \"Rijksstraatweg 84\", \"city\": \"Halfweg\"}\n",
    "         }\n",
    "collection.insert_one(person)\n",
    "list(collection.find({\"name\": \"Sylvia Hansma\"}))"
   ]
  },
  {
   "cell_type": "markdown",
   "metadata": {},
   "source": [
    "## Update\n",
    "\n",
    "Door middel van een update-opdracht kun je bepaalde velden veranderen of toevoegen (via `$set`, met een aantal nieuwe waarden).\n",
    "\n",
    "**Veranderen** van gegevens in bestaande velden (properties):"
   ]
  },
  {
   "cell_type": "code",
   "execution_count": 6,
   "metadata": {},
   "outputs": [
    {
     "name": "stdout",
     "output_type": "stream",
     "text": [
      "{'_id': ObjectId('5f96a43237a74f1b5850d65c'), 'name': 'Anna Verschuur', 'email': 'anna@hotmail.com', 'address': {'street': 'Mozartplein 73', 'city': 'Rotterdam', 'postcode': '3021 BA'}}\n"
     ]
    }
   ],
   "source": [
    "upd_obj = {\"address.street\": \"Mozartplein 73\", \"address.city\": \"Rotterdam\", \"address.postcode\": \"3021 BA\"}\n",
    "\n",
    "collection.update_one({\"name\": \"Anna Verschuur\"}, {\"$set\": upd_obj})\n",
    "obj = collection.find_one({\"name\": \"Anna Verschuur\"})\n",
    "print(obj)"
   ]
  },
  {
   "cell_type": "markdown",
   "metadata": {},
   "source": [
    "**Opdracht** Maak een opdracht voor het aanpassen van het email-adres van Hans de Boer in de database."
   ]
  },
  {
   "cell_type": "code",
   "execution_count": 7,
   "metadata": {},
   "outputs": [
    {
     "name": "stdout",
     "output_type": "stream",
     "text": [
      "{'_id': ObjectId('5f96a43237a74f1b5850d658'), 'name': 'Hans de Boer', 'email': 'hansdb@ziggo.nl', 'tel': '06-1290 8746'}\n"
     ]
    }
   ],
   "source": [
    "upd_obj = {\"email\": \"hansdb@ziggo.nl\"}\n",
    "\n",
    "collection.update_one({\"name\": \"Hans de Boer\"}, {\"$set\": upd_obj})\n",
    "obj = collection.find_one({\"name\": \"Hans de Boer\"})\n",
    "print(obj)"
   ]
  },
  {
   "cell_type": "markdown",
   "metadata": {},
   "source": [
    "**Toevoegen** van velden: als een veld in het `$set`-document niet bestaat, wordt dit toegevoegd. (Vgl. ook de *Upsert*, verderop.)\n",
    "\n",
    "> Dit is in een relationele database alleen mogelijk als je de tabel verandert: je voegt dan één of meer velden voor alle rijen in de tabel toe. In MongoDB kun je dit *per document* doen."
   ]
  },
  {
   "cell_type": "code",
   "execution_count": 8,
   "metadata": {},
   "outputs": [
    {
     "name": "stdout",
     "output_type": "stream",
     "text": [
      "{'_id': ObjectId('5f96a43237a74f1b5850d65c'), 'name': 'Anna Verschuur', 'email': 'anna33@gmail.com', 'address': {'street': 'Mozartplein 73', 'city': 'Rotterdam', 'postcode': '3021 BA'}, 'isFamily': True}\n"
     ]
    }
   ],
   "source": [
    "collection.update_one({\"name\": \"Anna Verschuur\"}, {\"$set\": {\"isFamily\": True, \"email\": \"anna33@gmail.com\"}})\n",
    "\n",
    "obj = collection.find_one({\"name\": \"Anna Verschuur\"})\n",
    "print(obj)"
   ]
  },
  {
   "cell_type": "markdown",
   "metadata": {},
   "source": [
    "**Opdracht** Ga na dat velden op deze manier niet tweemaal toegevoegd worden."
   ]
  },
  {
   "cell_type": "code",
   "execution_count": 9,
   "metadata": {},
   "outputs": [
    {
     "name": "stdout",
     "output_type": "stream",
     "text": [
      "{'_id': ObjectId('5f96a43237a74f1b5850d65c'), 'name': 'Anna Verschuur', 'email': 'anna33@gmail.com', 'address': {'street': 'Mozartplein 73', 'city': 'Rotterdam', 'postcode': '3021 BA'}, 'isFamily': True}\n"
     ]
    }
   ],
   "source": [
    "collection.update_one({\"name\": \"Anna Verschuur\"}, {\"$set\": {\"isFamily\": True, \"email\": \"anna33@gmail.com\"}})\n",
    "\n",
    "obj = collection.find_one({\"name\": \"Anna Verschuur\"})\n",
    "print(obj)"
   ]
  },
  {
   "cell_type": "markdown",
   "metadata": {},
   "source": [
    "### Unset: verwijderen van velden (properties)\n",
    "\n",
    "Je kunt een ongewenste veld (property) van een document verwijderen met de `$unset`-opdracht. De waarde van de property is in dit geval niet relevant.\n",
    "\n",
    "> Deze `$unset` kan handig zijn als een foute update resulteert in het toevoegen van een nieuw veld in plaats van in een update van een bestaand veld."
   ]
  },
  {
   "cell_type": "code",
   "execution_count": 10,
   "metadata": {},
   "outputs": [
    {
     "name": "stdout",
     "output_type": "stream",
     "text": [
      "{'_id': ObjectId('5f96a43237a74f1b5850d65c'), 'name': 'Anna Verschuur', 'email': 'anna33@gmail.com', 'address': {'street': 'Mozartplein 73', 'city': 'Rotterdam', 'postcode': '3021 BA'}}\n"
     ]
    }
   ],
   "source": [
    "upd_obj = {\"isFamily\": True}\n",
    "collection.update_one({\"name\": \"Anna Verschuur\"}, {\"$unset\": upd_obj})\n",
    "\n",
    "obj = collection.find_one({\"name\": \"Anna Verschuur\"})\n",
    "print(obj)"
   ]
  },
  {
   "cell_type": "markdown",
   "metadata": {},
   "source": [
    "## Upsert: overschrijven of toevoegen\n",
    "\n",
    "Als je een document wilt toevoegen, waarbij je een eventueel bestaand document wilt overschrijven, dan kun je een update doen met `upsert=True`.\n",
    "Dit betekent dat je een bestaand document overschrijft (update), of, als dat er niet is, een nieuw document toevoegt (insert).\n",
    "\n",
    "> Hier moet je wel voorzichtig mee zijn: er kunnen bijvoorbeeld meerdere personen met dezelfde naam zijn. \n",
    "  Je kunt het query-deel van bijvoorbeeld uitbreiden met het email-adres. Met andere woorden: je moet een echte *key* gebruiken, waarmee je een document uniek identificeert. Je kunt natuurlijk ook de *primaire key* `_id` gebruiken."
   ]
  },
  {
   "cell_type": "code",
   "execution_count": 11,
   "metadata": {},
   "outputs": [
    {
     "data": {
      "text/plain": [
       "[{'_id': ObjectId('5f96a43237a74f1b5850d657'),\n",
       "  'name': 'Gijs Bennekom',\n",
       "  'email': 'gijsbkom@ziggo.nl',\n",
       "  'address': {'street': 'Lijsterlaan 132', 'city': 'Rotterdam'}},\n",
       " {'_id': ObjectId('5f96a43237a74f1b5850d658'),\n",
       "  'name': 'Hans de Boer',\n",
       "  'email': 'hansdb@ziggo.nl',\n",
       "  'tel': '06-1290 8746'},\n",
       " {'_id': ObjectId('5f96a43237a74f1b5850d659'),\n",
       "  'name': 'Joop de Zwart',\n",
       "  'email': 'zwartejoop@ziggo.nl',\n",
       "  'address': {'street': 'Rozengracht 42', 'city': 'Rotterdam'}},\n",
       " {'_id': ObjectId('5f96a43237a74f1b5850d65a'),\n",
       "  'name': 'Leontien de Bruin',\n",
       "  'email': ['lhmdebruin@hotmail.com', 'leontien134@tiscalimail.nl'],\n",
       "  'address': {'street': 'Tulpstraat 17', 'city': 'Amsterdam'}},\n",
       " {'_id': ObjectId('5f96a43237a74f1b5850d65b'),\n",
       "  'name': 'F.G. Schuitema',\n",
       "  'address': {'street': 'Eikenlaan 23',\n",
       "   'city': 'Amsterdam',\n",
       "   'postcode': '1001 AB'}},\n",
       " {'_id': ObjectId('5f96a43237a74f1b5850d65c'),\n",
       "  'name': 'Anna Verschuur',\n",
       "  'email': 'anna33@gmail.com',\n",
       "  'address': {'street': 'Mozartplein 73',\n",
       "   'city': 'Rotterdam',\n",
       "   'postcode': '3021 BA'}},\n",
       " {'_id': ObjectId('5f96a43237a74f1b5850d65d'),\n",
       "  'name': 'Adrie Vierhuis',\n",
       "  'email': 'a34huis@gmail.com',\n",
       "  'address': {'street': 'Beukenweg 12',\n",
       "   'city': 'Rotterdam',\n",
       "   'postcode': '2001 BC'},\n",
       "  'tel': '010-123 123 9'},\n",
       " {'_id': ObjectId('5f96a4335359d765ea1d12ca'),\n",
       "  'name': 'Sylvia Hansma',\n",
       "  'email': 'sylh123@hotmail.com',\n",
       "  'address': {'street': 'Rijksstraatweg 82', 'city': 'Halfweg'}},\n",
       " {'_id': ObjectId('5f96a4365359d765ea1d12cb'),\n",
       "  'name': 'Sylvia Hansma',\n",
       "  'email': 'sylh123@hotmail.com',\n",
       "  'address': {'street': 'Rijksstraatweg 84', 'city': 'Halfweg'}}]"
      ]
     },
     "execution_count": 11,
     "metadata": {},
     "output_type": "execute_result"
    }
   ],
   "source": [
    "person = {\"name\": \"Sylvia Hansma\", \n",
    "          \"email\": \"sylh123@hotmail.com\", \n",
    "          \"address\": {\"street\": \"Rijksstraatweg 82\", \"city\": \"Halfweg\"}\n",
    "         }\n",
    "collection.update_one({\"name\": person[\"name\"]}, {\"$set\": person}, upsert=True)\n",
    "list(collection.find())"
   ]
  },
  {
   "cell_type": "code",
   "execution_count": null,
   "metadata": {},
   "outputs": [],
   "source": []
  },
  {
   "cell_type": "markdown",
   "metadata": {},
   "source": [
    "## Meervoudige waarden\n",
    "\n",
    "Meervoudige waarden zijn wat lastiger aan te passen.\n",
    "We geven een voorbeeld van het toevoegen van een email-adres voor een contactpersoon.\n",
    "Het meeste werk hierbij gebeurt in Python.\n",
    "We moeten er rekening mee houden dat (i) er nog geen email-veld is; (ii) het email-veld uit een enkele string bestaat; (iii) het nieuwe email-adres al in de lijst zit.\n",
    "\n",
    "> Later zullen we zien hoe we het email-veld kunnen standaardiseren, wat deze update aanzienlijk vereenvoudigt.\n",
    "\n",
    "**Opdracht** Ga na dat het niet uitmaakt of je deze opdracht éénmaal of vaker uitvoert: het resultaat blijft gelijk. (Het nieuwe mailadres wordt niet toegevoegd als het al aanwezig is.)"
   ]
  },
  {
   "cell_type": "code",
   "execution_count": 12,
   "metadata": {},
   "outputs": [
    {
     "name": "stdout",
     "output_type": "stream",
     "text": [
      "before update:\n",
      "{'_id': ObjectId('5f96a43237a74f1b5850d658'), 'name': 'Hans de Boer', 'email': 'hansdb@ziggo.nl', 'tel': '06-1290 8746'}\n",
      "after update\n",
      "{'_id': ObjectId('5f96a43237a74f1b5850d658'), 'name': 'Hans de Boer', 'email': ['hansdb@ziggo.nl', 'hdebo@gmail.com'], 'tel': '06-1290 8746'}\n"
     ]
    }
   ],
   "source": [
    "# add email \"hdebo@gmail.com\" to email-adresses of Hans de Boer\n",
    "\n",
    "newemail = \"hdebo@gmail.com\"\n",
    "obj = collection.find_one({\"name\": \"Hans de Boer\"})\n",
    "print(\"before update:\")\n",
    "print(obj)\n",
    "if \"email\" in obj:\n",
    "    email = obj[\"email\"]\n",
    "    if type(email) == list:\n",
    "        if newemail in email:\n",
    "            pass # already in list\n",
    "        else:\n",
    "            email.append(newemail)\n",
    "    elif email == newemail:\n",
    "        email = [email]\n",
    "    else:    \n",
    "        email = [email, newemail]\n",
    "else:\n",
    "    email = [newemail]\n",
    "upd_obj = {\"email\": email}\n",
    "collection.update_one({\"name\": \"Hans de Boer\"}, {\"$set\": upd_obj})\n",
    "obj = collection.find_one({\"name\": \"Hans de Boer\"})\n",
    "print(\"after update\")\n",
    "print(obj)"
   ]
  },
  {
   "cell_type": "code",
   "execution_count": null,
   "metadata": {},
   "outputs": [],
   "source": []
  },
  {
   "cell_type": "markdown",
   "metadata": {},
   "source": [
    "## Verwijderen van een document (delete)\n",
    "\n",
    "Voor het verwijderen van documenten heb je twee soorten opdrachten:\n",
    "\n",
    "* ``delete_one(filter-doc)``\n",
    "* ``delete_many(filter-doc)``\n",
    "\n",
    "De eerste opdracht verwijderd ten hoogste 1 document, ook als er meerdere documenten zijn die matchen met het filter-document."
   ]
  },
  {
   "cell_type": "markdown",
   "metadata": {},
   "source": [
    "Als er meerdere documenten zijn met dezelfde naam en andere eigenschappen, bijvoorbeeld doordat er per ongeluk een tweede `insert` uitgevoerd is, dan kun je het onbedoelde document verwijderen met behulp van de unieke `_id` in het filter"
   ]
  },
  {
   "cell_type": "code",
   "execution_count": 13,
   "metadata": {},
   "outputs": [
    {
     "data": {
      "text/plain": [
       "[{'_id': ObjectId('5f96a43237a74f1b5850d659'),\n",
       "  'name': 'Joop de Zwart',\n",
       "  'email': 'zwartejoop@ziggo.nl',\n",
       "  'address': {'street': 'Rozengracht 42', 'city': 'Rotterdam'}}]"
      ]
     },
     "execution_count": 13,
     "metadata": {},
     "output_type": "execute_result"
    }
   ],
   "source": [
    "list(collection.find({\"name\": re.compile(\"Joop\")}))"
   ]
  },
  {
   "cell_type": "code",
   "execution_count": 14,
   "metadata": {},
   "outputs": [
    {
     "data": {
      "text/plain": [
       "[]"
      ]
     },
     "execution_count": 14,
     "metadata": {},
     "output_type": "execute_result"
    }
   ],
   "source": [
    "collection.delete_one({\"name\": \"Joop de Zwart\"})\n",
    "\n",
    "list(collection.find({\"name\": re.compile(\"Joop\")}))"
   ]
  },
  {
   "cell_type": "markdown",
   "metadata": {},
   "source": [
    "**Opdracht (a)** zorg ervoor dat er twee documenten zijn met dezelfde inhoud voor \"Sylvia Hansma\"`."
   ]
  },
  {
   "cell_type": "markdown",
   "metadata": {},
   "source": [
    "`(zie hierboven, dubbele inserts; waarschijnlijk heb je deze 2 documenten al.)`"
   ]
  },
  {
   "cell_type": "markdown",
   "metadata": {},
   "source": [
    "**Opdracht (b)** Laat zien dat er twee (of meer) documenten zijn met dezelfde inhoud voor \"Sylvia Hansma\"`."
   ]
  },
  {
   "cell_type": "code",
   "execution_count": 15,
   "metadata": {},
   "outputs": [
    {
     "data": {
      "text/plain": [
       "[{'_id': ObjectId('5f96a4335359d765ea1d12ca'),\n",
       "  'name': 'Sylvia Hansma',\n",
       "  'email': 'sylh123@hotmail.com',\n",
       "  'address': {'street': 'Rijksstraatweg 82', 'city': 'Halfweg'}},\n",
       " {'_id': ObjectId('5f96a4365359d765ea1d12cb'),\n",
       "  'name': 'Sylvia Hansma',\n",
       "  'email': 'sylh123@hotmail.com',\n",
       "  'address': {'street': 'Rijksstraatweg 84', 'city': 'Halfweg'}}]"
      ]
     },
     "execution_count": 15,
     "metadata": {},
     "output_type": "execute_result"
    }
   ],
   "source": [
    "list(collection.find({\"name\": \"Sylvia Hansma\"}))"
   ]
  },
  {
   "cell_type": "markdown",
   "metadata": {},
   "source": [
    "**Opdracht (c)** Verwijder het onbedoelde document met behulp van de `_id` in het filter\n",
    "\n",
    "`Opmerking: de ObjectId zal steeds verschillend zijn, dit is een voorbeeld.`"
   ]
  },
  {
   "cell_type": "code",
   "execution_count": 18,
   "metadata": {},
   "outputs": [
    {
     "data": {
      "text/plain": [
       "[{'_id': ObjectId('5f96a4335359d765ea1d12ca'),\n",
       "  'name': 'Sylvia Hansma',\n",
       "  'email': 'sylh123@hotmail.com',\n",
       "  'address': {'street': 'Rijksstraatweg 82', 'city': 'Halfweg'}}]"
      ]
     },
     "execution_count": 18,
     "metadata": {},
     "output_type": "execute_result"
    }
   ],
   "source": [
    "collection.delete_one({\"_id\":ObjectId('5f96a4365359d765ea1d12cb')})\n",
    "list(collection.find({\"name\": \"Sylvia Hansma\"}))"
   ]
  },
  {
   "cell_type": "markdown",
   "metadata": {},
   "source": [
    "**Opdracht (d)** Formuleer een opdracht voor het verwijderen van alle documenten in `collection`. Laat zien dat de collection leeg is."
   ]
  },
  {
   "cell_type": "code",
   "execution_count": 19,
   "metadata": {},
   "outputs": [
    {
     "data": {
      "text/plain": [
       "<pymongo.results.DeleteResult at 0x11b839b40>"
      ]
     },
     "execution_count": 19,
     "metadata": {},
     "output_type": "execute_result"
    }
   ],
   "source": [
    "collection.delete_many({})"
   ]
  },
  {
   "cell_type": "code",
   "execution_count": 20,
   "metadata": {},
   "outputs": [
    {
     "data": {
      "text/plain": [
       "[]"
      ]
     },
     "execution_count": 20,
     "metadata": {},
     "output_type": "execute_result"
    }
   ],
   "source": [
    "list(collection.find())"
   ]
  },
  {
   "cell_type": "code",
   "execution_count": null,
   "metadata": {},
   "outputs": [],
   "source": []
  }
 ],
 "metadata": {
  "kernelspec": {
   "display_name": "Python 3",
   "language": "python",
   "name": "python3"
  },
  "language_info": {
   "codemirror_mode": {
    "name": "ipython",
    "version": 3
   },
   "file_extension": ".py",
   "mimetype": "text/x-python",
   "name": "python",
   "nbconvert_exporter": "python",
   "pygments_lexer": "ipython3",
   "version": "3.7.6"
  }
 },
 "nbformat": 4,
 "nbformat_minor": 4
}
