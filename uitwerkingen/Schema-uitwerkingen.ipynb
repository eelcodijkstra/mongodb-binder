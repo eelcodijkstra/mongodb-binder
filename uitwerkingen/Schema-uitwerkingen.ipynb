{
 "cells": [
  {
   "cell_type": "markdown",
   "metadata": {},
   "source": [
    "# Schema: schema's in MongoDB\n"
   ]
  },
  {
   "cell_type": "markdown",
   "metadata": {},
   "source": [
    "## Validator: (partieel) schema voor collection-documenten\n",
    "\n",
    "Elk document in een MongoDB collection heeft zijn eigen *structuur*: veldnamen en bijbehorende waarden (types).\n",
    "Deze grote vrijheid is niet handig als je een collectie wilt kunnen doorzoeken:\n",
    "daarvoor moet je weten welke namen en waarden de verschillende documenten gebruiken.\n",
    "Dit werkt beter als die documenten een bepaalde (minimale) gemeenschappelijke structuur hebben.\n",
    "\n",
    "Met behulp van een *validator* kun je een *minimale* structuur van de documenten in een collection beschrijven.\n",
    "MongoDB gebruikt deze validator bij het toevoegen of aanpassen van een document.\n",
    "Als dit document niet voldoet aan de beschrijving van de validator, wordt het niet toegevoegd.\n",
    "\n",
    "Je kunt de validator opgeven bij het aanmaken van de collection.\n",
    "Je kunt deze ook later toevoegen, met het db-commando `collMod` voor het aanpassen van de eigenschappen van een collection."
   ]
  },
  {
   "cell_type": "markdown",
   "metadata": {},
   "source": [
    "### Schema\n",
    "\n",
    "De structuur van de documenten in een collection noemen we een *schema*.\n",
    "In een MongoDB collection-schema bepaal je zelf welk deel van de structuur vastligt, \n",
    "en waar documenten kunnen verschillen.\n",
    "\n",
    "> In een SQL database beschrijft het (fysieke) schema de *volledige structuur* van de database: de tabellen, en de structuur van elke tabel (namen en types van de kolommen).\n",
    "Alle rijen (records) in een tabel hebben dezelfde structuur."
   ]
  },
  {
   "cell_type": "markdown",
   "metadata": {},
   "source": [
    "## Initialisaties"
   ]
  },
  {
   "cell_type": "code",
   "execution_count": 25,
   "metadata": {},
   "outputs": [
    {
     "name": "stdout",
     "output_type": "stream",
     "text": [
      "Database name: eelco-demodb\n",
      "Mongo version 3.11.0\n"
     ]
    },
    {
     "data": {
      "text/plain": [
       "0"
      ]
     },
     "execution_count": 25,
     "metadata": {},
     "output_type": "execute_result"
    }
   ],
   "source": [
    "import os\n",
    "import re\n",
    "import pandas as pd\n",
    "import numpy as np\n",
    "from IPython.core.display import display, HTML\n",
    "import pymongo\n",
    "\n",
    "os.environ[\"PATH\"]=os.environ[\"PATH\"] + \":/usr/local/bin\"\n",
    "pd.set_option('max_colwidth',160)\n",
    "\n",
    "userline = !echo $USER\n",
    "username = userline[0]\n",
    "dbname = username + \"-demodb\"\n",
    "print(\"Database name: \" + dbname)\n",
    "\n",
    "from pymongo import MongoClient\n",
    "print('Mongo version', pymongo.__version__)\n",
    "client = MongoClient('localhost', 27017)\n",
    "db = client[dbname]\n",
    "\n",
    "contacts = db.contacts\n",
    "contacts.drop()\n",
    "os.system('mongoimport -d ' + dbname + ' -c contacts adressen.json')"
   ]
  },
  {
   "cell_type": "markdown",
   "metadata": {},
   "source": [
    "## Tegenvoorbeeld: toevoegen van een vreemd document\n",
    "\n",
    "MongoDB-collections hebben in eerste instantie geen structuur (schema).\n",
    "Dit betekent dat je willekeurige documenten kun toevoegen, zoals we hier demonstreren:"
   ]
  },
  {
   "cell_type": "code",
   "execution_count": 26,
   "metadata": {},
   "outputs": [
    {
     "data": {
      "text/plain": [
       "<pymongo.results.InsertOneResult at 0x11dc3b280>"
      ]
     },
     "execution_count": 26,
     "metadata": {},
     "output_type": "execute_result"
    }
   ],
   "source": [
    "contacts.insert_one({\"kleur\": \"groen\", \"prijs\": 400, \"beschrijving\": \"fiets\"})"
   ]
  },
  {
   "cell_type": "code",
   "execution_count": 27,
   "metadata": {},
   "outputs": [
    {
     "data": {
      "text/plain": [
       "[{'_id': ObjectId('5fbc073037a74f1b58525f88'),\n",
       "  'name': 'Hans de Boer',\n",
       "  'email': 'hdb@example.com',\n",
       "  'tel': '06-1290 8746'},\n",
       " {'_id': ObjectId('5fbc073037a74f1b58525f89'),\n",
       "  'name': 'Gijs Bennekom',\n",
       "  'email': 'gijsbkom@ziggo.nl',\n",
       "  'address': {'street': 'Lijsterlaan 132', 'city': 'Rotterdam'}},\n",
       " {'_id': ObjectId('5fbc073037a74f1b58525f8a'),\n",
       "  'name': 'Adrie Vierhuis',\n",
       "  'email': 'a34huis@gmail.com',\n",
       "  'address': {'street': 'Beukenweg 12',\n",
       "   'city': 'Rotterdam',\n",
       "   'postcode': '2001 BC'},\n",
       "  'tel': '010-123 123 9'},\n",
       " {'_id': ObjectId('5fbc073037a74f1b58525f8b'),\n",
       "  'name': 'F.G. Schuitema',\n",
       "  'address': {'street': 'Eikenlaan 23',\n",
       "   'city': 'Amsterdam',\n",
       "   'postcode': '1001 AB'}},\n",
       " {'_id': ObjectId('5fbc073037a74f1b58525f8c'),\n",
       "  'name': 'Joop de Zwart',\n",
       "  'email': 'zwartejoop@ziggo.nl',\n",
       "  'address': {'street': 'Rozengracht 42', 'city': 'Rotterdam'}},\n",
       " {'_id': ObjectId('5fbc073037a74f1b58525f8d'),\n",
       "  'name': 'Leontien de Bruin',\n",
       "  'email': ['lhmdebruin@hotmail.com', 'leontien134@tiscalimail.nl'],\n",
       "  'address': {'street': 'Tulpstraat 17', 'city': 'Amsterdam'}},\n",
       " {'_id': ObjectId('5fbc073037a74f1b58525f8e'),\n",
       "  'name': 'Anna Verschuur',\n",
       "  'email': 'anna@hotmail.com',\n",
       "  'address': {'street': 'Noorderkade 102',\n",
       "   'city': 'Amsterdam',\n",
       "   'postcode': '1000 AA'}},\n",
       " {'_id': ObjectId('5fbc0730ef7d977745443ffa'),\n",
       "  'kleur': 'groen',\n",
       "  'prijs': 400,\n",
       "  'beschrijving': 'fiets'}]"
      ]
     },
     "execution_count": 27,
     "metadata": {},
     "output_type": "execute_result"
    }
   ],
   "source": [
    "list(contacts.find())"
   ]
  },
  {
   "cell_type": "markdown",
   "metadata": {},
   "source": [
    "Dit is natuurlijk niet de bedoeling.\n",
    "Als de database sterk gekoppeld is aan een enkele toepassing zal dit niet zo snel gebeuren.\n",
    "Maar een database wordt vaak door meerdere toepassingen gebruikt: je wilt dergelijke problemen dan voorkomen.\n",
    "\n",
    "Bovendien wil je weten welke velden (properties) gebruikt kunnen worden in de documenten in een bepaalde collection, zoals `contacts` of `agenda`."
   ]
  },
  {
   "cell_type": "markdown",
   "metadata": {},
   "source": [
    "### Zoeken van documenten via een *type*\n",
    "\n",
    "In de volgende zoekopdracht gebruiken we niet de waarde van een veld, maar het type.\n",
    "Dit komt later van pas bij het definiëren van een schema (validator)."
   ]
  },
  {
   "cell_type": "code",
   "execution_count": 28,
   "metadata": {},
   "outputs": [
    {
     "data": {
      "text/plain": [
       "[{'_id': ObjectId('5fbc0730ef7d977745443ffa'),\n",
       "  'kleur': 'groen',\n",
       "  'prijs': 400,\n",
       "  'beschrijving': 'fiets'}]"
      ]
     },
     "execution_count": 28,
     "metadata": {},
     "output_type": "execute_result"
    }
   ],
   "source": [
    "list(contacts.find({\"kleur\": {\"$type\": \"string\"}}))"
   ]
  },
  {
   "cell_type": "markdown",
   "metadata": {},
   "source": [
    "## Valideren van documenten\n",
    "\n",
    "Met behulp van een *validator* controleert MongoDB bij het toevoegen of aanpassen van een document in een collection of dat document voldoet aan de regels van die collection.\n",
    "\n",
    "Je kunt een validator zien als een query-expressie waarmee je alle \"valide\" documenten in de database filtert.\n",
    "\n",
    "We kunnen de validator van een collection instellen met behulp van het db-commando `collMod`."
   ]
  },
  {
   "cell_type": "markdown",
   "metadata": {},
   "source": [
    "### Definiëren van de validator\n",
    "\n",
    "Als minimale eis voor de documenten in de `contacts`-collection stellen we dat er tenminste een `name`-veld (property) is, en een `email` of een `tel`-veld.\n",
    "Dit beschrijven we met het volgende schema: "
   ]
  },
  {
   "cell_type": "code",
   "execution_count": 29,
   "metadata": {},
   "outputs": [],
   "source": [
    "contact_schema = {\"name\": {\"$type\": \"string\"},\n",
    "                  \"$or\": [{\"email\": {\"$type\": \"string\"}},\n",
    "                          {\"tel\": {\"$type\": \"string\"}}\n",
    "                         ]}"
   ]
  },
  {
   "cell_type": "markdown",
   "metadata": {},
   "source": [
    "We testen dit schema, door te zoeken naar de documenten die hier wel aan voldoen:"
   ]
  },
  {
   "cell_type": "code",
   "execution_count": 30,
   "metadata": {},
   "outputs": [
    {
     "data": {
      "text/plain": [
       "[{'_id': ObjectId('5fbc073037a74f1b58525f88'),\n",
       "  'name': 'Hans de Boer',\n",
       "  'email': 'hdb@example.com',\n",
       "  'tel': '06-1290 8746'},\n",
       " {'_id': ObjectId('5fbc073037a74f1b58525f89'),\n",
       "  'name': 'Gijs Bennekom',\n",
       "  'email': 'gijsbkom@ziggo.nl',\n",
       "  'address': {'street': 'Lijsterlaan 132', 'city': 'Rotterdam'}},\n",
       " {'_id': ObjectId('5fbc073037a74f1b58525f8a'),\n",
       "  'name': 'Adrie Vierhuis',\n",
       "  'email': 'a34huis@gmail.com',\n",
       "  'address': {'street': 'Beukenweg 12',\n",
       "   'city': 'Rotterdam',\n",
       "   'postcode': '2001 BC'},\n",
       "  'tel': '010-123 123 9'},\n",
       " {'_id': ObjectId('5fbc073037a74f1b58525f8c'),\n",
       "  'name': 'Joop de Zwart',\n",
       "  'email': 'zwartejoop@ziggo.nl',\n",
       "  'address': {'street': 'Rozengracht 42', 'city': 'Rotterdam'}},\n",
       " {'_id': ObjectId('5fbc073037a74f1b58525f8d'),\n",
       "  'name': 'Leontien de Bruin',\n",
       "  'email': ['lhmdebruin@hotmail.com', 'leontien134@tiscalimail.nl'],\n",
       "  'address': {'street': 'Tulpstraat 17', 'city': 'Amsterdam'}},\n",
       " {'_id': ObjectId('5fbc073037a74f1b58525f8e'),\n",
       "  'name': 'Anna Verschuur',\n",
       "  'email': 'anna@hotmail.com',\n",
       "  'address': {'street': 'Noorderkade 102',\n",
       "   'city': 'Amsterdam',\n",
       "   'postcode': '1000 AA'}}]"
      ]
     },
     "execution_count": 30,
     "metadata": {},
     "output_type": "execute_result"
    }
   ],
   "source": [
    "list(contacts.find(contact_schema))"
   ]
  },
  {
   "cell_type": "markdown",
   "metadata": {},
   "source": [
    "### Vinden van niet-valide documenten\n",
    "\n",
    "Vervolgens gaan we na welke documenten *niet* aan de validator-query voldoen.\n",
    "Hiervoor gebruiken we de `$nor`-operator met een lijst van deel-queries,\n",
    "in ons geval is de lijst maar 1 lang. (Er is geen `$not`, maar zo kan het ook.)"
   ]
  },
  {
   "cell_type": "code",
   "execution_count": 31,
   "metadata": {},
   "outputs": [
    {
     "data": {
      "text/plain": [
       "[{'_id': ObjectId('5fbc073037a74f1b58525f8b'),\n",
       "  'name': 'F.G. Schuitema',\n",
       "  'address': {'street': 'Eikenlaan 23',\n",
       "   'city': 'Amsterdam',\n",
       "   'postcode': '1001 AB'}},\n",
       " {'_id': ObjectId('5fbc0730ef7d977745443ffa'),\n",
       "  'kleur': 'groen',\n",
       "  'prijs': 400,\n",
       "  'beschrijving': 'fiets'}]"
      ]
     },
     "execution_count": 31,
     "metadata": {},
     "output_type": "execute_result"
    }
   ],
   "source": [
    "list(contacts.find({\"$nor\":[contact_schema]}))"
   ]
  },
  {
   "cell_type": "markdown",
   "metadata": {},
   "source": [
    "### Toevoegen van de validator aan de collection\n",
    "\n",
    "We voegen dit schema toe als *validator*-schema voor de collection `contacts`.\n",
    "\n",
    "> Je kunt de validator definiëren bij de initialisatie van de collection, maar je kunt deze achteraf ook nog veranderen, zoals we hier doen."
   ]
  },
  {
   "cell_type": "code",
   "execution_count": 32,
   "metadata": {},
   "outputs": [
    {
     "data": {
      "text/plain": [
       "{'ok': 1.0}"
      ]
     },
     "execution_count": 32,
     "metadata": {},
     "output_type": "execute_result"
    }
   ],
   "source": [
    "db.command(\"collMod\", \"contacts\", validator=contact_schema)"
   ]
  },
  {
   "cell_type": "markdown",
   "metadata": {},
   "source": [
    "### Voorbeeld: toevoegen van een valide document\n",
    "\n",
    "Het toevoegen van een document dat aan deze regels voldoet:"
   ]
  },
  {
   "cell_type": "code",
   "execution_count": 33,
   "metadata": {},
   "outputs": [
    {
     "data": {
      "text/plain": [
       "<pymongo.results.InsertOneResult at 0x11dcfa3c0>"
      ]
     },
     "execution_count": 33,
     "metadata": {},
     "output_type": "execute_result"
    }
   ],
   "source": [
    "contacts.insert_one({\"name\": \"Henk de Vries\", \"tel\": \"06 3333 8765\"})"
   ]
  },
  {
   "cell_type": "markdown",
   "metadata": {},
   "source": [
    "### Voorbeeld: toevoegen van een niet-valide document\n",
    "\n",
    "Het toevoegen van een document dat *niet* aan deze regels voldoet (door een foute keuze van het \"name\"-veld).\n",
    "\n",
    "> Dit geeft een foutmelding; later geven we een manier om hier handiger mee om te gaan in een programma."
   ]
  },
  {
   "cell_type": "code",
   "execution_count": 34,
   "metadata": {},
   "outputs": [
    {
     "ename": "WriteError",
     "evalue": "Document failed validation, full error: {'index': 0, 'code': 121, 'errmsg': 'Document failed validation'}",
     "output_type": "error",
     "traceback": [
      "\u001b[0;31m---------------------------------------------------------------------------\u001b[0m",
      "\u001b[0;31mWriteError\u001b[0m                                Traceback (most recent call last)",
      "\u001b[0;32m<ipython-input-34-1d896ced23c6>\u001b[0m in \u001b[0;36m<module>\u001b[0;34m\u001b[0m\n\u001b[0;32m----> 1\u001b[0;31m \u001b[0mcontacts\u001b[0m\u001b[0;34m.\u001b[0m\u001b[0minsert_one\u001b[0m\u001b[0;34m(\u001b[0m\u001b[0;34m{\u001b[0m\u001b[0;34m\"naam\"\u001b[0m\u001b[0;34m:\u001b[0m \u001b[0;34m\"Anne de Boer\"\u001b[0m\u001b[0;34m,\u001b[0m \u001b[0;34m\"tel\"\u001b[0m\u001b[0;34m:\u001b[0m \u001b[0;34m\"06 1234 8855\"\u001b[0m\u001b[0;34m}\u001b[0m\u001b[0;34m)\u001b[0m\u001b[0;34m\u001b[0m\u001b[0;34m\u001b[0m\u001b[0m\n\u001b[0m",
      "\u001b[0;32m/anaconda3/lib/python3.7/site-packages/pymongo/collection.py\u001b[0m in \u001b[0;36minsert_one\u001b[0;34m(self, document, bypass_document_validation, session)\u001b[0m\n\u001b[1;32m    699\u001b[0m                          \u001b[0mwrite_concern\u001b[0m\u001b[0;34m=\u001b[0m\u001b[0mwrite_concern\u001b[0m\u001b[0;34m,\u001b[0m\u001b[0;34m\u001b[0m\u001b[0;34m\u001b[0m\u001b[0m\n\u001b[1;32m    700\u001b[0m                          \u001b[0mbypass_doc_val\u001b[0m\u001b[0;34m=\u001b[0m\u001b[0mbypass_document_validation\u001b[0m\u001b[0;34m,\u001b[0m\u001b[0;34m\u001b[0m\u001b[0;34m\u001b[0m\u001b[0m\n\u001b[0;32m--> 701\u001b[0;31m                          session=session),\n\u001b[0m\u001b[1;32m    702\u001b[0m             write_concern.acknowledged)\n\u001b[1;32m    703\u001b[0m \u001b[0;34m\u001b[0m\u001b[0m\n",
      "\u001b[0;32m/anaconda3/lib/python3.7/site-packages/pymongo/collection.py\u001b[0m in \u001b[0;36m_insert\u001b[0;34m(self, docs, ordered, check_keys, manipulate, write_concern, op_id, bypass_doc_val, session)\u001b[0m\n\u001b[1;32m    613\u001b[0m             return self._insert_one(\n\u001b[1;32m    614\u001b[0m                 \u001b[0mdocs\u001b[0m\u001b[0;34m,\u001b[0m \u001b[0mordered\u001b[0m\u001b[0;34m,\u001b[0m \u001b[0mcheck_keys\u001b[0m\u001b[0;34m,\u001b[0m \u001b[0mmanipulate\u001b[0m\u001b[0;34m,\u001b[0m \u001b[0mwrite_concern\u001b[0m\u001b[0;34m,\u001b[0m \u001b[0mop_id\u001b[0m\u001b[0;34m,\u001b[0m\u001b[0;34m\u001b[0m\u001b[0;34m\u001b[0m\u001b[0m\n\u001b[0;32m--> 615\u001b[0;31m                 bypass_doc_val, session)\n\u001b[0m\u001b[1;32m    616\u001b[0m \u001b[0;34m\u001b[0m\u001b[0m\n\u001b[1;32m    617\u001b[0m         \u001b[0mids\u001b[0m \u001b[0;34m=\u001b[0m \u001b[0;34m[\u001b[0m\u001b[0;34m]\u001b[0m\u001b[0;34m\u001b[0m\u001b[0;34m\u001b[0m\u001b[0m\n",
      "\u001b[0;32m/anaconda3/lib/python3.7/site-packages/pymongo/collection.py\u001b[0m in \u001b[0;36m_insert_one\u001b[0;34m(self, doc, ordered, check_keys, manipulate, write_concern, op_id, bypass_doc_val, session)\u001b[0m\n\u001b[1;32m    601\u001b[0m \u001b[0;34m\u001b[0m\u001b[0m\n\u001b[1;32m    602\u001b[0m         self.__database.client._retryable_write(\n\u001b[0;32m--> 603\u001b[0;31m             acknowledged, _insert_command, session)\n\u001b[0m\u001b[1;32m    604\u001b[0m \u001b[0;34m\u001b[0m\u001b[0m\n\u001b[1;32m    605\u001b[0m         \u001b[0;32mif\u001b[0m \u001b[0;32mnot\u001b[0m \u001b[0misinstance\u001b[0m\u001b[0;34m(\u001b[0m\u001b[0mdoc\u001b[0m\u001b[0;34m,\u001b[0m \u001b[0mRawBSONDocument\u001b[0m\u001b[0;34m)\u001b[0m\u001b[0;34m:\u001b[0m\u001b[0;34m\u001b[0m\u001b[0;34m\u001b[0m\u001b[0m\n",
      "\u001b[0;32m/anaconda3/lib/python3.7/site-packages/pymongo/mongo_client.py\u001b[0m in \u001b[0;36m_retryable_write\u001b[0;34m(self, retryable, func, session)\u001b[0m\n\u001b[1;32m   1496\u001b[0m         \u001b[0;34m\"\"\"Internal retryable write helper.\"\"\"\u001b[0m\u001b[0;34m\u001b[0m\u001b[0;34m\u001b[0m\u001b[0m\n\u001b[1;32m   1497\u001b[0m         \u001b[0;32mwith\u001b[0m \u001b[0mself\u001b[0m\u001b[0;34m.\u001b[0m\u001b[0m_tmp_session\u001b[0m\u001b[0;34m(\u001b[0m\u001b[0msession\u001b[0m\u001b[0;34m)\u001b[0m \u001b[0;32mas\u001b[0m \u001b[0ms\u001b[0m\u001b[0;34m:\u001b[0m\u001b[0;34m\u001b[0m\u001b[0;34m\u001b[0m\u001b[0m\n\u001b[0;32m-> 1498\u001b[0;31m             \u001b[0;32mreturn\u001b[0m \u001b[0mself\u001b[0m\u001b[0;34m.\u001b[0m\u001b[0m_retry_with_session\u001b[0m\u001b[0;34m(\u001b[0m\u001b[0mretryable\u001b[0m\u001b[0;34m,\u001b[0m \u001b[0mfunc\u001b[0m\u001b[0;34m,\u001b[0m \u001b[0ms\u001b[0m\u001b[0;34m,\u001b[0m \u001b[0;32mNone\u001b[0m\u001b[0;34m)\u001b[0m\u001b[0;34m\u001b[0m\u001b[0;34m\u001b[0m\u001b[0m\n\u001b[0m\u001b[1;32m   1499\u001b[0m \u001b[0;34m\u001b[0m\u001b[0m\n\u001b[1;32m   1500\u001b[0m     \u001b[0;32mdef\u001b[0m \u001b[0m_handle_getlasterror\u001b[0m\u001b[0;34m(\u001b[0m\u001b[0mself\u001b[0m\u001b[0;34m,\u001b[0m \u001b[0maddress\u001b[0m\u001b[0;34m,\u001b[0m \u001b[0merror_msg\u001b[0m\u001b[0;34m)\u001b[0m\u001b[0;34m:\u001b[0m\u001b[0;34m\u001b[0m\u001b[0;34m\u001b[0m\u001b[0m\n",
      "\u001b[0;32m/anaconda3/lib/python3.7/site-packages/pymongo/mongo_client.py\u001b[0m in \u001b[0;36m_retry_with_session\u001b[0;34m(self, retryable, func, session, bulk)\u001b[0m\n\u001b[1;32m   1382\u001b[0m         retryable = (retryable and self.retry_writes\n\u001b[1;32m   1383\u001b[0m                      and session and not session.in_transaction)\n\u001b[0;32m-> 1384\u001b[0;31m         \u001b[0;32mreturn\u001b[0m \u001b[0mself\u001b[0m\u001b[0;34m.\u001b[0m\u001b[0m_retry_internal\u001b[0m\u001b[0;34m(\u001b[0m\u001b[0mretryable\u001b[0m\u001b[0;34m,\u001b[0m \u001b[0mfunc\u001b[0m\u001b[0;34m,\u001b[0m \u001b[0msession\u001b[0m\u001b[0;34m,\u001b[0m \u001b[0mbulk\u001b[0m\u001b[0;34m)\u001b[0m\u001b[0;34m\u001b[0m\u001b[0;34m\u001b[0m\u001b[0m\n\u001b[0m\u001b[1;32m   1385\u001b[0m \u001b[0;34m\u001b[0m\u001b[0m\n\u001b[1;32m   1386\u001b[0m     \u001b[0;32mdef\u001b[0m \u001b[0m_retry_internal\u001b[0m\u001b[0;34m(\u001b[0m\u001b[0mself\u001b[0m\u001b[0;34m,\u001b[0m \u001b[0mretryable\u001b[0m\u001b[0;34m,\u001b[0m \u001b[0mfunc\u001b[0m\u001b[0;34m,\u001b[0m \u001b[0msession\u001b[0m\u001b[0;34m,\u001b[0m \u001b[0mbulk\u001b[0m\u001b[0;34m)\u001b[0m\u001b[0;34m:\u001b[0m\u001b[0;34m\u001b[0m\u001b[0;34m\u001b[0m\u001b[0m\n",
      "\u001b[0;32m/anaconda3/lib/python3.7/site-packages/pymongo/mongo_client.py\u001b[0m in \u001b[0;36m_retry_internal\u001b[0;34m(self, retryable, func, session, bulk)\u001b[0m\n\u001b[1;32m   1414\u001b[0m                             \u001b[0;32mraise\u001b[0m \u001b[0mlast_error\u001b[0m\u001b[0;34m\u001b[0m\u001b[0;34m\u001b[0m\u001b[0m\n\u001b[1;32m   1415\u001b[0m                         \u001b[0mretryable\u001b[0m \u001b[0;34m=\u001b[0m \u001b[0;32mFalse\u001b[0m\u001b[0;34m\u001b[0m\u001b[0;34m\u001b[0m\u001b[0m\n\u001b[0;32m-> 1416\u001b[0;31m                     \u001b[0;32mreturn\u001b[0m \u001b[0mfunc\u001b[0m\u001b[0;34m(\u001b[0m\u001b[0msession\u001b[0m\u001b[0;34m,\u001b[0m \u001b[0msock_info\u001b[0m\u001b[0;34m,\u001b[0m \u001b[0mretryable\u001b[0m\u001b[0;34m)\u001b[0m\u001b[0;34m\u001b[0m\u001b[0;34m\u001b[0m\u001b[0m\n\u001b[0m\u001b[1;32m   1417\u001b[0m             \u001b[0;32mexcept\u001b[0m \u001b[0mServerSelectionTimeoutError\u001b[0m\u001b[0;34m:\u001b[0m\u001b[0;34m\u001b[0m\u001b[0;34m\u001b[0m\u001b[0m\n\u001b[1;32m   1418\u001b[0m                 \u001b[0;32mif\u001b[0m \u001b[0mis_retrying\u001b[0m\u001b[0;34m(\u001b[0m\u001b[0;34m)\u001b[0m\u001b[0;34m:\u001b[0m\u001b[0;34m\u001b[0m\u001b[0;34m\u001b[0m\u001b[0m\n",
      "\u001b[0;32m/anaconda3/lib/python3.7/site-packages/pymongo/collection.py\u001b[0m in \u001b[0;36m_insert_command\u001b[0;34m(session, sock_info, retryable_write)\u001b[0m\n\u001b[1;32m    598\u001b[0m                 retryable_write=retryable_write)\n\u001b[1;32m    599\u001b[0m \u001b[0;34m\u001b[0m\u001b[0m\n\u001b[0;32m--> 600\u001b[0;31m             \u001b[0m_check_write_command_response\u001b[0m\u001b[0;34m(\u001b[0m\u001b[0mresult\u001b[0m\u001b[0;34m)\u001b[0m\u001b[0;34m\u001b[0m\u001b[0;34m\u001b[0m\u001b[0m\n\u001b[0m\u001b[1;32m    601\u001b[0m \u001b[0;34m\u001b[0m\u001b[0m\n\u001b[1;32m    602\u001b[0m         self.__database.client._retryable_write(\n",
      "\u001b[0;32m/anaconda3/lib/python3.7/site-packages/pymongo/helpers.py\u001b[0m in \u001b[0;36m_check_write_command_response\u001b[0;34m(result)\u001b[0m\n\u001b[1;32m    228\u001b[0m     \u001b[0mwrite_errors\u001b[0m \u001b[0;34m=\u001b[0m \u001b[0mresult\u001b[0m\u001b[0;34m.\u001b[0m\u001b[0mget\u001b[0m\u001b[0;34m(\u001b[0m\u001b[0;34m\"writeErrors\"\u001b[0m\u001b[0;34m)\u001b[0m\u001b[0;34m\u001b[0m\u001b[0;34m\u001b[0m\u001b[0m\n\u001b[1;32m    229\u001b[0m     \u001b[0;32mif\u001b[0m \u001b[0mwrite_errors\u001b[0m\u001b[0;34m:\u001b[0m\u001b[0;34m\u001b[0m\u001b[0;34m\u001b[0m\u001b[0m\n\u001b[0;32m--> 230\u001b[0;31m         \u001b[0m_raise_last_write_error\u001b[0m\u001b[0;34m(\u001b[0m\u001b[0mwrite_errors\u001b[0m\u001b[0;34m)\u001b[0m\u001b[0;34m\u001b[0m\u001b[0;34m\u001b[0m\u001b[0m\n\u001b[0m\u001b[1;32m    231\u001b[0m \u001b[0;34m\u001b[0m\u001b[0m\n\u001b[1;32m    232\u001b[0m     \u001b[0merror\u001b[0m \u001b[0;34m=\u001b[0m \u001b[0mresult\u001b[0m\u001b[0;34m.\u001b[0m\u001b[0mget\u001b[0m\u001b[0;34m(\u001b[0m\u001b[0;34m\"writeConcernError\"\u001b[0m\u001b[0;34m)\u001b[0m\u001b[0;34m\u001b[0m\u001b[0;34m\u001b[0m\u001b[0m\n",
      "\u001b[0;32m/anaconda3/lib/python3.7/site-packages/pymongo/helpers.py\u001b[0m in \u001b[0;36m_raise_last_write_error\u001b[0;34m(write_errors)\u001b[0m\n\u001b[1;32m    210\u001b[0m     \u001b[0;32mif\u001b[0m \u001b[0merror\u001b[0m\u001b[0;34m.\u001b[0m\u001b[0mget\u001b[0m\u001b[0;34m(\u001b[0m\u001b[0;34m\"code\"\u001b[0m\u001b[0;34m)\u001b[0m \u001b[0;34m==\u001b[0m \u001b[0;36m11000\u001b[0m\u001b[0;34m:\u001b[0m\u001b[0;34m\u001b[0m\u001b[0;34m\u001b[0m\u001b[0m\n\u001b[1;32m    211\u001b[0m         \u001b[0;32mraise\u001b[0m \u001b[0mDuplicateKeyError\u001b[0m\u001b[0;34m(\u001b[0m\u001b[0merror\u001b[0m\u001b[0;34m.\u001b[0m\u001b[0mget\u001b[0m\u001b[0;34m(\u001b[0m\u001b[0;34m\"errmsg\"\u001b[0m\u001b[0;34m)\u001b[0m\u001b[0;34m,\u001b[0m \u001b[0;36m11000\u001b[0m\u001b[0;34m,\u001b[0m \u001b[0merror\u001b[0m\u001b[0;34m)\u001b[0m\u001b[0;34m\u001b[0m\u001b[0;34m\u001b[0m\u001b[0m\n\u001b[0;32m--> 212\u001b[0;31m     \u001b[0;32mraise\u001b[0m \u001b[0mWriteError\u001b[0m\u001b[0;34m(\u001b[0m\u001b[0merror\u001b[0m\u001b[0;34m.\u001b[0m\u001b[0mget\u001b[0m\u001b[0;34m(\u001b[0m\u001b[0;34m\"errmsg\"\u001b[0m\u001b[0;34m)\u001b[0m\u001b[0;34m,\u001b[0m \u001b[0merror\u001b[0m\u001b[0;34m.\u001b[0m\u001b[0mget\u001b[0m\u001b[0;34m(\u001b[0m\u001b[0;34m\"code\"\u001b[0m\u001b[0;34m)\u001b[0m\u001b[0;34m,\u001b[0m \u001b[0merror\u001b[0m\u001b[0;34m)\u001b[0m\u001b[0;34m\u001b[0m\u001b[0;34m\u001b[0m\u001b[0m\n\u001b[0m\u001b[1;32m    213\u001b[0m \u001b[0;34m\u001b[0m\u001b[0m\n\u001b[1;32m    214\u001b[0m \u001b[0;34m\u001b[0m\u001b[0m\n",
      "\u001b[0;31mWriteError\u001b[0m: Document failed validation, full error: {'index': 0, 'code': 121, 'errmsg': 'Document failed validation'}"
     ]
    }
   ],
   "source": [
    "contacts.insert_one({\"naam\": \"Anne de Boer\", \"tel\": \"06 1234 8855\"})"
   ]
  },
  {
   "cell_type": "markdown",
   "metadata": {},
   "source": [
    "Het is handiger om dergelijke fouten in het programma zelf op te vangen.\n",
    "Python biedt hiervoor de mogelijkheid met het exception-mechanisme, zie het voorbeeld hieronder:"
   ]
  },
  {
   "cell_type": "code",
   "execution_count": 35,
   "metadata": {},
   "outputs": [
    {
     "name": "stdout",
     "output_type": "stream",
     "text": [
      "Document not inserted: Document failed validation, full error: {'index': 0, 'code': 121, 'errmsg': 'Document failed validation'}\n"
     ]
    }
   ],
   "source": [
    "try:\n",
    "    contacts.insert_one({\"naam\": \"Anne de Boer\", \"tel\": \"06 1234 8855\"})\n",
    "except pymongo.errors.WriteError as s:\n",
    "    print(\"Document not inserted: \" + str(s))\n",
    "else:\n",
    "    print(\"insert OK\")"
   ]
  },
  {
   "cell_type": "markdown",
   "metadata": {},
   "source": [
    "## Vinden van niet-valide documenten\n",
    "\n",
    "Als je achteraf de validator aanpast, kan de collection nog steeds documenten bevatten die niet aan deze nieuwe validator voldoen. Dit moet je zelf controleren, en de data eventueel aanpassen.\n",
    "\n",
    "> Het is verstandig om dit bij elke verandering van een schema te doen, anders loop je het risico op een foutmelding bij een `update` van een niet-valide document."
   ]
  },
  {
   "cell_type": "code",
   "execution_count": 36,
   "metadata": {},
   "outputs": [
    {
     "data": {
      "text/plain": [
       "[{'_id': ObjectId('5fbc073037a74f1b58525f8b'),\n",
       "  'name': 'F.G. Schuitema',\n",
       "  'address': {'street': 'Eikenlaan 23',\n",
       "   'city': 'Amsterdam',\n",
       "   'postcode': '1001 AB'}},\n",
       " {'_id': ObjectId('5fbc0730ef7d977745443ffa'),\n",
       "  'kleur': 'groen',\n",
       "  'prijs': 400,\n",
       "  'beschrijving': 'fiets'}]"
      ]
     },
     "execution_count": 36,
     "metadata": {},
     "output_type": "execute_result"
    }
   ],
   "source": [
    "list(contacts.find({\"$nor\": [contact_schema]}))"
   ]
  },
  {
   "cell_type": "markdown",
   "metadata": {},
   "source": [
    "## Opdracht\n",
    "\n",
    "* definieer het schema `contact_schema` zodat naast een document naast de naam, een telefoonnummer of een emailadres, *ook* een fysiek adres  bevat. Dit fysieke adres heeft (tenminste) de eigenschap (property) `city`.\n",
    "\n",
    "> tip: voor het zoeken naar veld `b` als onderdeel van veld `a` gebruik je de notatie `\"a.b\": ...`."
   ]
  },
  {
   "cell_type": "code",
   "execution_count": 37,
   "metadata": {},
   "outputs": [],
   "source": [
    "contact_schema = {\"name\": {\"$type\": \"string\"},\n",
    "                  \"$or\": [{\"email\": {\"$type\": \"string\"}},\n",
    "                          {\"tel\": {\"$type\": \"string\"}}\n",
    "                         ],\n",
    "                  \"address.city\": {\"$type\": \"string\"}\n",
    "                 }"
   ]
  },
  {
   "cell_type": "markdown",
   "metadata": {},
   "source": [
    "* zoek alle documenten die *niet* aan dit schema voldoen."
   ]
  },
  {
   "cell_type": "code",
   "execution_count": 38,
   "metadata": {},
   "outputs": [
    {
     "data": {
      "text/plain": [
       "[{'_id': ObjectId('5fbc073037a74f1b58525f88'),\n",
       "  'name': 'Hans de Boer',\n",
       "  'email': 'hdb@example.com',\n",
       "  'tel': '06-1290 8746'},\n",
       " {'_id': ObjectId('5fbc073037a74f1b58525f8b'),\n",
       "  'name': 'F.G. Schuitema',\n",
       "  'address': {'street': 'Eikenlaan 23',\n",
       "   'city': 'Amsterdam',\n",
       "   'postcode': '1001 AB'}},\n",
       " {'_id': ObjectId('5fbc0730ef7d977745443ffa'),\n",
       "  'kleur': 'groen',\n",
       "  'prijs': 400,\n",
       "  'beschrijving': 'fiets'},\n",
       " {'_id': ObjectId('5fbc0734ef7d977745443ffb'),\n",
       "  'name': 'Henk de Vries',\n",
       "  'tel': '06 3333 8765'}]"
      ]
     },
     "execution_count": 38,
     "metadata": {},
     "output_type": "execute_result"
    }
   ],
   "source": [
    "list(contacts.find({\"$nor\": [contact_schema]}))"
   ]
  },
  {
   "cell_type": "code",
   "execution_count": 39,
   "metadata": {},
   "outputs": [
    {
     "data": {
      "text/plain": [
       "[{'_id': ObjectId('5fbc073037a74f1b58525f89'),\n",
       "  'name': 'Gijs Bennekom',\n",
       "  'email': 'gijsbkom@ziggo.nl',\n",
       "  'address': {'street': 'Lijsterlaan 132', 'city': 'Rotterdam'}},\n",
       " {'_id': ObjectId('5fbc073037a74f1b58525f8a'),\n",
       "  'name': 'Adrie Vierhuis',\n",
       "  'email': 'a34huis@gmail.com',\n",
       "  'address': {'street': 'Beukenweg 12',\n",
       "   'city': 'Rotterdam',\n",
       "   'postcode': '2001 BC'},\n",
       "  'tel': '010-123 123 9'},\n",
       " {'_id': ObjectId('5fbc073037a74f1b58525f8c'),\n",
       "  'name': 'Joop de Zwart',\n",
       "  'email': 'zwartejoop@ziggo.nl',\n",
       "  'address': {'street': 'Rozengracht 42', 'city': 'Rotterdam'}},\n",
       " {'_id': ObjectId('5fbc073037a74f1b58525f8d'),\n",
       "  'name': 'Leontien de Bruin',\n",
       "  'email': ['lhmdebruin@hotmail.com', 'leontien134@tiscalimail.nl'],\n",
       "  'address': {'street': 'Tulpstraat 17', 'city': 'Amsterdam'}},\n",
       " {'_id': ObjectId('5fbc073037a74f1b58525f8e'),\n",
       "  'name': 'Anna Verschuur',\n",
       "  'email': 'anna@hotmail.com',\n",
       "  'address': {'street': 'Noorderkade 102',\n",
       "   'city': 'Amsterdam',\n",
       "   'postcode': '1000 AA'}}]"
      ]
     },
     "execution_count": 39,
     "metadata": {},
     "output_type": "execute_result"
    }
   ],
   "source": [
    "list(contacts.find(contact_schema))"
   ]
  },
  {
   "cell_type": "markdown",
   "metadata": {},
   "source": [
    "* (her)definieer de collection-validator met dit nieuwe schema."
   ]
  },
  {
   "cell_type": "code",
   "execution_count": 40,
   "metadata": {},
   "outputs": [
    {
     "data": {
      "text/plain": [
       "{'ok': 1.0}"
      ]
     },
     "execution_count": 40,
     "metadata": {},
     "output_type": "execute_result"
    }
   ],
   "source": [
    "db.command(\"collMod\", \"contacts\", validator=contact_schema)"
   ]
  },
  {
   "cell_type": "markdown",
   "metadata": {},
   "source": [
    "Demonstreer dat het schema goed werkt bij het toevoegen voor het volgende document.\n",
    "\n",
    "> Ga zelf na of dit aan het schema voldoet. Welk resultaat verwacht je?\n",
    "> Pas zo nodig het document aan, en voer de opdracht nogmaals uit"
   ]
  },
  {
   "cell_type": "code",
   "execution_count": 41,
   "metadata": {},
   "outputs": [
    {
     "name": "stdout",
     "output_type": "stream",
     "text": [
      "Document not inserted: Document failed validation, full error: {'index': 0, 'code': 121, 'errmsg': 'Document failed validation'}\n"
     ]
    }
   ],
   "source": [
    "person = {\"name\": \"Henk de Vries\",\n",
    "          \"email\": \"hdv123@friends.org\",\n",
    "          \"address\": {\"straat\": \"Kastanjelaan 31\", \"plaats\": \"Almere\"}}\n",
    "try:\n",
    "    contacts.insert_one(person)\n",
    "except pymongo.errors.WriteError as s:\n",
    "    print(\"Document not inserted: \" + str(s))\n",
    "else:\n",
    "    print(\"insert OK\")"
   ]
  },
  {
   "cell_type": "markdown",
   "metadata": {},
   "source": [
    "## Opdracht\n",
    "\n",
    "We willen alleen adressen met (tenminste) `street`, `city` en `postcode` toestaan.\n",
    "\n",
    "* Herdefinieer het `contact_schema` zodat al deze velden hierin opgenomen zijn als string.\n",
    "\n",
    "> *Opmerking*: je kunt met behulp van reguliere expressies nog preciezer beschrijven hoe een postcode eruit kan zien,\n",
    "maar dat later we hier buiten beschouwing. `string` is voldoende.\n",
    "Herdefinieer de validator met dit nieuwe `address_schema`."
   ]
  },
  {
   "cell_type": "code",
   "execution_count": 43,
   "metadata": {},
   "outputs": [],
   "source": [
    "contact_schema = {\"name\": {\"$type\": \"string\"},\n",
    "                  \"$or\": [{\"email\": {\"$type\": \"string\"}},\n",
    "                          {\"tel\": {\"$type\": \"string\"}}\n",
    "                         ],\n",
    "                  \"address.street\": {\"$type\": \"string\"},\n",
    "                  \"address.city\": {\"$type\": \"string\"},\n",
    "                  \"address.postcode\": {\"$type\": \"string\"}\n",
    "                 }"
   ]
  },
  {
   "cell_type": "markdown",
   "metadata": {},
   "source": [
    "* pas de validator van `contacts` aan"
   ]
  },
  {
   "cell_type": "code",
   "execution_count": 44,
   "metadata": {},
   "outputs": [
    {
     "data": {
      "text/plain": [
       "{'ok': 1.0}"
      ]
     },
     "execution_count": 44,
     "metadata": {},
     "output_type": "execute_result"
    }
   ],
   "source": [
    "db.command(\"collMod\", \"contacts\", validator=contact_schema)"
   ]
  },
  {
   "cell_type": "markdown",
   "metadata": {},
   "source": [
    "* Geef een voorbeeld van een insert van een document dat voldoet aan deze validator."
   ]
  },
  {
   "cell_type": "code",
   "execution_count": 45,
   "metadata": {},
   "outputs": [
    {
     "name": "stdout",
     "output_type": "stream",
     "text": [
      "insert OK\n"
     ]
    }
   ],
   "source": [
    "person = {\"name\": \"Margreet Braaksma\",\n",
    "          \"email\": \"margreet.braaksma@friends.org\",\n",
    "          \"address\": {\"street\": \"Planetenstraat 42\", \"city\": \"Zierikzee\",\"postcode\": \"1023 AB\"}}\n",
    "try:\n",
    "    contacts.insert_one(person)\n",
    "except pymongo.errors.WriteError as s:\n",
    "    print(\"Document not inserted: \" + str(s))\n",
    "else:\n",
    "    print(\"insert OK\")"
   ]
  },
  {
   "cell_type": "markdown",
   "metadata": {},
   "source": [
    "* Geef een voorbeeld van een insert van een document dat *niet* voldoet aan deze validator. "
   ]
  },
  {
   "cell_type": "code",
   "execution_count": 46,
   "metadata": {},
   "outputs": [
    {
     "name": "stdout",
     "output_type": "stream",
     "text": [
      "Document not inserted: Document failed validation, full error: {'index': 0, 'code': 121, 'errmsg': 'Document failed validation'}\n"
     ]
    }
   ],
   "source": [
    "person = {\"name\": \"Margreet Braaksma\",\n",
    "          \"email\": \"margreet.braaksma@friends.org\",\n",
    "          \"address\": {\"street\": \"Planetenstraat 42\", \"city\": \"Zierikzee\"}}\n",
    "try:\n",
    "    contacts.insert_one(person)\n",
    "except pymongo.errors.WriteError as s:\n",
    "    print(\"Document not inserted: \" + str(s))\n",
    "else:\n",
    "    print(\"insert OK\")"
   ]
  },
  {
   "cell_type": "markdown",
   "metadata": {},
   "source": [
    "## Opmerkingen\n",
    "\n",
    "* voor het beschrijven van een schema voor een validator biedt MongoDB twee mogelijkheden:\n",
    "    * de oorspronkelijke MongoDB-query-notatie, zoals hierboven gebruikt;\n",
    "    * JSON-schema, een (internet/IETF) draft-standaard voor JSON-documenten (zie https://json-schema.org, https://json-schema.org/latest/json-schema-core.html, en https://json-schema.org/understanding-json-schema/index.html)."
   ]
  },
  {
   "cell_type": "markdown",
   "metadata": {},
   "source": [
    "## JSON schema\n",
    "\n",
    "We geven hieronder zonder commentaar het oorspronkelijke validatieschema, met `name` als verplicht veld, en met de keuze tussen `tel` en `email` als verplichte velden.\n",
    "\n",
    "JSON schema is tegenwoordig de voorkeurnotatie voor validatie in MongoDB. Je kunt hierin vrij precies vastleggen hoe documenten eruit moeten zien, inclusief de structuur van niet-verplichte onderdelen. Je kunt JSON schema ook gebruiken in normale query-opdrachten (`find`).\n",
    "\n",
    "> `anyOf` staat voor \"or\", met een lijst van alternatieven."
   ]
  },
  {
   "cell_type": "code",
   "execution_count": 47,
   "metadata": {},
   "outputs": [
    {
     "data": {
      "text/plain": [
       "[{'_id': ObjectId('5fbc073037a74f1b58525f88'),\n",
       "  'name': 'Hans de Boer',\n",
       "  'email': 'hdb@example.com',\n",
       "  'tel': '06-1290 8746'},\n",
       " {'_id': ObjectId('5fbc073037a74f1b58525f89'),\n",
       "  'name': 'Gijs Bennekom',\n",
       "  'email': 'gijsbkom@ziggo.nl',\n",
       "  'address': {'street': 'Lijsterlaan 132', 'city': 'Rotterdam'}},\n",
       " {'_id': ObjectId('5fbc073037a74f1b58525f8a'),\n",
       "  'name': 'Adrie Vierhuis',\n",
       "  'email': 'a34huis@gmail.com',\n",
       "  'address': {'street': 'Beukenweg 12',\n",
       "   'city': 'Rotterdam',\n",
       "   'postcode': '2001 BC'},\n",
       "  'tel': '010-123 123 9'},\n",
       " {'_id': ObjectId('5fbc073037a74f1b58525f8c'),\n",
       "  'name': 'Joop de Zwart',\n",
       "  'email': 'zwartejoop@ziggo.nl',\n",
       "  'address': {'street': 'Rozengracht 42', 'city': 'Rotterdam'}},\n",
       " {'_id': ObjectId('5fbc073037a74f1b58525f8d'),\n",
       "  'name': 'Leontien de Bruin',\n",
       "  'email': ['lhmdebruin@hotmail.com', 'leontien134@tiscalimail.nl'],\n",
       "  'address': {'street': 'Tulpstraat 17', 'city': 'Amsterdam'}},\n",
       " {'_id': ObjectId('5fbc073037a74f1b58525f8e'),\n",
       "  'name': 'Anna Verschuur',\n",
       "  'email': 'anna@hotmail.com',\n",
       "  'address': {'street': 'Noorderkade 102',\n",
       "   'city': 'Amsterdam',\n",
       "   'postcode': '1000 AA'}},\n",
       " {'_id': ObjectId('5fbc0734ef7d977745443ffb'),\n",
       "  'name': 'Henk de Vries',\n",
       "  'tel': '06 3333 8765'},\n",
       " {'_id': ObjectId('5fbc07c4ef7d977745443fff'),\n",
       "  'name': 'Margreet Braaksma',\n",
       "  'email': 'margreet.braaksma@friends.org',\n",
       "  'address': {'street': 'Planetenstraat 42',\n",
       "   'city': 'Zierikzee',\n",
       "   'postcode': '1023 AB'}}]"
      ]
     },
     "execution_count": 47,
     "metadata": {},
     "output_type": "execute_result"
    }
   ],
   "source": [
    "schema = {\"type\": \"object\",\n",
    "          \"required\": [\"name\"],\n",
    "          \"properties\": {\n",
    "              \"name\": {\"type\": \"string\"}\n",
    "          },\n",
    "          \"anyOf\": [\n",
    "                  {\"properties\": {\"email\": {\"anyOf\": [{\"type\": \"string\"},\n",
    "                                                      {\"type\": \"array\",\n",
    "                                                       \"items\": {\"type\": \"string\"}}\n",
    "                                                     ]}},\n",
    "                   \"required\": [\"email\"]},\n",
    "                  {\"properties\": {\"tel\": {\"type\": \"string\"}},\n",
    "                   \"required\": [\"tel\"]}\n",
    "          ]\n",
    "         }\n",
    "list(contacts.find({\"$jsonSchema\": schema}))"
   ]
  },
  {
   "cell_type": "code",
   "execution_count": 48,
   "metadata": {},
   "outputs": [
    {
     "data": {
      "text/plain": [
       "[{'_id': ObjectId('5fbc073037a74f1b58525f8b'),\n",
       "  'name': 'F.G. Schuitema',\n",
       "  'address': {'street': 'Eikenlaan 23',\n",
       "   'city': 'Amsterdam',\n",
       "   'postcode': '1001 AB'}},\n",
       " {'_id': ObjectId('5fbc0730ef7d977745443ffa'),\n",
       "  'kleur': 'groen',\n",
       "  'prijs': 400,\n",
       "  'beschrijving': 'fiets'}]"
      ]
     },
     "execution_count": 48,
     "metadata": {},
     "output_type": "execute_result"
    }
   ],
   "source": [
    "list(contacts.find({\"$jsonSchema\": {\"not\": schema}}))"
   ]
  },
  {
   "cell_type": "markdown",
   "metadata": {},
   "source": [
    "---\n",
    "(Einde van dit Jupyter notebook.)"
   ]
  },
  {
   "cell_type": "code",
   "execution_count": 50,
   "metadata": {},
   "outputs": [
    {
     "ename": "TypeError",
     "evalue": "'Collection' object is not callable. If you meant to call the 'getCollectionInfos' method on a 'Database' object it is failing because no such method exists.",
     "output_type": "error",
     "traceback": [
      "\u001b[0;31m---------------------------------------------------------------------------\u001b[0m",
      "\u001b[0;31mTypeError\u001b[0m                                 Traceback (most recent call last)",
      "\u001b[0;32m<ipython-input-50-ef1f555edf9d>\u001b[0m in \u001b[0;36m<module>\u001b[0;34m\u001b[0m\n\u001b[0;32m----> 1\u001b[0;31m \u001b[0mdb\u001b[0m\u001b[0;34m.\u001b[0m\u001b[0mgetCollectionInfos\u001b[0m\u001b[0;34m(\u001b[0m\u001b[0;34m)\u001b[0m\u001b[0;34m\u001b[0m\u001b[0;34m\u001b[0m\u001b[0m\n\u001b[0m",
      "\u001b[0;32m/anaconda3/lib/python3.7/site-packages/pymongo/collection.py\u001b[0m in \u001b[0;36m__call__\u001b[0;34m(self, *args, **kwargs)\u001b[0m\n\u001b[1;32m   3442\u001b[0m                             \u001b[0;34m\"object it is failing because no such method \"\u001b[0m\u001b[0;34m\u001b[0m\u001b[0;34m\u001b[0m\u001b[0m\n\u001b[1;32m   3443\u001b[0m                             \u001b[0;34m\"exists.\"\u001b[0m \u001b[0;34m%\u001b[0m\u001b[0;34m\u001b[0m\u001b[0;34m\u001b[0m\u001b[0m\n\u001b[0;32m-> 3444\u001b[0;31m                             self.__name)\n\u001b[0m\u001b[1;32m   3445\u001b[0m         raise TypeError(\"'Collection' object is not callable. If you meant to \"\n\u001b[1;32m   3446\u001b[0m                         \u001b[0;34m\"call the '%s' method on a 'Collection' object it is \"\u001b[0m\u001b[0;34m\u001b[0m\u001b[0;34m\u001b[0m\u001b[0m\n",
      "\u001b[0;31mTypeError\u001b[0m: 'Collection' object is not callable. If you meant to call the 'getCollectionInfos' method on a 'Database' object it is failing because no such method exists."
     ]
    }
   ],
   "source": [
    "db.getCollectionInfos()"
   ]
  },
  {
   "cell_type": "code",
   "execution_count": null,
   "metadata": {},
   "outputs": [],
   "source": []
  }
 ],
 "metadata": {
  "kernelspec": {
   "display_name": "Python 3",
   "language": "python",
   "name": "python3"
  },
  "language_info": {
   "codemirror_mode": {
    "name": "ipython",
    "version": 3
   },
   "file_extension": ".py",
   "mimetype": "text/x-python",
   "name": "python",
   "nbconvert_exporter": "python",
   "pygments_lexer": "ipython3",
   "version": "3.7.6"
  }
 },
 "nbformat": 4,
 "nbformat_minor": 4
}
