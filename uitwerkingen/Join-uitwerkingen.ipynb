{
 "cells": [
  {
   "cell_type": "markdown",
   "metadata": {},
   "source": [
    "# Join: embedding, references en joins\n",
    "\n",
    "In MongoDB kan een document andere documenten bevatten (*embedding*).\n",
    "Een alternatief is het gebruik van verwijzingen naar andere documenten (*referencing*).\n",
    "Als verwijzing naar een document gebruik je de `_id` (key) daarvan, als *foreign key*.\n",
    "\n",
    "Om de gegevens uit verschillende documenten die naar elkaar verwijzen te combineren \n",
    "heb je een `join` nodig.\n",
    "In veel document-databases moet je deze join zelf programmeren, in de toepassing.\n",
    "\n",
    "MongoDB heeft (in de nieuwere versies) een join-operatie als onderdeel van de *aggregate* pijplijn."
   ]
  },
  {
   "cell_type": "markdown",
   "metadata": {},
   "source": [
    "De onderstaande opdracht is nodig als initialisatie in sommige omgevingen."
   ]
  },
  {
   "cell_type": "code",
   "execution_count": 1,
   "metadata": {},
   "outputs": [],
   "source": [
    "import os\n",
    "os.environ[\"PATH\"]=os.environ[\"PATH\"] + \":/usr/local/bin\""
   ]
  },
  {
   "cell_type": "markdown",
   "metadata": {},
   "source": [
    "## Normalisatie in relationele databases\n",
    "\n",
    "Bij het ontwerpen van een relationele database probeer je meestal deze te normaliseren.\n",
    "Deze normalisatie zorgt ervoor dat alle gegevens in de database \"onafhankelijk\" zijn, \n",
    "anders gezegd, dat een bepaald gegeven maar op één plaats in de database voorkomt.\n",
    "Dit noemen we ook wel \"single source of truth\".\n",
    "\n",
    "Een genormaliseerde vorm maakt het veranderen van de database op een consistente manier veel eenvoudiger.\n",
    "Immers, als een gegeven op meerdere plaatsen voorkomt, dan moet je bij een verandering al deze verschillende plaatsen bijwerken om weer een consistente database-toestand te krijgen.\n",
    "\n",
    "> Voorbeeld: als het adres van een persoon op 3 plaatsen in de database voorkomt, dan moet je bij een verhuizing al deze 3 plaatsen bijwerken. Als je er één of twee vergeet dat is helemaal niet meer duidelijk welk adres nu het juiste is.\n",
    "\n",
    "Een andere reden is dat deze normalisatie, door het voorkomen van duplicaten, tot een compactere database leidt: het spaart ruimte.\n",
    "Dit argument is tegenwoordig minder sterk dan vroeger, toen opslagruimte schaars en duur was.\n",
    "\n",
    "Normalisatie heeft ook nadelen.\n",
    "Het belangrijkste nadeel is dat je bij het opvragen van de data uit de database vaak één of meerdere joins nodig hebt:\n",
    "je moet de waarden uit verschillende tabellen combineren tot het gevraagde resultaat.\n",
    "Dit leidt bij leesopdrachten (queries) tot extra leesopdrachten voor de verschillende tabellen.\n",
    "\n",
    "Overigens is de basisopzet van relationele databases sterk gericht op het toewijzen van data aan verschillende tabellen.\n",
    "Zo moet je meervoudige relaties voorstellen met meerdere tabellen enn met verwijzingen tussen deze tabellen (via *foreign keys*), omdat een rij geen meervoudige waarden kan bevatten.\n",
    "(Voorbeeld: je kunt niet een array van telefoonnummers in een rij opnemen.)\n",
    "\n",
    "> Je kunt dit voor kleine arrays misschien oplossen door ruimte voor een paar waarden op te nemen, bijvoorbeeld voor 3 telefoonnummers. Maar dat leidt enerzijds tot beperkingen waar je later tegenaan loopt - als je er 4 nodig hebt, en anderzijds tot extra gaten in de tabel voor die rijen die deze meervoudige ruimte niet gebruiken. "
   ]
  },
  {
   "cell_type": "markdown",
   "metadata": {},
   "source": [
    "## Normalisatie in MongoDB\n",
    "\n",
    "In MongoDB kun je in een document andere documenten *inbedden* (*embedding*).\n",
    "Je kunt zelfs arrays van documenten inbedden in een document.\n",
    "Dit kan leiden tot duplicatie van deeldocumenten, met het genoemde probleem van wijzigen van deze deel-documenten tot gevolg.\n",
    "\n",
    "In plaats van inbedden (embedding) kun je ook *verwijzingen* (references) naar andere documenten gebruiken (via de `_id` van die documenten, eigenlijk een *foreign key*).\n",
    "\n",
    "Het gevolg is dat je bij het gebruik mogelijk gegevens uit verschillende *collections* moet combineren.\n",
    "Bij een SQL-database gebruik je daarvoor een join.\n",
    "In MongoDB kun je daarvoor de `$loopkup`-functie gebruiken, als onderdeel van de *aggregate*-pijplijn.\n",
    "\n",
    "Als ontwerper van de database kun zelf bepalen waar je de grens legt tussen inbedden (embedding) en verwijzingen (references)."
   ]
  },
  {
   "cell_type": "markdown",
   "metadata": {},
   "source": [
    "## Voorbeeld: agenda en contacten\n",
    "\n",
    "In een agenda-document staan (in de voorbeelden) de emailadressen van de deelnemers (`participants`) van de afspraak.\n",
    "Deze kun je zien als (tijdelijke) keys van de betrokken contacten.\n",
    "\n",
    "Deze email-adressen kunnen we vervangen door de `_id`s van deze contacten:\n",
    "we gebruiken dan verwijzingen (*referencess*) tussen documenten, in plaats van *embedding*.\n",
    "In zekere zin is de relatie tussen de agenda-documenten en de contacts-documenten genormaliseerd:\n",
    "er is geen duplicatie van gegevens tussen deze documenten.\n",
    "\n",
    "Zie ook: https://docs.mongodb.com/manual/core/data-modeling-introduction/\n",
    "\n",
    "Het gebruik van verwijzingen (*references*) betekent dat we *joins* nodig hebben als we de gegevens van verschillende documenten willen combineren.\n",
    "Bijvoorbeeld: als we een lijst van afspraken willen maken met daarin de namen van de deelnemers, dan moeten we daarvoor de bijbehorenden contact-documenten raadplegen."
   ]
  },
  {
   "cell_type": "code",
   "execution_count": 2,
   "metadata": {},
   "outputs": [
    {
     "name": "stdout",
     "output_type": "stream",
     "text": [
      "Database name: eelco-demodb\n",
      "Mongo version 3.11.0\n"
     ]
    }
   ],
   "source": [
    "import os\n",
    "import re\n",
    "import pandas as pd\n",
    "import numpy as np\n",
    "from IPython.core.display import display, HTML\n",
    "import pymongo\n",
    "\n",
    "pd.set_option('max_colwidth',160)\n",
    "\n",
    "userline = !echo $USER\n",
    "username = userline[0]\n",
    "dbname = username + \"-demodb\"\n",
    "print(\"Database name: \" + dbname)\n",
    "\n",
    "print('Mongo version', pymongo.__version__)\n",
    "client = pymongo.MongoClient('localhost', 27017)\n",
    "db = client[dbname]\n",
    "contacts = db.contacts\n",
    "agenda = db.agenda"
   ]
  },
  {
   "cell_type": "code",
   "execution_count": 3,
   "metadata": {},
   "outputs": [
    {
     "data": {
      "text/plain": [
       "0"
      ]
     },
     "execution_count": 3,
     "metadata": {},
     "output_type": "execute_result"
    }
   ],
   "source": [
    "contacts.drop()\n",
    "os.system('mongoimport -d ' + dbname + ' -c contacts adressen.json')"
   ]
  },
  {
   "cell_type": "code",
   "execution_count": 4,
   "metadata": {},
   "outputs": [
    {
     "data": {
      "text/plain": [
       "0"
      ]
     },
     "execution_count": 4,
     "metadata": {},
     "output_type": "execute_result"
    }
   ],
   "source": [
    "agenda.drop()\n",
    "os.system('mongoimport -d ' + dbname + ' -c agenda agenda.json')"
   ]
  },
  {
   "cell_type": "markdown",
   "metadata": {},
   "source": [
    "Merk op dat een agenda-items een lijst van deelnemers (`participants`) bevat.\n",
    "In de invoer identificeren we deze deelnemers met hun emailadres."
   ]
  },
  {
   "cell_type": "code",
   "execution_count": 5,
   "metadata": {},
   "outputs": [
    {
     "data": {
      "text/plain": [
       "[{'_id': ObjectId('5fa9686155cba8618465aeaa'),\n",
       "  'subject': 'Beleidsplan',\n",
       "  'time': datetime.datetime(2019, 4, 1, 0, 0),\n",
       "  'duration': 120,\n",
       "  'participants': [{'email': 'zwartejoop@ziggo.nl'}],\n",
       "  'location': 'Seats2Meet Utrecht CS'},\n",
       " {'_id': ObjectId('5fa9686155cba8618465aeab'),\n",
       "  'subject': 'Beleidsplan',\n",
       "  'time': datetime.datetime(2019, 4, 13, 0, 0),\n",
       "  'duration': 120,\n",
       "  'participants': [{'email': 'gijsbkom@ziggo.nl'},\n",
       "   {'email': 'a34huis@gmail.com'}],\n",
       "  'location': 'Amsterdam Zuid'},\n",
       " {'_id': ObjectId('5fa9686155cba8618465aeac'),\n",
       "  'subject': 'Beleidsplan',\n",
       "  'time': datetime.datetime(2019, 4, 23, 0, 0),\n",
       "  'duration': 120,\n",
       "  'participants': [{'email': 'hdb@example.com'},\n",
       "   {'email': 'a34huis@gmail.com'}],\n",
       "  'location': 'Seats2Meet Den Bosch'},\n",
       " {'_id': ObjectId('5fa9686155cba8618465aead'),\n",
       "  'subject': 'Beleidsplan',\n",
       "  'time': datetime.datetime(2019, 3, 1, 0, 0),\n",
       "  'duration': 60,\n",
       "  'participants': [{'email': 'hdb@example.com'},\n",
       "   {'email': 'a34huis@gmail.com'}],\n",
       "  'location': 'Seats2Meet Den Bosch'},\n",
       " {'_id': ObjectId('5fa9686155cba8618465aeae'),\n",
       "  'subject': 'Fusie',\n",
       "  'time': datetime.datetime(2019, 3, 19, 0, 0),\n",
       "  'duration': 120,\n",
       "  'participants': [{'email': 'hdb@example.com'},\n",
       "   {'email': 'a34huis@gmail.com'}],\n",
       "  'location': 'Den Haag CS'},\n",
       " {'_id': ObjectId('5fa9686155cba8618465aeaf'),\n",
       "  'subject': 'Fusie',\n",
       "  'time': datetime.datetime(2019, 4, 27, 0, 0),\n",
       "  'duration': 180,\n",
       "  'participants': [{'email': 'hdb@example.com'},\n",
       "   {'email': 'a34huis@gmail.com'}],\n",
       "  'location': 'Den Haag CS'}]"
      ]
     },
     "execution_count": 5,
     "metadata": {},
     "output_type": "execute_result"
    }
   ],
   "source": [
    "list(agenda.find())"
   ]
  },
  {
   "cell_type": "markdown",
   "metadata": {},
   "source": [
    "## Maken van *references*\n",
    "\n",
    "In de agenda-items in de invoer gebruiken we het emailadres als de identificatie (\"key\") voor de deelnemers.\n",
    "Voor de invoer is dit acceptabel, maar niet voor lange-termijn opslag in de database:\n",
    "het emailadres van een persoon kan veranderen.\n",
    "Ook de naam kun je niet als key gebruiken: namen zijn niet voldoende uniek.\n",
    "\n",
    "Daarom willen we bij het maken/toevoegen van een afspraak het emailadres als identificatie vervangen door de interne identificatie van het contact-document: de `_id`-key.\n",
    "We krijgen dan een genormaliseerde vorm gebaseerd op *references* in plaats van *embedding*.\n",
    "\n",
    "NB: bij de update weten we hier zeker dat het document (record) al bestaat: we hoeven hier geen `$upsert` te gebruiken."
   ]
  },
  {
   "cell_type": "markdown",
   "metadata": {},
   "source": [
    "De onderstaande functie `connect` zoekt voor de deelnemers (`participants`) van het agenda-document het bijbehorende contact-document, aan de hand van het emailadres.\n",
    "Vervolgens wordt als `id` veld van de deelnemer de *key* (`_id`) van het contact-document ingevuld.\n",
    "Het agenda-document in de database wordt met deze gegevens bijgewerkt."
   ]
  },
  {
   "cell_type": "code",
   "execution_count": 6,
   "metadata": {},
   "outputs": [],
   "source": [
    "def connect (agendaItem):\n",
    "    participants = agendaItem[\"participants\"]\n",
    "    for person in participants:\n",
    "        pList = list(contacts.find({\"email\": person[\"email\"]}))\n",
    "        if len(pList) == 1:\n",
    "            person[\"id\"] = pList[0][\"_id\"]        \n",
    "        else:\n",
    "            print(person[\"email\"])\n",
    "            print(\"error in connect\")\n",
    "    agenda.update_one({\"_id\": agendaItem[\"_id\"]}, {\"$set\": {\"participants\": participants}})"
   ]
  },
  {
   "cell_type": "markdown",
   "metadata": {},
   "source": [
    "We werken alle agenda-documenten bij met behulp van `connect`: de `participants` in de agenda-documenten verwijzen dan naar de bijbehorende contact-documenten."
   ]
  },
  {
   "cell_type": "code",
   "execution_count": 7,
   "metadata": {},
   "outputs": [],
   "source": [
    "aList = list(agenda.find())\n",
    "for item in aList:\n",
    "    connect(item)"
   ]
  },
  {
   "cell_type": "markdown",
   "metadata": {},
   "source": [
    "In het onderstaande overzicht zie je deze referenties bij de `participants`:"
   ]
  },
  {
   "cell_type": "code",
   "execution_count": 8,
   "metadata": {},
   "outputs": [
    {
     "data": {
      "text/plain": [
       "[{'_id': ObjectId('5fa9686155cba8618465aeaa'),\n",
       "  'subject': 'Beleidsplan',\n",
       "  'time': datetime.datetime(2019, 4, 1, 0, 0),\n",
       "  'duration': 120,\n",
       "  'participants': [{'email': 'zwartejoop@ziggo.nl',\n",
       "    'id': ObjectId('5fa9686155cba8618465aea1')}],\n",
       "  'location': 'Seats2Meet Utrecht CS'},\n",
       " {'_id': ObjectId('5fa9686155cba8618465aeab'),\n",
       "  'subject': 'Beleidsplan',\n",
       "  'time': datetime.datetime(2019, 4, 13, 0, 0),\n",
       "  'duration': 120,\n",
       "  'participants': [{'email': 'gijsbkom@ziggo.nl',\n",
       "    'id': ObjectId('5fa9686155cba8618465aea3')},\n",
       "   {'email': 'a34huis@gmail.com', 'id': ObjectId('5fa9686155cba8618465aea2')}],\n",
       "  'location': 'Amsterdam Zuid'},\n",
       " {'_id': ObjectId('5fa9686155cba8618465aeac'),\n",
       "  'subject': 'Beleidsplan',\n",
       "  'time': datetime.datetime(2019, 4, 23, 0, 0),\n",
       "  'duration': 120,\n",
       "  'participants': [{'email': 'hdb@example.com',\n",
       "    'id': ObjectId('5fa9686155cba8618465ae9e')},\n",
       "   {'email': 'a34huis@gmail.com', 'id': ObjectId('5fa9686155cba8618465aea2')}],\n",
       "  'location': 'Seats2Meet Den Bosch'},\n",
       " {'_id': ObjectId('5fa9686155cba8618465aead'),\n",
       "  'subject': 'Beleidsplan',\n",
       "  'time': datetime.datetime(2019, 3, 1, 0, 0),\n",
       "  'duration': 60,\n",
       "  'participants': [{'email': 'hdb@example.com',\n",
       "    'id': ObjectId('5fa9686155cba8618465ae9e')},\n",
       "   {'email': 'a34huis@gmail.com', 'id': ObjectId('5fa9686155cba8618465aea2')}],\n",
       "  'location': 'Seats2Meet Den Bosch'},\n",
       " {'_id': ObjectId('5fa9686155cba8618465aeae'),\n",
       "  'subject': 'Fusie',\n",
       "  'time': datetime.datetime(2019, 3, 19, 0, 0),\n",
       "  'duration': 120,\n",
       "  'participants': [{'email': 'hdb@example.com',\n",
       "    'id': ObjectId('5fa9686155cba8618465ae9e')},\n",
       "   {'email': 'a34huis@gmail.com', 'id': ObjectId('5fa9686155cba8618465aea2')}],\n",
       "  'location': 'Den Haag CS'},\n",
       " {'_id': ObjectId('5fa9686155cba8618465aeaf'),\n",
       "  'subject': 'Fusie',\n",
       "  'time': datetime.datetime(2019, 4, 27, 0, 0),\n",
       "  'duration': 180,\n",
       "  'participants': [{'email': 'hdb@example.com',\n",
       "    'id': ObjectId('5fa9686155cba8618465ae9e')},\n",
       "   {'email': 'a34huis@gmail.com', 'id': ObjectId('5fa9686155cba8618465aea2')}],\n",
       "  'location': 'Den Haag CS'}]"
      ]
     },
     "execution_count": 8,
     "metadata": {},
     "output_type": "execute_result"
    }
   ],
   "source": [
    "list(agenda.find())"
   ]
  },
  {
   "cell_type": "markdown",
   "metadata": {},
   "source": [
    "## Join\n",
    "\n",
    "Als we de gegevens van een agenda-document willen combineren met gegevens uit de contact-documenten, bijvoorbeeld de namen van de deelnemers, dan hebben we een *join* nodig.\n",
    "\n",
    "In MongoDB moeten we deze join zelf programmeren.\n",
    "Een join bestaat uit twee elementen:\n",
    "\n",
    "1. het zoeken van de bijbehorende documenten (`find`);\n",
    "2. het toevoegen van waarden uit een opgezocht bijbehorend document aan het resultaat-document (bijvoorbeeld, de naam uit het contact-document).\n",
    "\n",
    "Gegeven een lijst van agenda-items, voeg hier de namen van de deelnemers aan toe.\n",
    "\n",
    "De onderstaande functie `addNames` zoekt aan de hand van de keys (`id`) de contact-documenten van de deelnemers, en voegt de naam van elke deelnemer toe aan het agenda-document."
   ]
  },
  {
   "cell_type": "markdown",
   "metadata": {},
   "source": [
    "Voorbeeld: zoek de namen van de deelnemers bij hun emailadres in de agenda-documenten."
   ]
  },
  {
   "cell_type": "code",
   "execution_count": 9,
   "metadata": {},
   "outputs": [
    {
     "data": {
      "text/plain": [
       "[{'_id': ObjectId('5fa9686155cba8618465aeaa'),\n",
       "  'subject': 'Beleidsplan',\n",
       "  'time': datetime.datetime(2019, 4, 1, 0, 0),\n",
       "  'duration': 120,\n",
       "  'participants': [{'email': 'zwartejoop@ziggo.nl',\n",
       "    'id': ObjectId('5fa9686155cba8618465aea1')}],\n",
       "  'location': 'Seats2Meet Utrecht CS',\n",
       "  'participantInfo': [{'_id': ObjectId('5fa9686155cba8618465aea1'),\n",
       "    'name': 'Joop de Zwart',\n",
       "    'email': 'zwartejoop@ziggo.nl',\n",
       "    'address': {'street': 'Rozengracht 42', 'city': 'Rotterdam'}}]},\n",
       " {'_id': ObjectId('5fa9686155cba8618465aeab'),\n",
       "  'subject': 'Beleidsplan',\n",
       "  'time': datetime.datetime(2019, 4, 13, 0, 0),\n",
       "  'duration': 120,\n",
       "  'participants': [{'email': 'gijsbkom@ziggo.nl',\n",
       "    'id': ObjectId('5fa9686155cba8618465aea3')},\n",
       "   {'email': 'a34huis@gmail.com', 'id': ObjectId('5fa9686155cba8618465aea2')}],\n",
       "  'location': 'Amsterdam Zuid',\n",
       "  'participantInfo': [{'_id': ObjectId('5fa9686155cba8618465aea2'),\n",
       "    'name': 'Adrie Vierhuis',\n",
       "    'email': 'a34huis@gmail.com',\n",
       "    'address': {'street': 'Beukenweg 12',\n",
       "     'city': 'Rotterdam',\n",
       "     'postcode': '2001 BC'},\n",
       "    'tel': '010-123 123 9'},\n",
       "   {'_id': ObjectId('5fa9686155cba8618465aea3'),\n",
       "    'name': 'Gijs Bennekom',\n",
       "    'email': 'gijsbkom@ziggo.nl',\n",
       "    'address': {'street': 'Lijsterlaan 132', 'city': 'Rotterdam'}}]},\n",
       " {'_id': ObjectId('5fa9686155cba8618465aeac'),\n",
       "  'subject': 'Beleidsplan',\n",
       "  'time': datetime.datetime(2019, 4, 23, 0, 0),\n",
       "  'duration': 120,\n",
       "  'participants': [{'email': 'hdb@example.com',\n",
       "    'id': ObjectId('5fa9686155cba8618465ae9e')},\n",
       "   {'email': 'a34huis@gmail.com', 'id': ObjectId('5fa9686155cba8618465aea2')}],\n",
       "  'location': 'Seats2Meet Den Bosch',\n",
       "  'participantInfo': [{'_id': ObjectId('5fa9686155cba8618465ae9e'),\n",
       "    'name': 'Hans de Boer',\n",
       "    'email': 'hdb@example.com',\n",
       "    'tel': '06-1290 8746'},\n",
       "   {'_id': ObjectId('5fa9686155cba8618465aea2'),\n",
       "    'name': 'Adrie Vierhuis',\n",
       "    'email': 'a34huis@gmail.com',\n",
       "    'address': {'street': 'Beukenweg 12',\n",
       "     'city': 'Rotterdam',\n",
       "     'postcode': '2001 BC'},\n",
       "    'tel': '010-123 123 9'}]},\n",
       " {'_id': ObjectId('5fa9686155cba8618465aead'),\n",
       "  'subject': 'Beleidsplan',\n",
       "  'time': datetime.datetime(2019, 3, 1, 0, 0),\n",
       "  'duration': 60,\n",
       "  'participants': [{'email': 'hdb@example.com',\n",
       "    'id': ObjectId('5fa9686155cba8618465ae9e')},\n",
       "   {'email': 'a34huis@gmail.com', 'id': ObjectId('5fa9686155cba8618465aea2')}],\n",
       "  'location': 'Seats2Meet Den Bosch',\n",
       "  'participantInfo': [{'_id': ObjectId('5fa9686155cba8618465ae9e'),\n",
       "    'name': 'Hans de Boer',\n",
       "    'email': 'hdb@example.com',\n",
       "    'tel': '06-1290 8746'},\n",
       "   {'_id': ObjectId('5fa9686155cba8618465aea2'),\n",
       "    'name': 'Adrie Vierhuis',\n",
       "    'email': 'a34huis@gmail.com',\n",
       "    'address': {'street': 'Beukenweg 12',\n",
       "     'city': 'Rotterdam',\n",
       "     'postcode': '2001 BC'},\n",
       "    'tel': '010-123 123 9'}]},\n",
       " {'_id': ObjectId('5fa9686155cba8618465aeae'),\n",
       "  'subject': 'Fusie',\n",
       "  'time': datetime.datetime(2019, 3, 19, 0, 0),\n",
       "  'duration': 120,\n",
       "  'participants': [{'email': 'hdb@example.com',\n",
       "    'id': ObjectId('5fa9686155cba8618465ae9e')},\n",
       "   {'email': 'a34huis@gmail.com', 'id': ObjectId('5fa9686155cba8618465aea2')}],\n",
       "  'location': 'Den Haag CS',\n",
       "  'participantInfo': [{'_id': ObjectId('5fa9686155cba8618465ae9e'),\n",
       "    'name': 'Hans de Boer',\n",
       "    'email': 'hdb@example.com',\n",
       "    'tel': '06-1290 8746'},\n",
       "   {'_id': ObjectId('5fa9686155cba8618465aea2'),\n",
       "    'name': 'Adrie Vierhuis',\n",
       "    'email': 'a34huis@gmail.com',\n",
       "    'address': {'street': 'Beukenweg 12',\n",
       "     'city': 'Rotterdam',\n",
       "     'postcode': '2001 BC'},\n",
       "    'tel': '010-123 123 9'}]},\n",
       " {'_id': ObjectId('5fa9686155cba8618465aeaf'),\n",
       "  'subject': 'Fusie',\n",
       "  'time': datetime.datetime(2019, 4, 27, 0, 0),\n",
       "  'duration': 180,\n",
       "  'participants': [{'email': 'hdb@example.com',\n",
       "    'id': ObjectId('5fa9686155cba8618465ae9e')},\n",
       "   {'email': 'a34huis@gmail.com', 'id': ObjectId('5fa9686155cba8618465aea2')}],\n",
       "  'location': 'Den Haag CS',\n",
       "  'participantInfo': [{'_id': ObjectId('5fa9686155cba8618465ae9e'),\n",
       "    'name': 'Hans de Boer',\n",
       "    'email': 'hdb@example.com',\n",
       "    'tel': '06-1290 8746'},\n",
       "   {'_id': ObjectId('5fa9686155cba8618465aea2'),\n",
       "    'name': 'Adrie Vierhuis',\n",
       "    'email': 'a34huis@gmail.com',\n",
       "    'address': {'street': 'Beukenweg 12',\n",
       "     'city': 'Rotterdam',\n",
       "     'postcode': '2001 BC'},\n",
       "    'tel': '010-123 123 9'}]}]"
      ]
     },
     "execution_count": 9,
     "metadata": {},
     "output_type": "execute_result"
    }
   ],
   "source": [
    "cursor = agenda.aggregate([\n",
    "    {\"$lookup\": {\"from\": \"contacts\",\n",
    "                 \"localField\": \"participants.id\",\n",
    "                 \"foreignField\": \"_id\",\n",
    "                 \"as\": \"participantInfo\"}}    \n",
    "])\n",
    "list(cursor)"
   ]
  },
  {
   "cell_type": "markdown",
   "metadata": {},
   "source": [
    "We kunnen eigenlijk de oorspronkelijke `participants` vervangen door de uitgebreide informatie,\n",
    "waarbij we de velden die we niet gebruiken via een projectie verwijderen:"
   ]
  },
  {
   "cell_type": "code",
   "execution_count": 10,
   "metadata": {},
   "outputs": [
    {
     "data": {
      "text/plain": [
       "[{'_id': ObjectId('5fa9686155cba8618465aeaa'),\n",
       "  'subject': 'Beleidsplan',\n",
       "  'time': datetime.datetime(2019, 4, 1, 0, 0),\n",
       "  'duration': 120,\n",
       "  'participants': [{'_id': ObjectId('5fa9686155cba8618465aea1'),\n",
       "    'name': 'Joop de Zwart',\n",
       "    'email': 'zwartejoop@ziggo.nl'}],\n",
       "  'location': 'Seats2Meet Utrecht CS'},\n",
       " {'_id': ObjectId('5fa9686155cba8618465aeab'),\n",
       "  'subject': 'Beleidsplan',\n",
       "  'time': datetime.datetime(2019, 4, 13, 0, 0),\n",
       "  'duration': 120,\n",
       "  'participants': [{'_id': ObjectId('5fa9686155cba8618465aea2'),\n",
       "    'name': 'Adrie Vierhuis',\n",
       "    'email': 'a34huis@gmail.com'},\n",
       "   {'_id': ObjectId('5fa9686155cba8618465aea3'),\n",
       "    'name': 'Gijs Bennekom',\n",
       "    'email': 'gijsbkom@ziggo.nl'}],\n",
       "  'location': 'Amsterdam Zuid'},\n",
       " {'_id': ObjectId('5fa9686155cba8618465aeac'),\n",
       "  'subject': 'Beleidsplan',\n",
       "  'time': datetime.datetime(2019, 4, 23, 0, 0),\n",
       "  'duration': 120,\n",
       "  'participants': [{'_id': ObjectId('5fa9686155cba8618465ae9e'),\n",
       "    'name': 'Hans de Boer',\n",
       "    'email': 'hdb@example.com'},\n",
       "   {'_id': ObjectId('5fa9686155cba8618465aea2'),\n",
       "    'name': 'Adrie Vierhuis',\n",
       "    'email': 'a34huis@gmail.com'}],\n",
       "  'location': 'Seats2Meet Den Bosch'},\n",
       " {'_id': ObjectId('5fa9686155cba8618465aead'),\n",
       "  'subject': 'Beleidsplan',\n",
       "  'time': datetime.datetime(2019, 3, 1, 0, 0),\n",
       "  'duration': 60,\n",
       "  'participants': [{'_id': ObjectId('5fa9686155cba8618465ae9e'),\n",
       "    'name': 'Hans de Boer',\n",
       "    'email': 'hdb@example.com'},\n",
       "   {'_id': ObjectId('5fa9686155cba8618465aea2'),\n",
       "    'name': 'Adrie Vierhuis',\n",
       "    'email': 'a34huis@gmail.com'}],\n",
       "  'location': 'Seats2Meet Den Bosch'},\n",
       " {'_id': ObjectId('5fa9686155cba8618465aeae'),\n",
       "  'subject': 'Fusie',\n",
       "  'time': datetime.datetime(2019, 3, 19, 0, 0),\n",
       "  'duration': 120,\n",
       "  'participants': [{'_id': ObjectId('5fa9686155cba8618465ae9e'),\n",
       "    'name': 'Hans de Boer',\n",
       "    'email': 'hdb@example.com'},\n",
       "   {'_id': ObjectId('5fa9686155cba8618465aea2'),\n",
       "    'name': 'Adrie Vierhuis',\n",
       "    'email': 'a34huis@gmail.com'}],\n",
       "  'location': 'Den Haag CS'},\n",
       " {'_id': ObjectId('5fa9686155cba8618465aeaf'),\n",
       "  'subject': 'Fusie',\n",
       "  'time': datetime.datetime(2019, 4, 27, 0, 0),\n",
       "  'duration': 180,\n",
       "  'participants': [{'_id': ObjectId('5fa9686155cba8618465ae9e'),\n",
       "    'name': 'Hans de Boer',\n",
       "    'email': 'hdb@example.com'},\n",
       "   {'_id': ObjectId('5fa9686155cba8618465aea2'),\n",
       "    'name': 'Adrie Vierhuis',\n",
       "    'email': 'a34huis@gmail.com'}],\n",
       "  'location': 'Den Haag CS'}]"
      ]
     },
     "execution_count": 10,
     "metadata": {},
     "output_type": "execute_result"
    }
   ],
   "source": [
    "cursor = agenda.aggregate([\n",
    "    {\"$lookup\": {\"from\": \"contacts\",\n",
    "                 \"localField\": \"participants.id\",\n",
    "                 \"foreignField\": \"_id\",\n",
    "                 \"as\": \"participants\"}},\n",
    "    {\"$project\": {\"participants.address\": 0, \"participants.tel\": 0}}\n",
    "])\n",
    "list(cursor)"
   ]
  },
  {
   "cell_type": "markdown",
   "metadata": {},
   "source": [
    "**Opdracht** Pas bovenstaande aan zodat je (i) alleen de bijeenkomsten met `Fusie` als onderwerp (`subject`) krijgt; en (ii) per deelnemer (participant) alleen de naam en de woonplaats. Je mag in dit laatste geval de geneste notatie van de woonplaats laten staan."
   ]
  },
  {
   "cell_type": "code",
   "execution_count": 11,
   "metadata": {},
   "outputs": [
    {
     "data": {
      "text/plain": [
       "[{'_id': ObjectId('5fa9686155cba8618465aeae'),\n",
       "  'subject': 'Fusie',\n",
       "  'time': datetime.datetime(2019, 3, 19, 0, 0),\n",
       "  'duration': 120,\n",
       "  'participants': [{'name': 'Hans de Boer', 'email': 'hdb@example.com'},\n",
       "   {'name': 'Adrie Vierhuis',\n",
       "    'email': 'a34huis@gmail.com',\n",
       "    'address': {'city': 'Rotterdam'}}],\n",
       "  'location': 'Den Haag CS'},\n",
       " {'_id': ObjectId('5fa9686155cba8618465aeaf'),\n",
       "  'subject': 'Fusie',\n",
       "  'time': datetime.datetime(2019, 4, 27, 0, 0),\n",
       "  'duration': 180,\n",
       "  'participants': [{'name': 'Hans de Boer', 'email': 'hdb@example.com'},\n",
       "   {'name': 'Adrie Vierhuis',\n",
       "    'email': 'a34huis@gmail.com',\n",
       "    'address': {'city': 'Rotterdam'}}],\n",
       "  'location': 'Den Haag CS'}]"
      ]
     },
     "execution_count": 11,
     "metadata": {},
     "output_type": "execute_result"
    }
   ],
   "source": [
    "cursor = agenda.aggregate([\n",
    "    {\"$match\": {\"subject\": \"Fusie\"}},\n",
    "    {\"$lookup\": {\"from\": \"contacts\",\n",
    "                 \"localField\": \"participants.id\",\n",
    "                 \"foreignField\": \"_id\",\n",
    "                 \"as\": \"participants\"}},\n",
    "    {\"$project\": {\"participants.address.street\": 0, \"participants.address.postcode\": 0, \"participants.tel\": 0,\n",
    "                  \"participants._id\": 0 }}\n",
    "])\n",
    "list(cursor)"
   ]
  },
  {
   "cell_type": "markdown",
   "metadata": {},
   "source": [
    "**Opdracht** In de `$lookup` in de voorbeelden hierboven hebben we steeds de koppeling tussen de documenten gedaan op basis van de `_id` (primaire key). Pas het vorige voorbeeld aan zodat je de koppeling doet op basis van het emailadres in beide documenten."
   ]
  },
  {
   "cell_type": "code",
   "execution_count": 12,
   "metadata": {},
   "outputs": [
    {
     "data": {
      "text/plain": [
       "[{'_id': ObjectId('5fa9686155cba8618465aeae'),\n",
       "  'subject': 'Fusie',\n",
       "  'time': datetime.datetime(2019, 3, 19, 0, 0),\n",
       "  'duration': 120,\n",
       "  'participants': [{'name': 'Hans de Boer', 'email': 'hdb@example.com'},\n",
       "   {'name': 'Adrie Vierhuis',\n",
       "    'email': 'a34huis@gmail.com',\n",
       "    'address': {'city': 'Rotterdam'}}],\n",
       "  'location': 'Den Haag CS'},\n",
       " {'_id': ObjectId('5fa9686155cba8618465aeaf'),\n",
       "  'subject': 'Fusie',\n",
       "  'time': datetime.datetime(2019, 4, 27, 0, 0),\n",
       "  'duration': 180,\n",
       "  'participants': [{'name': 'Hans de Boer', 'email': 'hdb@example.com'},\n",
       "   {'name': 'Adrie Vierhuis',\n",
       "    'email': 'a34huis@gmail.com',\n",
       "    'address': {'city': 'Rotterdam'}}],\n",
       "  'location': 'Den Haag CS'}]"
      ]
     },
     "execution_count": 12,
     "metadata": {},
     "output_type": "execute_result"
    }
   ],
   "source": [
    "cursor = agenda.aggregate([\n",
    "    {\"$match\": {\"subject\": \"Fusie\"}},\n",
    "    {\"$lookup\": {\"from\": \"contacts\",\n",
    "                 \"localField\": \"participants.email\",\n",
    "                 \"foreignField\": \"email\",\n",
    "                 \"as\": \"participants\"}},\n",
    "    {\"$project\": {\"participants.address.street\": 0, \"participants.address.postcode\": 0, \"participants.tel\": 0,\n",
    "                  \"participants._id\": 0 }}\n",
    "])\n",
    "list(cursor)"
   ]
  },
  {
   "cell_type": "markdown",
   "metadata": {},
   "source": [
    "## Join in de toepassing\n",
    "\n",
    "We kunnen de join ook uitprogrammeren in de toepassing, zoals in het onderstaande voorbeeld.\n",
    "In het algemeen is het handiger en efficiënter om de ingebouwde database-opdrachten te gebruiken.\n",
    "Maar, zoals gezegd, niet elke document-database heeft een ingebouwde join-operatie.\n",
    "\n",
    "Een join bestaat uit twee elementen:\n",
    "\n",
    "1. het zoeken van de bijbehorende documenten (`find`);\n",
    "2. het toevoegen van waarden uit een opgezocht bijbehorend document aan het resultaat-document (bijvoorbeeld, de naam uit het contact-document).\n",
    "\n",
    "> In de aggregate-pijplijn zijn dit de `$match` en `$lookup`-stappen.\n",
    "\n",
    "Gegeven een lijst van agenda-items, voeg hier de namen van de deelnemers aan toe.\n",
    "\n",
    "De onderstaande functie `addNames` zoekt aan de hand van de keys (`id`) de contact-documenten van de deelnemers, en voegt de naam van elke deelnemer toe aan het agenda-document."
   ]
  },
  {
   "cell_type": "code",
   "execution_count": 13,
   "metadata": {},
   "outputs": [],
   "source": [
    "def addNames(agendaItem):\n",
    "    participants = agendaItem[\"participants\"]\n",
    "    for person in participants:\n",
    "        pList = list(contacts.find({\"_id\": person[\"id\"]})) ## (1) find\n",
    "        if len(pList) == 1:\n",
    "            person[\"name\"] = pList[0][\"name\"]  ## (2) toevoegen van naam   \n",
    "        else:\n",
    "            print(person[\"email\"])\n",
    "            print(\"error in addName\")"
   ]
  },
  {
   "cell_type": "markdown",
   "metadata": {},
   "source": [
    "We voeren hier de genoemde *join* uit voor alle agenda-documenten.\n",
    "In de praktijk voer je eerst een selectie uit op de agenda-documenten die gebruikt worden;\n",
    "alleen voor die documenten voer je dan de join uit."
   ]
  },
  {
   "cell_type": "code",
   "execution_count": 14,
   "metadata": {},
   "outputs": [
    {
     "data": {
      "text/plain": [
       "[{'_id': ObjectId('5fa9686155cba8618465aeaa'),\n",
       "  'subject': 'Beleidsplan',\n",
       "  'time': datetime.datetime(2019, 4, 1, 0, 0),\n",
       "  'duration': 120,\n",
       "  'participants': [{'email': 'zwartejoop@ziggo.nl',\n",
       "    'id': ObjectId('5fa9686155cba8618465aea1'),\n",
       "    'name': 'Joop de Zwart'}],\n",
       "  'location': 'Seats2Meet Utrecht CS'},\n",
       " {'_id': ObjectId('5fa9686155cba8618465aeab'),\n",
       "  'subject': 'Beleidsplan',\n",
       "  'time': datetime.datetime(2019, 4, 13, 0, 0),\n",
       "  'duration': 120,\n",
       "  'participants': [{'email': 'gijsbkom@ziggo.nl',\n",
       "    'id': ObjectId('5fa9686155cba8618465aea3'),\n",
       "    'name': 'Gijs Bennekom'},\n",
       "   {'email': 'a34huis@gmail.com',\n",
       "    'id': ObjectId('5fa9686155cba8618465aea2'),\n",
       "    'name': 'Adrie Vierhuis'}],\n",
       "  'location': 'Amsterdam Zuid'},\n",
       " {'_id': ObjectId('5fa9686155cba8618465aeac'),\n",
       "  'subject': 'Beleidsplan',\n",
       "  'time': datetime.datetime(2019, 4, 23, 0, 0),\n",
       "  'duration': 120,\n",
       "  'participants': [{'email': 'hdb@example.com',\n",
       "    'id': ObjectId('5fa9686155cba8618465ae9e'),\n",
       "    'name': 'Hans de Boer'},\n",
       "   {'email': 'a34huis@gmail.com',\n",
       "    'id': ObjectId('5fa9686155cba8618465aea2'),\n",
       "    'name': 'Adrie Vierhuis'}],\n",
       "  'location': 'Seats2Meet Den Bosch'},\n",
       " {'_id': ObjectId('5fa9686155cba8618465aead'),\n",
       "  'subject': 'Beleidsplan',\n",
       "  'time': datetime.datetime(2019, 3, 1, 0, 0),\n",
       "  'duration': 60,\n",
       "  'participants': [{'email': 'hdb@example.com',\n",
       "    'id': ObjectId('5fa9686155cba8618465ae9e'),\n",
       "    'name': 'Hans de Boer'},\n",
       "   {'email': 'a34huis@gmail.com',\n",
       "    'id': ObjectId('5fa9686155cba8618465aea2'),\n",
       "    'name': 'Adrie Vierhuis'}],\n",
       "  'location': 'Seats2Meet Den Bosch'},\n",
       " {'_id': ObjectId('5fa9686155cba8618465aeae'),\n",
       "  'subject': 'Fusie',\n",
       "  'time': datetime.datetime(2019, 3, 19, 0, 0),\n",
       "  'duration': 120,\n",
       "  'participants': [{'email': 'hdb@example.com',\n",
       "    'id': ObjectId('5fa9686155cba8618465ae9e'),\n",
       "    'name': 'Hans de Boer'},\n",
       "   {'email': 'a34huis@gmail.com',\n",
       "    'id': ObjectId('5fa9686155cba8618465aea2'),\n",
       "    'name': 'Adrie Vierhuis'}],\n",
       "  'location': 'Den Haag CS'},\n",
       " {'_id': ObjectId('5fa9686155cba8618465aeaf'),\n",
       "  'subject': 'Fusie',\n",
       "  'time': datetime.datetime(2019, 4, 27, 0, 0),\n",
       "  'duration': 180,\n",
       "  'participants': [{'email': 'hdb@example.com',\n",
       "    'id': ObjectId('5fa9686155cba8618465ae9e'),\n",
       "    'name': 'Hans de Boer'},\n",
       "   {'email': 'a34huis@gmail.com',\n",
       "    'id': ObjectId('5fa9686155cba8618465aea2'),\n",
       "    'name': 'Adrie Vierhuis'}],\n",
       "  'location': 'Den Haag CS'}]"
      ]
     },
     "execution_count": 14,
     "metadata": {},
     "output_type": "execute_result"
    }
   ],
   "source": [
    "aList = list(agenda.find())\n",
    "for item in aList:\n",
    "    addNames(item)\n",
    "aList"
   ]
  },
  {
   "cell_type": "markdown",
   "metadata": {},
   "source": [
    "### Opdracht\n",
    "Programmeer nu de onderstaande opdracht zelf uit.\n",
    "\n",
    "**Opdracht**\n",
    "Maak een lijst van agenda-documenten voor de \"Beleidsplan\"-bijeenkomsten, met daarin als onderdeel van de `participants` de namen en woonplaatsen van de deelnemers.\n",
    "\n",
    "Splits dit in 3 stappen:\n",
    "\n",
    "1. definitie van een functie `joinContacts(agendaItem)`\n",
    "2. construeren van de lijst met \"Beleidsplan\"-bijeenkomsten\n",
    "3. het toepassen van de genoemde functie op alle elementen in deze lijst.\n",
    "\n",
    "Houd er bij stap 1 rekening mee dat het veld \"address.city\" mogelijk niet bestaat."
   ]
  },
  {
   "cell_type": "code",
   "execution_count": 15,
   "metadata": {},
   "outputs": [],
   "source": [
    "def joinContacts(agendaItem):\n",
    "    participants = agendaItem[\"participants\"]\n",
    "    for person in participants:\n",
    "        pList = list(contacts.find({\"_id\": person[\"id\"]})) ## (1) find\n",
    "        if len(pList) == 1:\n",
    "            person[\"name\"] = pList[0][\"name\"]  ## (2) toevoegen van naam\n",
    "            if \"address\" in pList[0] and \"city\" in pList[0][\"address\"]:\n",
    "              person[\"city\"] = pList[0][\"address\"][\"city\"]\n",
    "        else:\n",
    "            print(person[\"email\"])\n",
    "            print(\"error in addName\")"
   ]
  },
  {
   "cell_type": "code",
   "execution_count": 16,
   "metadata": {},
   "outputs": [
    {
     "data": {
      "text/plain": [
       "[{'_id': ObjectId('5fa9686155cba8618465aeae'),\n",
       "  'subject': 'Fusie',\n",
       "  'time': datetime.datetime(2019, 3, 19, 0, 0),\n",
       "  'duration': 120,\n",
       "  'participants': [{'email': 'hdb@example.com',\n",
       "    'id': ObjectId('5fa9686155cba8618465ae9e'),\n",
       "    'name': 'Hans de Boer'},\n",
       "   {'email': 'a34huis@gmail.com',\n",
       "    'id': ObjectId('5fa9686155cba8618465aea2'),\n",
       "    'name': 'Adrie Vierhuis',\n",
       "    'city': 'Rotterdam'}],\n",
       "  'location': 'Den Haag CS'},\n",
       " {'_id': ObjectId('5fa9686155cba8618465aeaf'),\n",
       "  'subject': 'Fusie',\n",
       "  'time': datetime.datetime(2019, 4, 27, 0, 0),\n",
       "  'duration': 180,\n",
       "  'participants': [{'email': 'hdb@example.com',\n",
       "    'id': ObjectId('5fa9686155cba8618465ae9e'),\n",
       "    'name': 'Hans de Boer'},\n",
       "   {'email': 'a34huis@gmail.com',\n",
       "    'id': ObjectId('5fa9686155cba8618465aea2'),\n",
       "    'name': 'Adrie Vierhuis',\n",
       "    'city': 'Rotterdam'}],\n",
       "  'location': 'Den Haag CS'}]"
      ]
     },
     "execution_count": 16,
     "metadata": {},
     "output_type": "execute_result"
    }
   ],
   "source": [
    "bList = list(agenda.find({\"subject\": \"Fusie\"}))\n",
    "for item in bList:\n",
    "    joinContacts(item)\n",
    "bList"
   ]
  },
  {
   "cell_type": "markdown",
   "metadata": {},
   "source": [
    "### Opmerkingen\n",
    "\n",
    "#### Meer gegevens per *participant*\n",
    "\n",
    "De gegevens van de deelnemers in de afspraak kunnen we later uitbreiden, bijvoorbeeld met de opmerking of ze al uitgenodigd zijn, en of ze al bevestigd hebben.\n",
    "Dat valt buiten het bestek van dit voorbeeld.\n",
    "\n",
    "#### Gedeeltelijke de-normalisatie\n",
    "\n",
    "In het voorbeeld hierboven kun je de namen van de deelnemers ook in het agenda-document opnemen, naast de `id` van het contact-document.\n",
    "Op die manier hoef je niet steeds een join uit te voeren met de contact-documenten als je alleen de namen vn de deelnemers nodig hebt.\n",
    "Er is dan wel sprake van *duplicatie* van gegevens: de naam van een contact komt zowel in het contact-document als in meerdere agenda-documenten voor.\n",
    "Als de naam van een contact niet verandert, levert dit geen probleem met inconsistenties op.\n",
    "Een klein nadeel is dat de opslag wat minder compact is, maar dat weegt niet op tegen het voordeel van snellere toegang tot de gegevens\n",
    "\n",
    "> Duplicatie van gegevens versnelt in het algemeen het opzoeken van gegevens,\n",
    "  maar kan het aanpassen van gegegevens (veel) lastiger maken.\n",
    "  Voor gegevens die niet veranderen is duplicatie geen probleem.\n",
    "\n",
    "#### Caching\n",
    "\n",
    "De aanpak in de functie `addNames` is niet de meest efficiënte:\n",
    "eenzelfde contact-verwijzing komt meerdere malen voor, we zoeken dit document steeds opnieuw op.\n",
    "Dit kunnen we efficiënter maken door een *cache* toe te voegen van personen die we al eerder opgezocht hebben.\n",
    "Dat vraagt maar een kleine aanpassing in het algoritme.\n",
    "\n",
    "> Toevoegen: voorbeeld van caching\n",
    "\n",
    "#### Linked data\n",
    "\n",
    "In het voorbeeld van de agenda gebruiken we het emailadres als identificatie van een persoon, of, later, de interne key van het contact-document.\n",
    "Bij Linked Data zullen we nog andere manieren tegenkomen voor het identificeren van een persoon (contact).\n",
    "\n",
    "#### Embedding versus referencing\n",
    "\n",
    "Bij MongoDB kun je kiezen tussen embedding en referencing.\n",
    "Wat zijn hierbij goede criteria?\n",
    "\n",
    "* gebruik altijd *referencing* voor documenten die ook zelfstandig voor kunnen komen, en zie zelfstandig aangemaakt, veranderd en verwijderd kunnen worden, zoals in het bovenstaande voorbeeld agenda-documenten en contact-documenten.\n",
    "    * eventueel kun je deze referencing uitbreiden met een gedeeltelijke embedding van niet-veranderende velden (zoals de naam).\n",
    "* gebruik *embedding* voor gegevens die bij elkaar horen, en die zelfstandig geen betekenis hebben. In het bovenstaande voorbeeld is het veld `participants` daarvan een voorbeeld.\n"
   ]
  },
  {
   "cell_type": "code",
   "execution_count": null,
   "metadata": {},
   "outputs": [],
   "source": []
  }
 ],
 "metadata": {
  "kernelspec": {
   "display_name": "Python 3",
   "language": "python",
   "name": "python3"
  },
  "language_info": {
   "codemirror_mode": {
    "name": "ipython",
    "version": 3
   },
   "file_extension": ".py",
   "mimetype": "text/x-python",
   "name": "python",
   "nbconvert_exporter": "python",
   "pygments_lexer": "ipython3",
   "version": "3.7.7"
  }
 },
 "nbformat": 4,
 "nbformat_minor": 4
}
