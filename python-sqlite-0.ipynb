{
 "cells": [
  {
   "cell_type": "markdown",
   "metadata": {},
   "source": [
    "## Over deze opdrachten\n",
    "\n",
    "* dit is Jupyter Notebook `python-sqlite-0.ipynb` - voor het aanmaken van de database.\n",
    "* voor een inleiding over het gebruik van Jupyter Notebooks: [Inleiding Jupyter Notebook](Inleiding-Jupyter.ipynb)\n",
    "* de hele reeks Python SQlite opdrachten:\n",
    "    * [Python SQLite - init database](python-sqlite-0.ipynb) (om met een schone lei te beginnnen)\n",
    "    * [Python SQLite - selectie en projectie](python-sqlite-1.ipynb)    \n",
    "    * [Python SQLite - joins](python-sqlite-2.ipynb)\n",
    "    * [Python SQLite - CRUD](python-sqlite-3.ipynb)\n",
    "    * [Python SQLite - Schema](python-sqlite-4.ipynb)"
   ]
  },
  {
   "cell_type": "markdown",
   "metadata": {},
   "source": [
    "## Aanmaken van de database"
   ]
  },
  {
   "cell_type": "markdown",
   "metadata": {},
   "source": [
    "In de volgende opdrachten voer je allerlei queries uit op een database.\n",
    "Je moeten dan eerst wel een database met inhoud hebben.\n",
    "Met de onderstaande opdrachten maak je deze database.\n",
    "Deze opdrachten hoef je maar één keer uit te voeren: de database blijft bestaan, met je veranderingen.\n",
    "Je kunt deze opdrachten ook uitvoeren om opnieuw te beginnen, in een goed gedefinieerde toestand."
   ]
  },
  {
   "cell_type": "code",
   "execution_count": 1,
   "metadata": {},
   "outputs": [],
   "source": [
    "import sqlite3\n",
    "db = sqlite3.connect('example.db')\n",
    "cursor = db.cursor()"
   ]
  },
  {
   "cell_type": "markdown",
   "metadata": {},
   "source": [
    "We maken de tabel(len) aan.\n",
    "We verwijderen eerst een eventueel bestaande versie van de tabel(len):\n",
    "we hebben dan een goed gedefinieerde toestand.\n",
    "\n",
    "> Opmerking: er zijn kleine verschillen in de notatie van de constraints bij het aanmaken van een tabel; MySQL gebruikt bijvoorbeeld een andere notatie dan Oracle."
   ]
  },
  {
   "cell_type": "code",
   "execution_count": 2,
   "metadata": {},
   "outputs": [
    {
     "data": {
      "text/plain": [
       "<sqlite3.Cursor at 0x108d03810>"
      ]
     },
     "execution_count": 2,
     "metadata": {},
     "output_type": "execute_result"
    }
   ],
   "source": [
    "cursor.execute('''DROP TABLE IF EXISTS leden;''')\n",
    "cursor.execute('''CREATE TABLE leden(\n",
    "                    lidnr INTEGER PRIMARY KEY,\n",
    "                    voornaam VARCHAR(255) NOT NULL,\n",
    "                    achternaam VARCHAR(255) NOT NULL,\n",
    "                    email VARCHAR(255) NOT NULL UNIQUE\n",
    "                  );''')"
   ]
  },
  {
   "cell_type": "markdown",
   "metadata": {},
   "source": [
    "We hebben een voorbeeld-inhoud van de tabel(len) in csv-bestanden.\n",
    "Zo'n csv-bestand kun je gemakkelijk aanpassen in een teksteditor.\n",
    "Voor het importeren van een csv-bestand gebruiken we een speciale SQLite-opdracht, via de shell.\n",
    "(Een alternatief is om dit bestand te importeren via pandas.)"
   ]
  },
  {
   "cell_type": "code",
   "execution_count": 3,
   "metadata": {},
   "outputs": [],
   "source": [
    "%%bash\n",
    "sqlite3 example.db\n",
    ".mode csv\n",
    ".import leden.csv leden"
   ]
  },
  {
   "cell_type": "markdown",
   "metadata": {},
   "source": [
    "Hieronder een voorbeeld van een SQL-opdracht die we rechtstreeks in SQLite uitvoeren."
   ]
  },
  {
   "cell_type": "code",
   "execution_count": 4,
   "metadata": {},
   "outputs": [
    {
     "name": "stdout",
     "output_type": "stream",
     "text": [
      "1|Hans|de Boer|hdebo@ziggo.nl\n",
      "2|Marie|Verkerk|marie@verkerk.nl\n",
      "3|Jantien|Gerards|jgerards@gmail.com\n"
     ]
    }
   ],
   "source": [
    "%%bash\n",
    "sqlite3 example.db\n",
    "SELECT * FROM leden;"
   ]
  },
  {
   "cell_type": "markdown",
   "metadata": {},
   "source": [
    "Eenzelfde opdracht, nu als onderdeel van een Python-programma:"
   ]
  },
  {
   "cell_type": "code",
   "execution_count": 5,
   "metadata": {},
   "outputs": [
    {
     "name": "stdout",
     "output_type": "stream",
     "text": [
      "(1, 'Hans', 'de Boer', 'hdebo@ziggo.nl')\n",
      "(2, 'Marie', 'Verkerk', 'marie@verkerk.nl')\n",
      "(3, 'Jantien', 'Gerards', 'jgerards@gmail.com')\n"
     ]
    }
   ],
   "source": [
    "cursor.execute('''SELECT * FROM leden;''')\n",
    "for row in cursor:\n",
    "    print(row)"
   ]
  },
  {
   "cell_type": "markdown",
   "metadata": {},
   "source": [
    "We volgende hetzelfde patroon voor de tweede tabel: inschrijvingen."
   ]
  },
  {
   "cell_type": "code",
   "execution_count": 6,
   "metadata": {},
   "outputs": [
    {
     "data": {
      "text/plain": [
       "<sqlite3.Cursor at 0x108d03810>"
      ]
     },
     "execution_count": 6,
     "metadata": {},
     "output_type": "execute_result"
    }
   ],
   "source": [
    "cursor.execute('''DROP TABLE IF EXISTS inschrijvingen;''')\n",
    "cursor.execute('''CREATE TABLE inschrijvingen(\n",
    "                  inschrijfnr INTEGER, \n",
    "                  lidnr INTEGER,\n",
    "                  datum VARCHAR(255) NOT NULL,\n",
    "                  maaltijd VARCHAR(255),\n",
    "                  PRIMARY KEY (inschrijfnr),\n",
    "                  FOREIGN KEY (lidnr) REFERENCES leden (lidnr),\n",
    "                  CONSTRAINT name UNIQUE (lidnr, datum)\n",
    "                  );''')"
   ]
  },
  {
   "cell_type": "code",
   "execution_count": 7,
   "metadata": {},
   "outputs": [],
   "source": [
    "%%bash\n",
    "sqlite3 example.db\n",
    ".mode csv\n",
    ".import inschrijvingen.csv inschrijvingen"
   ]
  },
  {
   "cell_type": "code",
   "execution_count": 8,
   "metadata": {},
   "outputs": [
    {
     "name": "stdout",
     "output_type": "stream",
     "text": [
      "(1, 1, '23-06-2019', 'maaltijd A')\n",
      "(2, 1, '30-06-2019', 'maaltijd B')\n",
      "(3, 2, '23-06-2019', 'geen')\n",
      "(4, 3, '23-06-2019', 'maaltijd A')\n"
     ]
    }
   ],
   "source": [
    "cursor.execute('''SELECT * FROM inschrijvingen;''')\n",
    "for row in cursor:\n",
    "    print(row)"
   ]
  },
  {
   "cell_type": "code",
   "execution_count": null,
   "metadata": {},
   "outputs": [],
   "source": []
  }
 ],
 "metadata": {
  "kernelspec": {
   "display_name": "Python 3",
   "language": "python",
   "name": "python3"
  },
  "language_info": {
   "codemirror_mode": {
    "name": "ipython",
    "version": 3
   },
   "file_extension": ".py",
   "mimetype": "text/x-python",
   "name": "python",
   "nbconvert_exporter": "python",
   "pygments_lexer": "ipython3",
   "version": "3.6.8"
  }
 },
 "nbformat": 4,
 "nbformat_minor": 2
}
