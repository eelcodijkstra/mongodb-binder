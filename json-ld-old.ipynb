{
 "cells": [
  {
   "cell_type": "markdown",
   "metadata": {},
   "source": [
    "# Linked data en JSON-LD\n",
    "\n",
    "## Inleiding\n",
    "\n",
    "In de voorgaande hoofdstukken heb je gezien hoe je met een schema ervoor kunt zorgen dat de documenten in een MongoDB database-collection gelijksoortig zijn.\n",
    "In MongoDB kun je een query als schema koppelen aan een collection, om een document te valideren voordat je dit toevoegt of verandert.\n",
    "\n",
    "In plaats van een MongoDB-query kun je ook de JSON-schema notatie gebruiken.\n",
    "Hiermee kun je nog preciezer beschrijven wat de structuur van een document moet zijn, welke (veld)namen gebruikt moeten worden, en hoe de waarden getypeerd moeten zijn.\n",
    "\n",
    "Door het gebruik van standaard-schema's zoals die van http://schema.org kun je ervoor zorgen dat de betekenis van de velden duidelijk vastligt, in elk geval voor de menselijke lezer. \n",
    "En je zorgt ervoor dat je documenten uitwisselbaar zijn met anderen die dezelfde schema's gebruiken.\n",
    "\n",
    "Een volgende vraag is hoe je de eigenschappen van een schema expliciet kunt maken, zodat deze ook gebruikt (geïnterpreteerd) kunnen worden door computers, en niet alleen door mensen. Hiervoor kun je gebruik maken van de Linked Data technologie zoals die ontwikkeld is voor het web.\n",
    "\n",
    "* hoe kun je duidelijk maken welke standaard-schema's je gebruikt?\n",
    "* hoe kun je het verband met andere data aangeven?\n"
   ]
  },
  {
   "cell_type": "markdown",
   "metadata": {},
   "source": [
    "## Linked data\n",
    "\n",
    "Volgens Tim Berners-Lee, de uitvinder van het web, bestaat Linked Data uit de volgende stappen:\n",
    "    \n",
    "zie: https://www.w3.org/DesignIssues/LinkedData.html\n",
    "\n",
    "1. Use URIs as names for things\n",
    "2. Use HTTP URIs so that people can look up those names.\n",
    "3. When someone looks up a URI, provide useful information, using the standards (RDF*, SPARQL)\n",
    "4. Include links to other URIs. so that they can discover more things.    "
   ]
  },
  {
   "cell_type": "markdown",
   "metadata": {},
   "source": [
    "## (1) Gebruik URI's/IRI's als namen\n",
    "\n",
    "De eerste stap is het gebruiken van globale unieke identificaties voor \"dingen\" (resources).\n",
    "Dergelijke globale identificaties zijn iet afhankelijk van de lokale context:\n",
    "Dit betekent dat je gegevens gemakkelijk kunt uitwisselen tussen verschillende lokale contexten.\n",
    "In het web is voor deze globale identificatie de URI (tegenwoordig: IRI) ontwikkeld.\n",
    "\n",
    "> De web-term voor \"ding\" is \"resource\": dit kan iets concreets zijn: een ding, mens, dier, planeet; het kan ook iets virtueels of abstracts zijn. Het hoeft niet in het internet/web aanwezig te zijn, om het in het web te kunnen beschrijven.\n",
    "\n",
    "Enkele voorbeelden van URI's/IRI's:\n",
    "\n",
    "* urn:isbn:0-486-27557-4  (een ISBN-nummer identificeert een boek-editie)\n",
    "* urn:dev:mac:0024befffe804ff1 (een MAC-adres identificeert een apparaat/netwerk-aansluiting)\n",
    "* tel:+1-816-555-1212\n",
    "* mailto:John.Doe@example.com\n",
    "* ftp://ftp.is.co.za/rfc/rfc1808.txt\n",
    "* http://www.ietf.org/rfc/rfc2396.txt\n",
    "\n",
    "De eerste van deze voorbeelden zijn identificaties die je niet als link in het web kunt gebruiken.\n",
    "Deze vallen onder de categorie \"Uniform Resource Numbers\" (urn).\n",
    "De laatste voorbeelden, vanaf het telefoonnummer, kun je wel als link in een webpagina gebruiken.\n",
    "De browser kan deze identificaties interpreteren, en er actie op ondernemen.\n",
    "Bij de laatste twee gevallen kun je via de browser meer gegevens bij de identificatie ophalen.\n",
    "\n",
    "> Het belangrijkste verschil tussen URI's en IRI's is dat deze laatste veel meer mogelijkheden bieden om een alternatief alfabet te gebruiken. URI's zijn traditioneel sterk gericht op het latijnse alfabet (ASCII).\n",
    "\n",
    "* https://tools.ietf.org/html/rfc3986 (internet-RFC over URI's)\n",
    "* https://tools.ietf.org/html/rfc3987 (IRI's)\n",
    "* https://en.wikipedia.org/wiki/Internationalized_Resource_Identifier"
   ]
  },
  {
   "cell_type": "markdown",
   "metadata": {},
   "source": [
    "## (2) Gebruik URL's als URI's\n",
    "\n",
    "De tweede stap is: gebruik waar mogelijk URL's als URI's.\n",
    "Een URL kun je als link in het web gebruiken, en via een URL kun je meer gegevens bij de identificatie vinden (zie de volgende stap).\n",
    "\n",
    "Je kunt dit toepassen op de veldnamen van een document.\n",
    "Als je de namen gebruiken van schema.org krijgen je bijvoorbeeld:\n",
    "\n",
    "```\n",
    "{\n",
    "    \"http://schema.org/name\": \"Harry van Doorn\",\n",
    "    \"http://schema.org/email\": \"harryvdoorm@friendmail.org\",\n",
    "    \"http://schema.org/telephone\": \"+31-6-1357 8642\"\n",
    "}\n",
    "```\n",
    "\n",
    "Dit is voor computers duidelijk en ondubbelzinnig, maar voor mensen wat omslachtig.\n",
    "Met behulp van JSON-LD kun je dit compacter en overzichtelijker beschrijven."
   ]
  },
  {
   "cell_type": "code",
   "execution_count": 157,
   "metadata": {},
   "outputs": [],
   "source": [
    "import requests\n",
    "import json\n",
    "from bs4 import BeautifulSoup\n",
    "from pyld import jsonld\n",
    "\n"
   ]
  },
  {
   "cell_type": "markdown",
   "metadata": {},
   "source": [
    "## JSON-LD\n",
    "\n",
    "In JSON-LD kun je bij een JSON-object aangeven welke context gebruikt wordt.\n",
    "Anders gezegd: waar je de definitie van de gebruikte namen kunt vinden.\n",
    "Het bovenstaande voorbeeld wordt dan:\n",
    "\n",
    "```\n",
    "{\n",
    "  \"@context: \"http://schema.org\",\n",
    "  \"name\": \"Harry van Doorn\",\n",
    "  \"email\": \"harryvdoorm@friendmail.org\",\n",
    "  \"telephone\": \"+31-6-1357 8642\"\n",
    "}\n",
    "```\n",
    "\n",
    "Met behulp van de hulpprogramma's bij JSON-LD (uit pyld) kun je dit expanderen.\n",
    "\n",
    "> Door een fout in de python-implementatie moet je hier in plaats van \"http://schmema.org\" gebruiken: \"http://schema.org/docs/jsonldcontext.jsonld\". In een volgende versie is dat waarschijnlijk opgelost."
   ]
  },
  {
   "cell_type": "code",
   "execution_count": 171,
   "metadata": {},
   "outputs": [
    {
     "data": {
      "text/plain": [
       "[{'http://schema.org/email': [{'@value': 'harryvdoorm@friendmail.org'}],\n",
       "  'http://schema.org/name': [{'@value': 'Harry van Doorn'}],\n",
       "  'http://schema.org/tel': [{'@value': '+31-6-1357 8642'}]}]"
      ]
     },
     "execution_count": 171,
     "metadata": {},
     "output_type": "execute_result"
    }
   ],
   "source": [
    "mycontact = {\n",
    "  \"@context\": \"http://schema.org/docs/jsonldcontext.jsonld\",\n",
    "  \"name\": \"Harry van Doorn\",\n",
    "  \"email\": \"harryvdoorm@friendmail.org\",\n",
    "  \"tel\": \"+31-6-1357 8642\"\n",
    "}\n",
    "\n",
    "expanded_contact = jsonld.expand(mycontact)\n",
    "expanded_contact"
   ]
  },
  {
   "cell_type": "markdown",
   "metadata": {},
   "source": [
    "Het omgekeerde is ook mogelijk: je kunt uit een geëxpandeerd document en een context weer een compact document maken.\n",
    "\n",
    "> De volgorde van de velden in het document kan hierbij veranderen, maar dat heeft geen betekenis, noch in JSON, noch in Python."
   ]
  },
  {
   "cell_type": "code",
   "execution_count": 172,
   "metadata": {},
   "outputs": [
    {
     "data": {
      "text/plain": [
       "{'@context': 'http://schema.org/docs/jsonldcontext.jsonld',\n",
       " 'email': 'harryvdoorm@friendmail.org',\n",
       " 'name': 'Harry van Doorn',\n",
       " 'tel': '+31-6-1357 8642'}"
      ]
     },
     "execution_count": 172,
     "metadata": {},
     "output_type": "execute_result"
    }
   ],
   "source": [
    "jsonld.compact(expanded_contact, \"http://schema.org/docs/jsonldcontext.jsonld\")"
   ]
  },
  {
   "cell_type": "markdown",
   "metadata": {},
   "source": [
    "**Opdrachten**\n",
    "\n",
    "* Ga na wat er gebeurt als je een naam gebruikt die niet in schema.org gedefinieerd wordt, bijvoorbeeld \"tel\" in plaats van \"telephone\".\n",
    "** welke URL krijg je als veldnaam?\n",
    "** wat gebeurt er als je die URL gebruikt in de browser? (als je op die URL klikt?, anders gezegd: als je het document bij die URL ophaalt?)\n",
    "* Vraag de lijst met namen in de browser op, via de link http://schema.org/docs/jsonldcontext.jsonld"
   ]
  },
  {
   "cell_type": "markdown",
   "metadata": {},
   "source": [
    "### Links\n",
    "\n",
    "* https://json-ld.org\n",
    "* https://json-ld.org/playground/"
   ]
  },
  {
   "cell_type": "markdown",
   "metadata": {},
   "source": [
    "## (3) Geef extra informatie via de URL's\n",
    "\n",
    "De volgende stap is om via de URL's die als naam gebruikt worden, meer informatie over de naam en het bijbehorende \"ding\" te geven.\n",
    "\n",
    "Welke gegevens krijg je bij de URL \"[http://schema.org/email](http://schema.org/email)\"?\n",
    "\n",
    "> We gebruiken hier de Python-library `requests`, voor het versturen van HTTP-requests vanuit Python. (zie: https://requests.readthedocs.io/)"
   ]
  },
  {
   "cell_type": "code",
   "execution_count": 173,
   "metadata": {},
   "outputs": [
    {
     "data": {
      "text/plain": [
       "200"
      ]
     },
     "execution_count": 173,
     "metadata": {},
     "output_type": "execute_result"
    }
   ],
   "source": [
    "r = requests.get(\"http://schema.org/email\")\n",
    "r.status_code"
   ]
  },
  {
   "cell_type": "markdown",
   "metadata": {},
   "source": [
    "Als de status_code = 200 (\"OK\"), dan was de aanvraag succesvol; de webserver heeft een document teruggestuurd, je vindt dat onder `r.text`. We laten hier de eerste 500 tekens zien:"
   ]
  },
  {
   "cell_type": "code",
   "execution_count": 174,
   "metadata": {},
   "outputs": [
    {
     "data": {
      "text/plain": [
       "'\\n<!DOCTYPE html>\\n<html lang=\"en\">\\n<!-- Generated from TermPageEx.j2 -->\\n    \\n    \\n    <head>\\n\\n    <title>email - Schema.org Property</title>\\n    <meta charset=\"utf-8\" >\\n    <meta name=\"viewport\" content=\"width=device-width, initial-scale=1\">\\n    <meta name=\"description\" content=\"Schema.org Property: email - Email address.\" />\\n    <link rel=\"shortcut icon\" type=\"image/png\" href=\"/docs/favicon.ico\"/>\\n    <link rel=\"stylesheet\" type=\"text/css\" href=\"/docs/schemaorg.css\" />\\n    <link rel=\"stylesheet'"
      ]
     },
     "execution_count": 174,
     "metadata": {},
     "output_type": "execute_result"
    }
   ],
   "source": [
    "r.text[0:500]"
   ]
  },
  {
   "cell_type": "markdown",
   "metadata": {},
   "source": [
    "Dit is hetzelfde HTML-document dat je krijgt als je die link in de browser opent.\n",
    "Voor computers is dit document niet erg handig, maar er zit een JSON-LD document \"verstopt\" in de HTML-code.\n",
    "\n",
    "Via de Python-library BeautifulSoup (REF), voor het verwerken van HTML-documenten, kun je die gegevens vinden, als een script met als type: \"application/ld+json\"):"
   ]
  },
  {
   "cell_type": "code",
   "execution_count": 176,
   "metadata": {},
   "outputs": [
    {
     "data": {
      "text/plain": [
       "<script type=\"application/ld+json\">\n",
       "{\n",
       "  \"@context\": {\n",
       "    \"rdf\": \"http://www.w3.org/1999/02/22-rdf-syntax-ns#\",\n",
       "    \"rdfs\": \"http://www.w3.org/2000/01/rdf-schema#\",\n",
       "    \"schema\": \"http://schema.org/\",\n",
       "    \"xsd\": \"http://www.w3.org/2001/XMLSchema#\"\n",
       "  },\n",
       "  \"@id\": \"schema:email\",\n",
       "  \"@type\": \"rdf:Property\",\n",
       "  \"rdfs:comment\": \"Email address.\",\n",
       "  \"rdfs:label\": \"email\",\n",
       "  \"schema:domainIncludes\": [\n",
       "    {\n",
       "      \"@id\": \"schema:Organization\"\n",
       "    },\n",
       "    {\n",
       "      \"@id\": \"schema:ContactPoint\"\n",
       "    },\n",
       "    {\n",
       "      \"@id\": \"schema:Person\"\n",
       "    }\n",
       "  ],\n",
       "  \"schema:rangeIncludes\": {\n",
       "    \"@id\": \"schema:Text\"\n",
       "  }\n",
       "}\n",
       "</script>"
      ]
     },
     "execution_count": 176,
     "metadata": {},
     "output_type": "execute_result"
    }
   ],
   "source": [
    "soup =  BeautifulSoup(r.text, \"html.parser\")\n",
    "json_script = soup.find(type=\"application/ld+json\")\n",
    "json_script"
   ]
  },
  {
   "cell_type": "markdown",
   "metadata": {},
   "source": [
    "Het JSON-LD object in dit script krijg je via:"
   ]
  },
  {
   "cell_type": "code",
   "execution_count": 177,
   "metadata": {},
   "outputs": [
    {
     "data": {
      "text/plain": [
       "{'@context': {'rdf': 'http://www.w3.org/1999/02/22-rdf-syntax-ns#',\n",
       "  'rdfs': 'http://www.w3.org/2000/01/rdf-schema#',\n",
       "  'schema': 'http://schema.org/',\n",
       "  'xsd': 'http://www.w3.org/2001/XMLSchema#'},\n",
       " '@id': 'schema:email',\n",
       " '@type': 'rdf:Property',\n",
       " 'rdfs:comment': 'Email address.',\n",
       " 'rdfs:label': 'email',\n",
       " 'schema:domainIncludes': [{'@id': 'schema:Organization'},\n",
       "  {'@id': 'schema:ContactPoint'},\n",
       "  {'@id': 'schema:Person'}],\n",
       " 'schema:rangeIncludes': {'@id': 'schema:Text'}}"
      ]
     },
     "execution_count": 177,
     "metadata": {},
     "output_type": "execute_result"
    }
   ],
   "source": [
    "json.loads(json_script.contents[0].string)"
   ]
  },
  {
   "cell_type": "markdown",
   "metadata": {},
   "source": [
    "**Opdracht**\n",
    "\n",
    "* vergelijk het JSON-LD object met de gegevens die je via de browser vindt op [http://schema.org/email](http://schema.org/email).\n",
    "* wat is het type van de waarde van het veld [http://schema.org/email](http://schema.org/email)?\n",
    "* in welk soort documenten kan het veld [http://schema.org/email](http://schema.org/email) voorkomen?\n",
    "* wat is het \"label\" bij [http://schema.org/email](http://schema.org/email)?\n",
    "* wat is de betekenis van \"label\" volgens het bijbehorende schema?"
   ]
  },
  {
   "cell_type": "markdown",
   "metadata": {},
   "source": [
    "### Functie get_json_ld\n",
    "\n",
    "We definiëren een functie om een dergelijk JSON-LD script uit het HTML-bestand bij een gegeven URL te vinden, als dit er is. Het resultaat None geeft aan dat we bij die URL geen JSON-LD object kunnen vinden."
   ]
  },
  {
   "cell_type": "code",
   "execution_count": null,
   "metadata": {},
   "outputs": [],
   "source": [
    "def get_json_ld (url):\n",
    "    r = requests.get(url)\n",
    "    if r.status_code != 200: \n",
    "        return None\n",
    "    soup =  BeautifulSoup(r.text, \"html.parser\")\n",
    "    json_script = soup.find(type=\"application/ld+json\")\n",
    "    if json_script == None:\n",
    "        return None\n",
    "    return json.loads(json_script.contents[0].string)"
   ]
  },
  {
   "cell_type": "markdown",
   "metadata": {},
   "source": [
    "**Opdrachten**\n",
    "\n",
    "* zoek de gegevens op van [http://schema.org/productionDate](http://schema.org/productionDate)\n",
    "    * via de browser\n",
    "    * via de functie `get_json_ld`\n",
    "* zoek de gegevens op van [http://schema.org/Person](http://schema.org/Person)\n",
    "    * via de browser\n",
    "    * via de functie `get_json_ld`"
   ]
  },
  {
   "cell_type": "markdown",
   "metadata": {},
   "source": [
    "## (4) Gebruik links in de gegevens bij een URL\n",
    "\n",
    "In het web gebruik je links om de verschillende documenten aan elkaar te koppelen.\n",
    "In het geval van Linked Data kun je dat ook in de data zelf doen.\n",
    "Dit heb je al gezien voor de gegevens in de schema's.\n",
    "Je kunt het ook voor de waarden zelf doen.\n",
    "\n",
    "We geven een aantal voorbeelden van het gebruik van Linked Data.\n",
    "Ga zelf na hoe daarin links naar andere data gebruikt worden."
   ]
  },
  {
   "cell_type": "markdown",
   "metadata": {},
   "source": [
    "## JSON-LD voor zoekmachines\n",
    "\n",
    "Met behulp van gestructureerde gegevens kunnen zoekmachines veel preciezer zoeken,\n",
    "en zoekresultaten beter representeren.\n",
    "\n",
    "Google beschrijft in de [Google structured data richtlijnen](https://developers.google.com/search/docs/guides/intro-structured-data) hoe je deze json-lddata in je webpagina's kunt opnemen.\n",
    "\n",
    "We geven hieronder enkele voorbeelden van websites met ingebedde json-ld gegevens"
   ]
  },
  {
   "cell_type": "code",
   "execution_count": 179,
   "metadata": {},
   "outputs": [
    {
     "data": {
      "text/plain": [
       "{'@context': 'http://schema.org',\n",
       " '@type': 'Organization',\n",
       " 'url': 'https://ieni.org/',\n",
       " 'sameAs': ['https://twitter.com/@ieni'],\n",
       " '@id': '#organization',\n",
       " 'name': 'Vakvereniging i&amp;i',\n",
       " 'logo': 'https://ieni.org/assets/img/brand/header-dark.svg'}"
      ]
     },
     "execution_count": 179,
     "metadata": {},
     "output_type": "execute_result"
    }
   ],
   "source": [
    "get_json_ld(\"https://ieni.org\")"
   ]
  },
  {
   "cell_type": "code",
   "execution_count": 181,
   "metadata": {},
   "outputs": [
    {
     "data": {
      "text/plain": [
       "{'@context': 'https://schema.org/',\n",
       " '@type': 'Recipe',\n",
       " 'keywords': 'Recept, Gekookt ei, Diner, Nederlandse keuken, Zacht en romig',\n",
       " 'author': {'@type': 'Person', 'name': 'zolar'},\n",
       " 'name': 'Gekookt ei',\n",
       " 'recipeCategory': 'Feestmaaltijd',\n",
       " 'recipeCuisine': 'Nederlands',\n",
       " 'cookTime': 'PT10M',\n",
       " 'totalTime': 'PT10M',\n",
       " 'recipeIngredient': 'ei',\n",
       " 'recipeInstructions': 'Kook het ei.',\n",
       " 'description': 'Gekookt ei Kook het ei.',\n",
       " 'recipeYield': '1 personen',\n",
       " 'image': 'https://images.smulweb.nl/sw3/sw_fallback.png',\n",
       " 'aggregateRating': {'@type': 'AggregateRating',\n",
       "  'ratingValue': '5.0',\n",
       "  'bestRating': '5',\n",
       "  'worstRating': '0',\n",
       "  'ratingCount': '4'},\n",
       " 'comment': [{'@type': 'Comment',\n",
       "   'text': 'Geweldig recept! Misschien eerst proberen voordat ik hey met Pasen ga serveren :-)',\n",
       "   'datePublished': '16-03-2016',\n",
       "   'author': {'@type': 'Person', 'name': 'Harry66'}},\n",
       "  {'@type': 'Comment',\n",
       "   'text': 'Je moet van tevoren kijken of het niet al gebakken is........ Maar dat kan toch niet in de eierschaal? Moest dat niet zijn \"gekookt\"? (of misschien \"bebroed\") ???\\n\\nEn ik mis nog een stap tussen het ko',\n",
       "   'datePublished': '04-04-2015',\n",
       "   'author': {'@type': 'Person', 'name': 'Eddy_EBT'}},\n",
       "  {'@type': 'Comment',\n",
       "   'text': 'Bij mij is het mislukt, maar misschien komt dat omdat ik per ongeluk de laatste 2 stappen heb omgewisseld.',\n",
       "   'datePublished': '27-03-2014',\n",
       "   'author': {'@type': 'Person', 'name': 'Fredje2412'}},\n",
       "  {'@type': 'Comment',\n",
       "   'text': 'kun je het even uitleggen het is nogal ingewikkeld',\n",
       "   'datePublished': '19-04-2011',\n",
       "   'author': {'@type': 'Person', 'name': 'iris17'}},\n",
       "  {'@type': 'Comment',\n",
       "   'text': 'Graag meerdere recepten !!!!!!',\n",
       "   'datePublished': '19-04-2003',\n",
       "   'author': {'@type': 'Person', 'name': 'edvanrosmalen'}},\n",
       "  {'@type': 'Comment',\n",
       "   'text': 'Deze kende ik nog niet.',\n",
       "   'datePublished': '01-07-2002',\n",
       "   'author': {'@type': 'Person', 'name': 'ongelofeloos'}},\n",
       "  {'@type': 'Comment',\n",
       "   'text': 'wat goed!!!!!!',\n",
       "   'datePublished': '28-03-2002',\n",
       "   'author': {'@type': 'Person', 'name': 'tournesol1'}},\n",
       "  {'@type': 'Comment',\n",
       "   'text': 'Wat een heerlijk recept, ga ik morgen direct proberen, bedankt voor de tip!!\\nWat zullen we smullen.\\n\\nAnja',\n",
       "   'datePublished': '22-03-2002',\n",
       "   'author': {'@type': 'Person', 'name': 'schulting'}},\n",
       "  {'@type': 'Comment',\n",
       "   'text': 'Zo dat lijkt mij wel de moeite waard om ook eens te proberen.Ik ga gelijk op je pagina kijken of je nog meer van zulke lekkere recepten heb.',\n",
       "   'datePublished': '16-01-2002',\n",
       "   'author': {'@type': 'Person', 'name': 'simply'}}]}"
      ]
     },
     "execution_count": 181,
     "metadata": {},
     "output_type": "execute_result"
    }
   ],
   "source": [
    "get_json_ld(\"https://www.smulweb.nl/recepten/941502/Gekookt-ei\")"
   ]
  },
  {
   "cell_type": "code",
   "execution_count": 182,
   "metadata": {},
   "outputs": [
    {
     "data": {
      "text/plain": [
       "{'@context': 'https://schema.org',\n",
       " '@type': 'Article',\n",
       " 'name': 'Hedy Lamarr',\n",
       " 'url': 'https://nl.wikipedia.org/wiki/Hedy_Lamarr',\n",
       " 'sameAs': 'http://www.wikidata.org/entity/Q49034',\n",
       " 'mainEntity': 'http://www.wikidata.org/entity/Q49034',\n",
       " 'author': {'@type': 'Organization',\n",
       "  'name': 'Bijdragers aan Wikimedia projecten'},\n",
       " 'publisher': {'@type': 'Organization',\n",
       "  'name': 'Wikimedia Foundation, Inc.',\n",
       "  'logo': {'@type': 'ImageObject',\n",
       "   'url': 'https://www.wikimedia.org/static/images/wmf-hor-googpub.png'}},\n",
       " 'datePublished': '2005-03-15T19:42:44Z',\n",
       " 'dateModified': '2020-11-09T12:29:00Z',\n",
       " 'image': 'https://upload.wikimedia.org/wikipedia/commons/6/61/Hedy_lamarr_-_1940.jpg',\n",
       " 'headline': 'Oostenrijks-Amerikaans actrice en uitvindster'}"
      ]
     },
     "execution_count": 182,
     "metadata": {},
     "output_type": "execute_result"
    }
   ],
   "source": [
    "get_json_ld(\"https://nl.wikipedia.org/wiki/Hedy_Lamarr\")"
   ]
  },
  {
   "cell_type": "markdown",
   "metadata": {},
   "source": [
    "## Het web van linked data\n",
    "\n",
    "Zoals het web een web van documenten vormt, geeft linked data een web van data.\n",
    "De [Linked Open Data Cloud](https://lod-cloud.net) is daarvan een deel met vrij toegankelijke en herbruikbare (\"open\") data.\n",
    "\n",
    "* Wikipedia bevat naast de tekstuele data, ook gestructureerde data \n",
    "* [Wikidata](https://wikidata.org) is de open data-wiki van Mediawiki (Wikipedia)\n",
    "* [DBpedia](https://dbpedia.org) is een open data-wiki op basis van de gegevens in Wikipedia en andere bronnen.\n",
    "\n",
    "Je kunt deze gegevens op verschillende manieren benaderen, bijvoorbeeld via SPARQL queries.\n",
    "\n",
    "*Opmerking*: deze gegevens zijn bedoeld om door computers gelezen te worden; voor mensen zijn de resultaten niet altijd handig.\n",
    "\n",
    "Deze linked data vormt de eerste stap naar het Semantische web."
   ]
  },
  {
   "cell_type": "markdown",
   "metadata": {},
   "source": [
    "**Opdrachten**\n",
    "\n",
    "* zoek Hedy Lamarr op Wikidata\n",
    "* zoek Hedy Lamarr op DBPedia\n",
    "** gebruik bijvoorbeeld: http://dbpedia.org/fct/facet.vsp\n",
    "** wat is haar rol in \"How we got to now\"?"
   ]
  },
  {
   "cell_type": "markdown",
   "metadata": {},
   "source": [
    "-----"
   ]
  },
  {
   "cell_type": "code",
   "execution_count": 2,
   "metadata": {},
   "outputs": [
    {
     "data": {
      "text/plain": [
       "200"
      ]
     },
     "execution_count": 2,
     "metadata": {},
     "output_type": "execute_result"
    }
   ],
   "source": [
    "# productionDate\n",
    "# Person\n",
    "\n",
    "headers = {\"Content-Type\": \"application/ld_json\"}\n",
    "\n",
    "r = requests.get(\"https://schema.org/docs/jsonldcontext.jsonld\", headers=headers)\n",
    "r.status_code"
   ]
  },
  {
   "cell_type": "code",
   "execution_count": null,
   "metadata": {},
   "outputs": [],
   "source": []
  },
  {
   "cell_type": "code",
   "execution_count": 3,
   "metadata": {},
   "outputs": [
    {
     "name": "stdout",
     "output_type": "stream",
     "text": [
      "Access-Control-Allow-Credentials :  true\n",
      "Access-Control-Allow-Headers :  Accept\n",
      "Access-Control-Allow-Methods :  GET\n",
      "Access-Control-Allow-Origin :  *\n",
      "Date :  Sun, 06 Dec 2020 08:53:17 GMT\n",
      "Expires :  Sun, 06 Dec 2020 09:03:17 GMT\n",
      "ETag :  \"QE7EVQ\"\n",
      "X-Cloud-Trace-Context :  7b5076407dc9b1496396e66db1a5d1b8\n",
      "Content-Type :  application/ld+json\n",
      "Server :  Google Frontend\n",
      "Content-Length :  156492\n",
      "Age :  593\n",
      "Cache-Control :  public, max-age=600\n",
      "Alt-Svc :  h3-29=\":443\"; ma=2592000,h3-T051=\":443\"; ma=2592000,h3-Q050=\":443\"; ma=2592000,h3-Q046=\":443\"; ma=2592000,h3-Q043=\":443\"; ma=2592000,quic=\":443\"; ma=2592000; v=\"46,43\"\n"
     ]
    }
   ],
   "source": [
    "for head in r.headers:\n",
    "    print(head,\": \", r.headers[head])"
   ]
  },
  {
   "cell_type": "code",
   "execution_count": 7,
   "metadata": {},
   "outputs": [
    {
     "data": {
      "text/plain": [
       "'{\\n  \"@context\": {\\n        \"type\": \"@type\",\\n        \"id\": \"@id\",\\n        \"HTML\": { \"@id\": \"rdf:HTML\" },\\n\\n        \"@vocab\": \"http://schema.org/\",\\n        \"rdf\": \"http://www.w3.org/1999/02/22-rdf-syntax-ns#\",\\n        \"rdfs\": \"http://www.w3.org/2000/01/rdf-schema#\",\\n        \"xsd\": \"http://www.w3.org/2001/XMLSchema#\",\\n        \"schema\": \"http://schema.org/\",\\n        \"owl\": \"http://www.w3.org/2002/07/owl#\",\\n        \"dc\": \"http://purl.org/dc/elements/1.1/\",\\n        \"dct\": \"http://purl.org/dc/terms/\",\\n  '"
      ]
     },
     "execution_count": 7,
     "metadata": {},
     "output_type": "execute_result"
    }
   ],
   "source": [
    "r.text[0:500]"
   ]
  },
  {
   "cell_type": "code",
   "execution_count": 26,
   "metadata": {},
   "outputs": [
    {
     "data": {
      "text/plain": [
       "{'@id': 'schema:givenName'}"
      ]
     },
     "execution_count": 26,
     "metadata": {},
     "output_type": "execute_result"
    }
   ],
   "source": [
    "r.json()[\"@context\"][\"givenName\"]"
   ]
  },
  {
   "cell_type": "code",
   "execution_count": null,
   "metadata": {},
   "outputs": [],
   "source": [
    "from bs4 import BeautifulSoup"
   ]
  },
  {
   "cell_type": "code",
   "execution_count": null,
   "metadata": {},
   "outputs": [],
   "source": [
    "soup = BeautifulSoup(r.text, \"html.parser\")"
   ]
  },
  {
   "cell_type": "code",
   "execution_count": null,
   "metadata": {},
   "outputs": [],
   "source": [
    "soup.find_all(\"link\")"
   ]
  },
  {
   "cell_type": "code",
   "execution_count": null,
   "metadata": {},
   "outputs": [],
   "source": [
    "scripts = soup.find_all('script')"
   ]
  },
  {
   "cell_type": "code",
   "execution_count": null,
   "metadata": {},
   "outputs": [],
   "source": [
    "for s in scripts:\n",
    "    print(s.attrs.keys())\n",
    "    if \"type\" in s.attrs.keys():\n",
    "        print(s[\"type\"])\n",
    "    print(s)"
   ]
  },
  {
   "cell_type": "code",
   "execution_count": null,
   "metadata": {},
   "outputs": [],
   "source": [
    "xx = {\"aap\": 100}\n",
    "print(xx.keys())\n",
    "if 'aap' in xx.keys():\n",
    "    print('yes')"
   ]
  },
  {
   "cell_type": "code",
   "execution_count": null,
   "metadata": {},
   "outputs": [],
   "source": [
    "json_string = soup.find(type=\"application/ld+json\").contents[0].string"
   ]
  },
  {
   "cell_type": "code",
   "execution_count": null,
   "metadata": {},
   "outputs": [],
   "source": [
    "obj = json.loads(json_string)\n",
    "obj"
   ]
  },
  {
   "cell_type": "code",
   "execution_count": null,
   "metadata": {},
   "outputs": [],
   "source": [
    "obj[\"@id\"]"
   ]
  },
  {
   "cell_type": "code",
   "execution_count": null,
   "metadata": {},
   "outputs": [],
   "source": [
    "obj[\"@graph\"][\"@type\"]"
   ]
  },
  {
   "cell_type": "code",
   "execution_count": null,
   "metadata": {},
   "outputs": [],
   "source": [
    "obj[\"rdfs:label\"]"
   ]
  },
  {
   "cell_type": "code",
   "execution_count": null,
   "metadata": {},
   "outputs": [],
   "source": [
    "obj[\"rdfs:comment\"]"
   ]
  },
  {
   "cell_type": "code",
   "execution_count": null,
   "metadata": {},
   "outputs": [],
   "source": [
    "obj.keys()"
   ]
  },
  {
   "cell_type": "code",
   "execution_count": null,
   "metadata": {},
   "outputs": [],
   "source": [
    "graph = obj[\"@graph\"]"
   ]
  },
  {
   "cell_type": "markdown",
   "metadata": {},
   "source": [
    "Ik vind het lastig om het schema van Person te vinden, zoals dat gebruikt wordt in de voorbeelden.\n",
    "\n",
    "In de voorbeelden is er soms sprake van een *graph* van meerdere objecten/documenten, bijvoorbeeld van een boek en de vertaling daarvan, of van een boek en de auteur. Voor een webpagina is dat te begrijpen, voor een document in een database is dat wat lastig (dit lijkt een vorm van embedding, die je waarschijnlijk in een database niet zo zult gebruiken)."
   ]
  },
  {
   "cell_type": "code",
   "execution_count": null,
   "metadata": {},
   "outputs": [],
   "source": [
    "for elt in graph:\n",
    "    print(elt[\"@id\"], \" \", elt[\"@type\"])\n",
    "    if elt[\"@type\"] == \"rdfs:Class\":\n",
    "        print(elt)"
   ]
  },
  {
   "cell_type": "code",
   "execution_count": null,
   "metadata": {},
   "outputs": [],
   "source": [
    "type(graph)"
   ]
  },
  {
   "cell_type": "markdown",
   "metadata": {},
   "source": []
  },
  {
   "cell_type": "code",
   "execution_count": 22,
   "metadata": {},
   "outputs": [],
   "source": [
    "person = {\n",
    "  \"@context\": \"https://schema.org/docs/jsonldcontext.jsonld\",\n",
    "  \"@type\": \"Person\",\n",
    "  \"address\": {\n",
    "    \"@type\": \"PostalAddress\",\n",
    "    \"addressLocality\": \"Seattle\",\n",
    "    \"addressRegion\": \"WA\",\n",
    "    \"postalCode\": \"98052\",\n",
    "    \"streetAddress\": \"20341 Whitworth Institute 405 N. Whitworth\"\n",
    "  },\n",
    "  \"colleague\": [\n",
    "    \"http://www.xyz.edu/students/alicejones.html\",\n",
    "    \"http://www.xyz.edu/students/bobsmith.html\"\n",
    "  ],\n",
    "  \"email\": [\"mailto:jane-doe@xyz.edu\", \"jane@ziggo.nl\"],\n",
    "  \"image\": \"janedoe.jpg\",\n",
    "  \"jobTitle\": \"Professor\",\n",
    "  \"name\": \"Jane Doe\",\n",
    "  \"givenName\": \"Jane\",  \n",
    "  \"telephone\": \"(425) 123-4567\",\n",
    "  \"url\": \"http://www.janedoe.com\"\n",
    "}"
   ]
  },
  {
   "cell_type": "code",
   "execution_count": 23,
   "metadata": {},
   "outputs": [
    {
     "data": {
      "text/plain": [
       "[{'@type': ['http://schema.org/Person'],\n",
       "  'http://schema.org/address': [{'@type': ['http://schema.org/PostalAddress'],\n",
       "    'http://schema.org/addressLocality': [{'@value': 'Seattle'}],\n",
       "    'http://schema.org/addressRegion': [{'@value': 'WA'}],\n",
       "    'http://schema.org/postalCode': [{'@value': '98052'}],\n",
       "    'http://schema.org/streetAddress': [{'@value': '20341 Whitworth Institute 405 N. Whitworth'}]}],\n",
       "  'http://schema.org/colleague': [{'@id': 'http://www.xyz.edu/students/alicejones.html'},\n",
       "   {'@id': 'http://www.xyz.edu/students/bobsmith.html'}],\n",
       "  'http://schema.org/email': [{'@value': 'mailto:jane-doe@xyz.edu'},\n",
       "   {'@value': 'jane@ziggo.nl'}],\n",
       "  'http://schema.org/givenName': [{'@value': 'Jane'}],\n",
       "  'http://schema.org/image': [{'@id': 'janedoe.jpg'}],\n",
       "  'http://schema.org/jobTitle': [{'@value': 'Professor'}],\n",
       "  'http://schema.org/name': [{'@value': 'Jane Doe'}],\n",
       "  'http://schema.org/telephone': [{'@value': '(425) 123-4567'}],\n",
       "  'http://schema.org/url': [{'@id': 'http://www.janedoe.com'}]}]"
      ]
     },
     "execution_count": 23,
     "metadata": {},
     "output_type": "execute_result"
    }
   ],
   "source": [
    "from pyld import jsonld\n",
    "import json\n",
    "\n",
    "expanded = jsonld.expand(person)\n",
    "expanded"
   ]
  },
  {
   "cell_type": "markdown",
   "metadata": {},
   "source": [
    "De expansie van het voorbeeld in de JSON-LD \"playground\" gaat wel goed (https://json-ld.org/playground/); met de pyld-library lukt het nog niet zonder meer.\n",
    "\n",
    "> Zie de fout in: pyld - https://github.com/digitalbazaar/pyld/issues/128. Er is kennelijk een verbetering onderweg.\n",
    "Als we in plaats van schema.org gebruiken: \"https://schema.org/docs/jsonldcontext.jsonld\", gaat dit wel goed."
   ]
  },
  {
   "cell_type": "code",
   "execution_count": null,
   "metadata": {},
   "outputs": [],
   "source": [
    "r1 = requests.get(\"https://schema.org/version/latest/schemaorg-current-http.jsonld\")\n",
    "r1.status_code"
   ]
  },
  {
   "cell_type": "code",
   "execution_count": null,
   "metadata": {},
   "outputs": [],
   "source": [
    "schemas = r1.json()"
   ]
  },
  {
   "cell_type": "code",
   "execution_count": null,
   "metadata": {},
   "outputs": [],
   "source": [
    "schemas"
   ]
  },
  {
   "cell_type": "markdown",
   "metadata": {},
   "source": [
    "## JSON-LD\n",
    "\n",
    "In een JSON-object kun je namen gebruiken zoals \"voornaam\" en \"adres\".\n",
    "Voor de menselijke lezer is vaak wel (ongeveer) duidelijk wat deze betekenen.\n",
    "Maar bij ingewikkelder schema's is dat vaak minder duidelijk.\n",
    "\n",
    "Door het gebruik van een schema voor een collection kun je ervoor zorgen dat de documenten in die collection in elk geval dezelfde namen gebruiken voor dezelfde begrippen. Dus bijvoorbeeld allemaal \"givenName\" in plaats van \"firstName\".\n",
    "\n",
    "Als je de standaard-schema's van schema.org gebruikt als uitgangspunt weet je dat je aansluit op naamgeving die elders gebruikt wordt.\n",
    "\n",
    "Met behulp van JSON-LD kun je dit nog een stap verder brengen: je koppelt de namen die je gebruikt direct aan de namen in (bijvoorbeeld) schema.org.\n",
    "\n",
    "De namen van schema.org kun je toevoegen als *context* aan je JSON-objecten: de veldnaam `givenName` komt dan overeen met [http://schema.org/givenName](http://schema.org/givenName). Met andere woorden: een naam komt overeen met een (unieke) URL. Dit is één van de principes van het web: je gebruikt URIs (URLs) voor het *identificeren* van dingen (\"resources\") op een eenduidige manier. Omdat de naamgeving in het web wereldwijd dezelfde is, is voor iedereen duidelijk wat hier bedoeld wordt.\n",
    "\n",
    "Via een context kun je een ook een lokale naam invoeren voor een begrip dat via een URL gedefinieerd is; bijvoorbeeld:\n",
    "\n",
    "```\n",
    "\"schema\": \"http://schema.org/\",\n",
    "\"voornaam\": {\"@id\": \"schema:givenName\"}\n",
    "```\n",
    "\n",
    "Dit is een afkorting voor:\n",
    "\n",
    "```\n",
    "\"voornaam\": {\"@id\": \"http://schema.org/givenName\"}\n",
    "```\n",
    "\n",
    "Op deze manier kun je je eigen namen gebruiken, in de lokale taal, zonder de unieke identificatie van schema.org te verliezen.\n",
    "\n",
    "> Dit maakt het gemakkelijker om aan te sluiten bij lokale gewoontes.\n",
    "\n",
    "De namen van schema.org vormen niet alleen een unieke identificatie: via de URL kun je ook informatie over een naam ophalen. In de eerste plaats als gewoon HTML document, geschikt voor de menselijke lezer, maar daarnaast ook in een vorm die beter door machines verwerkt kan worden, in `json-ld` formaat. Deze beschrijving is te vinden in een apart script-gedeelte in het HTML-bestand.\n",
    "\n"
   ]
  },
  {
   "cell_type": "markdown",
   "metadata": {},
   "source": [
    "## De betekenis van een naam in json-ld formaat\n",
    "\n",
    "De beschrijving van `http://schema.org/givenName` is \"verstopt\" in het bijbehorende HTML-document, in de vorm van een script in json-ld formaat.\n",
    "\n",
    "Met behulp van de (handige!) library `BeautifulSoup` voor het zoeken in een HTML-pagina kunnen we dit script vinden.\n",
    "We moeten eerst het HTML-documen laden, via de `requests`-library:"
   ]
  },
  {
   "cell_type": "code",
   "execution_count": 27,
   "metadata": {},
   "outputs": [
    {
     "data": {
      "text/plain": [
       "200"
      ]
     },
     "execution_count": 27,
     "metadata": {},
     "output_type": "execute_result"
    }
   ],
   "source": [
    "r = requests.get(\"https://schema.org/givenName\")\n",
    "r.status_code"
   ]
  },
  {
   "cell_type": "markdown",
   "metadata": {},
   "source": [
    "Als `r.status_code` gelijk is aan 200 (OK), dan bevat `r.text` de HTML-tekst van de response:"
   ]
  },
  {
   "cell_type": "code",
   "execution_count": 29,
   "metadata": {},
   "outputs": [
    {
     "data": {
      "text/plain": [
       "'\\n<!DOCTYPE html>\\n<html lang=\"en\">\\n<!-- Generated from TermPageEx.j2 -->\\n    \\n    \\n    <head>\\n\\n    <title>givenName - Schema.org Property</title>\\n    <meta charset=\"utf-8\" >\\n    <meta name=\"viewport\" content=\"width=device-width, initial-scale=1\">\\n    <meta name=\"description\" content=\"Schema.org Property: givenName - Given name. In the U.S., the first name of a Person.\" />\\n    <link rel=\"shortcut icon\" type=\"image/png\" href=\"/docs/favicon.ico\"/>\\n    <link rel=\"stylesheet\" type=\"text/css\" href=\"/do'"
      ]
     },
     "execution_count": 29,
     "metadata": {},
     "output_type": "execute_result"
    }
   ],
   "source": [
    "r.text[0:500]"
   ]
  },
  {
   "cell_type": "markdown",
   "metadata": {},
   "source": [
    "Dit document verwerken we via `BeautifulSoup`; we zoeken naar het script met als type: `application/ld_json`"
   ]
  },
  {
   "cell_type": "code",
   "execution_count": 32,
   "metadata": {},
   "outputs": [],
   "source": [
    "soup = BeautifulSoup(r.text, \"html.parser\")"
   ]
  },
  {
   "cell_type": "code",
   "execution_count": 35,
   "metadata": {},
   "outputs": [
    {
     "data": {
      "text/plain": [
       "<script type=\"application/ld+json\">\n",
       "{\n",
       "  \"@context\": {\n",
       "    \"rdf\": \"http://www.w3.org/1999/02/22-rdf-syntax-ns#\",\n",
       "    \"rdfs\": \"http://www.w3.org/2000/01/rdf-schema#\",\n",
       "    \"schema\": \"http://schema.org/\",\n",
       "    \"xsd\": \"http://www.w3.org/2001/XMLSchema#\"\n",
       "  },\n",
       "  \"@id\": \"schema:givenName\",\n",
       "  \"@type\": \"rdf:Property\",\n",
       "  \"rdfs:comment\": \"Given name. In the U.S., the first name of a Person.\",\n",
       "  \"rdfs:label\": \"givenName\",\n",
       "  \"schema:domainIncludes\": {\n",
       "    \"@id\": \"schema:Person\"\n",
       "  },\n",
       "  \"schema:rangeIncludes\": {\n",
       "    \"@id\": \"schema:Text\"\n",
       "  }\n",
       "}\n",
       "</script>"
      ]
     },
     "execution_count": 35,
     "metadata": {},
     "output_type": "execute_result"
    }
   ],
   "source": [
    "json_script = soup.find(type=\"application/ld+json\")\n",
    "json_script"
   ]
  },
  {
   "cell_type": "markdown",
   "metadata": {},
   "source": [
    "Van dit script hebben we de inhoud nodig; deze moeten we van string-formaat (JSON) omzetten naar een Python-object:"
   ]
  },
  {
   "cell_type": "code",
   "execution_count": 36,
   "metadata": {},
   "outputs": [
    {
     "data": {
      "text/plain": [
       "{'@context': {'rdf': 'http://www.w3.org/1999/02/22-rdf-syntax-ns#',\n",
       "  'rdfs': 'http://www.w3.org/2000/01/rdf-schema#',\n",
       "  'schema': 'http://schema.org/',\n",
       "  'xsd': 'http://www.w3.org/2001/XMLSchema#'},\n",
       " '@id': 'schema:givenName',\n",
       " '@type': 'rdf:Property',\n",
       " 'rdfs:comment': 'Given name. In the U.S., the first name of a Person.',\n",
       " 'rdfs:label': 'givenName',\n",
       " 'schema:domainIncludes': {'@id': 'schema:Person'},\n",
       " 'schema:rangeIncludes': {'@id': 'schema:Text'}}"
      ]
     },
     "execution_count": 36,
     "metadata": {},
     "output_type": "execute_result"
    }
   ],
   "source": [
    "description = json.loads(json_script.contents[0].string)\n",
    "description"
   ]
  },
  {
   "cell_type": "code",
   "execution_count": 33,
   "metadata": {},
   "outputs": [
    {
     "data": {
      "text/plain": [
       "'\\n{\\n  \"@context\": {\\n    \"rdf\": \"http://www.w3.org/1999/02/22-rdf-syntax-ns#\",\\n    \"rdfs\": \"http://www.w3.org/2000/01/rdf-schema#\",\\n    \"schema\": \"http://schema.org/\",\\n    \"xsd\": \"http://www.w3.org/2001/XMLSchema#\"\\n  },\\n  \"@id\": \"schema:givenName\",\\n  \"@type\": \"rdf:Property\",\\n  \"rdfs:comment\": \"Given name. In the U.S., the first name of a Person.\",\\n  \"rdfs:label\": \"givenName\",\\n  \"schema:domainIncludes\": {\\n    \"@id\": \"schema:Person\"\\n  },\\n  \"schema:rangeIncludes\": {\\n    \"@id\": \"schema:Text\"\\n  }\\n}\\n'"
      ]
     },
     "execution_count": 33,
     "metadata": {},
     "output_type": "execute_result"
    }
   ],
   "source": [
    "json_string = soup.find(type=\"application/ld+json\").contents[0].string\n",
    "json_string"
   ]
  },
  {
   "cell_type": "code",
   "execution_count": 34,
   "metadata": {},
   "outputs": [
    {
     "data": {
      "text/plain": [
       "{'@context': {'rdf': 'http://www.w3.org/1999/02/22-rdf-syntax-ns#',\n",
       "  'rdfs': 'http://www.w3.org/2000/01/rdf-schema#',\n",
       "  'schema': 'http://schema.org/',\n",
       "  'xsd': 'http://www.w3.org/2001/XMLSchema#'},\n",
       " '@id': 'schema:givenName',\n",
       " '@type': 'rdf:Property',\n",
       " 'rdfs:comment': 'Given name. In the U.S., the first name of a Person.',\n",
       " 'rdfs:label': 'givenName',\n",
       " 'schema:domainIncludes': {'@id': 'schema:Person'},\n",
       " 'schema:rangeIncludes': {'@id': 'schema:Text'}}"
      ]
     },
     "execution_count": 34,
     "metadata": {},
     "output_type": "execute_result"
    }
   ],
   "source": [
    "json.loads(json_string)"
   ]
  },
  {
   "cell_type": "code",
   "execution_count": 43,
   "metadata": {},
   "outputs": [
    {
     "data": {
      "text/plain": [
       "200"
      ]
     },
     "execution_count": 43,
     "metadata": {},
     "output_type": "execute_result"
    }
   ],
   "source": [
    "r1 = requests.get(\"https://nl.wikipedia.org/wiki/Philippe_Herreweghe\")\n",
    "r1.status_code"
   ]
  },
  {
   "cell_type": "code",
   "execution_count": 48,
   "metadata": {},
   "outputs": [
    {
     "data": {
      "text/plain": [
       "'<!DOCTYPE html>\\n<html class=\"client-nojs\" lang=\"nl\" dir=\"ltr\">\\n<head>\\n<meta charset=\"UTF-8\"/>\\n<title>Philippe Herreweghe - Wikipedia</title>\\n<script>document.documentElement.className=\"client-js\";RLCONF={\"wgBreakFrames\":!1,\"wgSeparatorTransformTable\":[\",\\\\t.\",\".\\\\t,\"],\"wgDigitTransformTable\":[\"\",\"\"],\"wgDefaultDateFormat\":\"dmy\",\"wgMonthNames\":[\"\",\"januari\",\"februari\",\"maart\",\"april\",\"mei\",\"juni\",\"juli\",\"augustus\",\"september\",\"oktober\",\"november\",\"december\"],\"wgRequestId\":\"2cfd3b15-ba1b-4148-b6fe-d3'"
      ]
     },
     "execution_count": 48,
     "metadata": {},
     "output_type": "execute_result"
    }
   ],
   "source": [
    "r1.text[0:500]"
   ]
  },
  {
   "cell_type": "code",
   "execution_count": 45,
   "metadata": {},
   "outputs": [],
   "source": [
    "soup1 =  BeautifulSoup(r1.text, \"html.parser\")"
   ]
  },
  {
   "cell_type": "code",
   "execution_count": 46,
   "metadata": {},
   "outputs": [
    {
     "data": {
      "text/plain": [
       "<script type=\"application/ld+json\">{\"@context\":\"https:\\/\\/schema.org\",\"@type\":\"Article\",\"name\":\"Philippe Herreweghe\",\"url\":\"https:\\/\\/nl.wikipedia.org\\/wiki\\/Philippe_Herreweghe\",\"sameAs\":\"http:\\/\\/www.wikidata.org\\/entity\\/Q168039\",\"mainEntity\":\"http:\\/\\/www.wikidata.org\\/entity\\/Q168039\",\"author\":{\"@type\":\"Organization\",\"name\":\"Bijdragers aan Wikimedia projecten\"},\"publisher\":{\"@type\":\"Organization\",\"name\":\"Wikimedia Foundation, Inc.\",\"logo\":{\"@type\":\"ImageObject\",\"url\":\"https:\\/\\/www.wikimedia.org\\/static\\/images\\/wmf-hor-googpub.png\"}},\"datePublished\":\"2005-07-14T20:16:19Z\",\"dateModified\":\"2019-09-09T03:08:28Z\",\"image\":\"https:\\/\\/upload.wikimedia.org\\/wikipedia\\/commons\\/3\\/38\\/Herreweghe675.jpg\",\"headline\":\"Belgisch dirigent\"}</script>"
      ]
     },
     "execution_count": 46,
     "metadata": {},
     "output_type": "execute_result"
    }
   ],
   "source": [
    "json_script1 = soup1.find(type=\"application/ld+json\")\n",
    "json_script1"
   ]
  },
  {
   "cell_type": "markdown",
   "metadata": {},
   "source": [
    "Op de website van de Chinees in Waalre worden wel de namen van schema.org gebruikt, maar (nog) niet de JSON-LD notatie; Google stelt dat deze tegenwoordig de voorkeur verdient."
   ]
  },
  {
   "cell_type": "code",
   "execution_count": 47,
   "metadata": {},
   "outputs": [
    {
     "data": {
      "text/plain": [
       "{'@context': 'https://schema.org',\n",
       " '@type': 'Article',\n",
       " 'name': 'Philippe Herreweghe',\n",
       " 'url': 'https://nl.wikipedia.org/wiki/Philippe_Herreweghe',\n",
       " 'sameAs': 'http://www.wikidata.org/entity/Q168039',\n",
       " 'mainEntity': 'http://www.wikidata.org/entity/Q168039',\n",
       " 'author': {'@type': 'Organization',\n",
       "  'name': 'Bijdragers aan Wikimedia projecten'},\n",
       " 'publisher': {'@type': 'Organization',\n",
       "  'name': 'Wikimedia Foundation, Inc.',\n",
       "  'logo': {'@type': 'ImageObject',\n",
       "   'url': 'https://www.wikimedia.org/static/images/wmf-hor-googpub.png'}},\n",
       " 'datePublished': '2005-07-14T20:16:19Z',\n",
       " 'dateModified': '2019-09-09T03:08:28Z',\n",
       " 'image': 'https://upload.wikimedia.org/wikipedia/commons/3/38/Herreweghe675.jpg',\n",
       " 'headline': 'Belgisch dirigent'}"
      ]
     },
     "execution_count": 47,
     "metadata": {},
     "output_type": "execute_result"
    }
   ],
   "source": [
    "description1 = json.loads(json_script1.contents[0].string)\n",
    "description1"
   ]
  },
  {
   "cell_type": "code",
   "execution_count": 63,
   "metadata": {},
   "outputs": [
    {
     "data": {
      "text/plain": [
       "200"
      ]
     },
     "execution_count": 63,
     "metadata": {},
     "output_type": "execute_result"
    }
   ],
   "source": [
    "r2 = requests.get(\"https://www.ah.nl/winkel/albert-heijn/waalre/den-hof/8561\")\n",
    "r2.status_code"
   ]
  },
  {
   "cell_type": "code",
   "execution_count": 64,
   "metadata": {},
   "outputs": [
    {
     "data": {
      "text/plain": [
       "'<!doctype html>\\n    <html  lang=\"nl_NL\">\\n        <head>\\n            <meta http-equiv=\"X-UA-Compatible\" content=\"IE=edge\">\\n            <meta name=\"csrf-token\" content=\"bglmEgb3-eQI1NgrcsZyhoBVQZx9oceFYaZ8\">\\n            <title data-react-helmet=\"true\">AH Den Hof openingstijden |Albert Heijn</title>\\n            <meta data-react-helmet=\"true\" name=\"settings:cookie-version\" content=\"1.6\"/><meta data-react-helmet=\"true\" name=\"dynatrace-beacon\" content=\"\"/><meta data-react-helmet=\"true\" name=\"theme-color\" content=\"#2f7fb5\"/><meta data-react-helmet=\"true\" name=\"msapplication-TileColor\" content=\"#2f7fb5\"/><meta data-react-helmet=\"true\" name=\"msapplication-TileImage\" content=\"/winkel/assets/08c0d513.png\"/><meta data-react-helmet=\"true\" name=\"viewport\" content=\"width=device-width, initial-scale=1.0\"/><meta data-react-helmet=\"true\" name=\"app:id\" content=\"ah-stores\"/><meta data-react-helmet=\"true\" name=\"app:version\" content=\"0.207.0\"/><meta data-react-helmet=\"true\" name=\"settings:cookie-version\" content=\"1.5\"/><meta data-react-helmet=\"true\" name=\"description\" content=\"Bekijk de actuele openingstijden en het adres van de Albert Heijn aan de Den Hof in Waalre.. \"/><meta data-react-helmet=\"true\" name=\"robots\" content=\"noodp\"/><meta data-react-helmet=\"true\" property=\"og:description\" content=\"Bekijk de actuele openingstijden en het adres van de Albert Heijn aan de Den Hof in Waalre.. \"/>\\n            <script type=\"text/javascript\" src=\"/ruxitagentjs_ICA27SVfhjqrux_10195200709173710.js\" data-dtconfig=\"rid=RID_-1518573180|rpid=727854597|domain=ah.nl|reportUrl=/rb_f51771da-652e-43ff-a066-fab0e1ce541b|app=4d9542759f321531|ssc=1|coo=1|featureHash=ICA27SVfhjqrux|vcv=2|xb=(www^bs.google‑analytics^bs.com^bs/j^bs/collect.*^ppastease^bs.mopinion.com.*)|rdnt=1|uxrgce=1|cuc=vzgqqyep|md=mdcc1=cahold_presumed_member_no,mdcc2=a[name=\\'settings:online-order\\']@content,mdcc3=bwindow.sitespect|lastModification=1606833925464|dtVersion=10195200709173710|tp=500,50,0,1|uxdcw=1500|vs=2|agentUri=/ruxitagentjs_ICA27SVfhjqrux_10195200709173710.js\"></script><meta name=\"dynatrace-beacon\" content=\"\">\\n            <link rel=\"preload\" href=\"https://static.ah.nl/ah-static/fonts/hamburg-ah-bold.woff2\" as=\"font\" crossorigin=\"anonymous\" type=\"font/woff2\"/><link rel=\"preload\" href=\"https://static.ah.nl/ah-static/fonts/hamburg-ah-demibold.woff2\" as=\"font\" crossorigin=\"anonymous\" type=\"font/woff2\"/><link rel=\"preload\" href=\"https://static.ah.nl/ah-static/fonts/hamburg-ah-medium.woff2\" as=\"font\" crossorigin=\"anonymous\" type=\"font/woff2\"/><link rel=\"preload\" href=\"https://static.ah.nl/ah-static/fonts/hamburg-ah-regular.woff2\" as=\"font\" crossorigin=\"anonymous\" type=\"font/woff2\"/>           \\n            <link type=\"text/css\" rel=\"stylesheet\" href=\"/features/assets/vendor.1b550128.css\" /><link rel=\"preload\" href=\"/features/assets/vendor.1b550128.chunk.js\" as=\"script\" /><script defer=\"true\" src=\"/features/assets/vendor.1b550128.chunk.js\"></script>\\n            \\n            <link type=\"text/css\" rel=\"stylesheet\" href=\"/winkel/assets/styles.2a153ea8.css\" />\\n            <link rel=\"preload\" href=\"/winkel/assets/client.ab50fbe7.js\" as=\"script\" /><script defer=\"true\" src=\"/winkel/assets/client.ab50fbe7.js\"></script><link rel=\"preload\" href=\"/winkel/assets/styles.2a153ea8.chunk.js\" as=\"script\" /><script defer=\"true\" src=\"/winkel/assets/styles.2a153ea8.chunk.js\"></script><link rel=\"preload\" href=\"/winkel/assets/vendor.b63582d5.chunk.js\" as=\"script\" /><script defer=\"true\" src=\"/winkel/assets/vendor.b63582d5.chunk.js\"></script>\\n            <link data-react-helmet=\"true\" rel=\"preconnect\" href=\"//static.ah.nl/\"/><link data-react-helmet=\"true\" rel=\"apple-touch-icon\" href=\"/winkel/assets/47c149e8.png\"/><link data-react-helmet=\"true\" rel=\"alternate\" hrefLang=\"x-default\" href=\"https://www.ah.nl/winkel/albert-heijn/waalre/den-hof/8561\"/><link data-react-helmet=\"true\" rel=\"alternate\" hrefLang=\"nl-NL\" href=\"https://www.ah.nl/winkel/albert-heijn/waalre/den-hof/8561\"/><link data-react-helmet=\"true\" rel=\"alternate\" hrefLang=\"nl-BE\" href=\"https://www.ah.be/winkel/albert-heijn/waalre/den-hof/8561\"/><link data-react-helmet=\"true\" rel=\"canonical\" href=\"https://www.ah.nl/winkel/albert-heijn/waalre/den-hof/8561\"/>\\n            \\n            <script data-react-helmet=\"true\" type=\"application/ld+json\">{\"url\":\"https://www.ah.nl/winkel/albert-heijn/waalre/den-hof/8561\",\"@context\":\"https://schema.org\",\"@type\":\"GroceryStore\",\"@id\":\"https://www.ah.nl/winkel/albert-heijn/waalre/den-hof/8561\",\"name\":\"AH Den Hof\",\"image\":\"https://www.ah.nl//winkel/assets/9cc2b5e4.svg\",\"address\":{\"@type\":\"PostalAddress\",\"streetAddress\":\"Den Hof 4\",\"addressLocality\":\"Waalre\",\"postalCode\":\"5582JZ\",\"addressCountry\":\"NLD\"},\"geo\":{\"@type\":\"GeoCoordinates\",\"latitude\":51.395218,\"longitude\":5.474604},\"telephone\":\"0402212354\",\"openingHoursSpecification\":[{\"@type\":\"OpeningHoursSpecification\",\"dayOfWeek\":\"Monday\",\"opens\":\"07:00\",\"closes\":\"21:00\"},{\"@type\":\"OpeningHoursSpecification\",\"dayOfWeek\":\"Tuesday\",\"opens\":\"07:00\",\"closes\":\"21:00\"},{\"'"
      ]
     },
     "execution_count": 64,
     "metadata": {},
     "output_type": "execute_result"
    }
   ],
   "source": [
    "r2.text[0:5000]"
   ]
  },
  {
   "cell_type": "code",
   "execution_count": 65,
   "metadata": {},
   "outputs": [],
   "source": [
    "soup2 =  BeautifulSoup(r2.text, \"html.parser\")"
   ]
  },
  {
   "cell_type": "code",
   "execution_count": 66,
   "metadata": {},
   "outputs": [
    {
     "data": {
      "text/plain": [
       "<script data-react-helmet=\"true\" type=\"application/ld+json\">{\"url\":\"https://www.ah.nl/winkel/albert-heijn/waalre/den-hof/8561\",\"@context\":\"https://schema.org\",\"@type\":\"GroceryStore\",\"@id\":\"https://www.ah.nl/winkel/albert-heijn/waalre/den-hof/8561\",\"name\":\"AH Den Hof\",\"image\":\"https://www.ah.nl//winkel/assets/9cc2b5e4.svg\",\"address\":{\"@type\":\"PostalAddress\",\"streetAddress\":\"Den Hof 4\",\"addressLocality\":\"Waalre\",\"postalCode\":\"5582JZ\",\"addressCountry\":\"NLD\"},\"geo\":{\"@type\":\"GeoCoordinates\",\"latitude\":51.395218,\"longitude\":5.474604},\"telephone\":\"0402212354\",\"openingHoursSpecification\":[{\"@type\":\"OpeningHoursSpecification\",\"dayOfWeek\":\"Monday\",\"opens\":\"07:00\",\"closes\":\"21:00\"},{\"@type\":\"OpeningHoursSpecification\",\"dayOfWeek\":\"Tuesday\",\"opens\":\"07:00\",\"closes\":\"21:00\"},{\"@type\":\"OpeningHoursSpecification\",\"dayOfWeek\":\"Wednesday\",\"opens\":\"07:00\",\"closes\":\"21:00\"},{\"@type\":\"OpeningHoursSpecification\",\"dayOfWeek\":\"Thursday\",\"opens\":\"07:00\",\"closes\":\"21:00\"},{\"@type\":\"OpeningHoursSpecification\",\"dayOfWeek\":\"Friday\",\"opens\":\"07:00\",\"closes\":\"21:00\"},{\"@type\":\"OpeningHoursSpecification\",\"dayOfWeek\":\"Saturday\",\"opens\":\"07:00\",\"closes\":\"21:00\"},{\"@type\":\"OpeningHoursSpecification\",\"dayOfWeek\":\"Sunday\",\"opens\":\"10:00\",\"closes\":\"20:00\"}]}</script>"
      ]
     },
     "execution_count": 66,
     "metadata": {},
     "output_type": "execute_result"
    }
   ],
   "source": [
    "json_script2 = soup2.find(type=\"application/ld+json\")\n",
    "json_script2"
   ]
  },
  {
   "cell_type": "code",
   "execution_count": null,
   "metadata": {},
   "outputs": [],
   "source": [
    "json_script2 = soup2.find(type=\"application/ld+json\")\n",
    "json_script2"
   ]
  },
  {
   "cell_type": "code",
   "execution_count": 67,
   "metadata": {},
   "outputs": [
    {
     "data": {
      "text/plain": [
       "{'url': 'https://www.ah.nl/winkel/albert-heijn/waalre/den-hof/8561',\n",
       " '@context': 'https://schema.org',\n",
       " '@type': 'GroceryStore',\n",
       " '@id': 'https://www.ah.nl/winkel/albert-heijn/waalre/den-hof/8561',\n",
       " 'name': 'AH Den Hof',\n",
       " 'image': 'https://www.ah.nl//winkel/assets/9cc2b5e4.svg',\n",
       " 'address': {'@type': 'PostalAddress',\n",
       "  'streetAddress': 'Den Hof 4',\n",
       "  'addressLocality': 'Waalre',\n",
       "  'postalCode': '5582JZ',\n",
       "  'addressCountry': 'NLD'},\n",
       " 'geo': {'@type': 'GeoCoordinates',\n",
       "  'latitude': 51.395218,\n",
       "  'longitude': 5.474604},\n",
       " 'telephone': '0402212354',\n",
       " 'openingHoursSpecification': [{'@type': 'OpeningHoursSpecification',\n",
       "   'dayOfWeek': 'Monday',\n",
       "   'opens': '07:00',\n",
       "   'closes': '21:00'},\n",
       "  {'@type': 'OpeningHoursSpecification',\n",
       "   'dayOfWeek': 'Tuesday',\n",
       "   'opens': '07:00',\n",
       "   'closes': '21:00'},\n",
       "  {'@type': 'OpeningHoursSpecification',\n",
       "   'dayOfWeek': 'Wednesday',\n",
       "   'opens': '07:00',\n",
       "   'closes': '21:00'},\n",
       "  {'@type': 'OpeningHoursSpecification',\n",
       "   'dayOfWeek': 'Thursday',\n",
       "   'opens': '07:00',\n",
       "   'closes': '21:00'},\n",
       "  {'@type': 'OpeningHoursSpecification',\n",
       "   'dayOfWeek': 'Friday',\n",
       "   'opens': '07:00',\n",
       "   'closes': '21:00'},\n",
       "  {'@type': 'OpeningHoursSpecification',\n",
       "   'dayOfWeek': 'Saturday',\n",
       "   'opens': '07:00',\n",
       "   'closes': '21:00'},\n",
       "  {'@type': 'OpeningHoursSpecification',\n",
       "   'dayOfWeek': 'Sunday',\n",
       "   'opens': '10:00',\n",
       "   'closes': '20:00'}]}"
      ]
     },
     "execution_count": 67,
     "metadata": {},
     "output_type": "execute_result"
    }
   ],
   "source": [
    "description2 = json.loads(json_script2.contents[0].string)\n",
    "description2"
   ]
  },
  {
   "cell_type": "markdown",
   "metadata": {},
   "source": [
    "Met andere woorden: de gegevens van wikidata staan (nog?) niet in JSON-LD formaat\n",
    "\n",
    "En die van AH wel..."
   ]
  },
  {
   "cell_type": "code",
   "execution_count": 87,
   "metadata": {},
   "outputs": [],
   "source": [
    "hans = {\n",
    "  \"@context\": {\n",
    "    \"@context\": \"https://schema.org/docs/jsonldcontext.jsonld\",\n",
    "    \"voornaam\": \"givenName\"\n",
    "  },\n",
    "  \"@type\": \"Person\",\n",
    "  \"givenName\": \"Hans\",\n",
    "  \"familyName\": \"de Boer\",\n",
    "  \"email\": \"hans34@kpnmail.nl\"\n",
    "}"
   ]
  },
  {
   "cell_type": "code",
   "execution_count": 88,
   "metadata": {},
   "outputs": [
    {
     "data": {
      "text/plain": [
       "[{'@type': ['http://schema.org/Person'],\n",
       "  'http://schema.org/email': [{'@value': 'hans34@kpnmail.nl'}],\n",
       "  'http://schema.org/familyName': [{'@value': 'de Boer'}],\n",
       "  'http://schema.org/givenName': [{'@value': 'Hans'}]}]"
      ]
     },
     "execution_count": 88,
     "metadata": {},
     "output_type": "execute_result"
    }
   ],
   "source": [
    "hans_ex = jsonld.expand(hans)\n",
    "hans_ex"
   ]
  },
  {
   "cell_type": "code",
   "execution_count": 86,
   "metadata": {},
   "outputs": [
    {
     "data": {
      "text/plain": [
       "{'@context': 'https://schema.org/docs/jsonldcontext.jsonld',\n",
       " 'type': 'Person',\n",
       " 'email': 'hans34@kpnmail.nl',\n",
       " 'familyName': 'de Boer',\n",
       " 'givenName': 'Hans'}"
      ]
     },
     "execution_count": 86,
     "metadata": {},
     "output_type": "execute_result"
    }
   ],
   "source": [
    "jsonld.compact(hans_ex, \"https://schema.org/docs/jsonldcontext.jsonld\" )"
   ]
  },
  {
   "cell_type": "markdown",
   "metadata": {},
   "source": [
    "NB: in Python speelt de volgorde van de namen in een dictionary, bij mijn weten, geen rol.\n",
    "zie het voorbeeld hieronder. (Ik weet niet hoe dat in de MongoDB is.)\n",
    "\n",
    "Ik begrijp dat je met behulp van een \"frame\" de velden wel in de gewenste volgorde kunt krijgen."
   ]
  },
  {
   "cell_type": "code",
   "execution_count": 79,
   "metadata": {},
   "outputs": [
    {
     "name": "stdout",
     "output_type": "stream",
     "text": [
      "True\n"
     ]
    }
   ],
   "source": [
    "x = {'aap': 10, 'noot': 'mies', 'zus': 12}\n",
    "y = {'noot': 'mies', 'zus': 12,'aap': 10}\n",
    "print(x == y)"
   ]
  },
  {
   "cell_type": "code",
   "execution_count": 116,
   "metadata": {},
   "outputs": [
    {
     "data": {
      "text/plain": [
       "200"
      ]
     },
     "execution_count": 116,
     "metadata": {},
     "output_type": "execute_result"
    }
   ],
   "source": [
    "r4 = requests.get(\"https://www.lotusgardenwaalre.nl\")\n",
    "r4.status_code"
   ]
  },
  {
   "cell_type": "code",
   "execution_count": 117,
   "metadata": {},
   "outputs": [],
   "source": [
    "soup4 =  BeautifulSoup(r4.text, \"html.parser\")"
   ]
  },
  {
   "cell_type": "code",
   "execution_count": 122,
   "metadata": {},
   "outputs": [
    {
     "data": {
      "text/plain": [
       "True"
      ]
     },
     "execution_count": 122,
     "metadata": {},
     "output_type": "execute_result"
    }
   ],
   "source": [
    "json_script4 = soup4.find(type=\"application/ld+json\")\n",
    "json_script4 == None"
   ]
  },
  {
   "cell_type": "code",
   "execution_count": 115,
   "metadata": {},
   "outputs": [
    {
     "data": {
      "text/plain": [
       "{'@context': 'https://schema.org',\n",
       " '@graph': [{'@type': 'WebSite',\n",
       "   '@id': 'https://www.jumbo.eu/#website',\n",
       "   'url': 'https://www.jumbo.eu/',\n",
       "   'name': 'Jumbo',\n",
       "   'description': 'Spellen, puzzles en speelgoed',\n",
       "   'potentialAction': [{'@type': 'SearchAction',\n",
       "     'target': 'https://www.jumbo.eu/?s={search_term_string}',\n",
       "     'query-input': 'required name=search_term_string'}],\n",
       "   'inLanguage': 'nl'},\n",
       "  {'@type': 'WebPage',\n",
       "   '@id': 'https://www.jumbo.eu/#webpage',\n",
       "   'url': 'https://www.jumbo.eu/',\n",
       "   'name': 'Home - Jumbo',\n",
       "   'isPartOf': {'@id': 'https://www.jumbo.eu/#website'},\n",
       "   'datePublished': '2017-11-07T11:35:51+00:00',\n",
       "   'dateModified': '2020-11-12T10:22:17+00:00',\n",
       "   'inLanguage': 'nl',\n",
       "   'potentialAction': [{'@type': 'ReadAction',\n",
       "     'target': ['https://www.jumbo.eu/']}]}]}"
      ]
     },
     "execution_count": 115,
     "metadata": {},
     "output_type": "execute_result"
    }
   ],
   "source": [
    "description4 = json.loads(json_script4.contents[0].string)\n",
    "description4"
   ]
  },
  {
   "cell_type": "code",
   "execution_count": 126,
   "metadata": {},
   "outputs": [],
   "source": [
    "def get_json_ld (url):\n",
    "    r = requests.get(url)\n",
    "    if r.status_code != 200: \n",
    "        return None\n",
    "    soup =  BeautifulSoup(r.text, \"html.parser\")\n",
    "    json_script = soup.find(type=\"application/ld+json\")\n",
    "    if json_script == None:\n",
    "        return None\n",
    "    return json.loads(json_script.contents[0].string)"
   ]
  },
  {
   "cell_type": "code",
   "execution_count": 127,
   "metadata": {},
   "outputs": [
    {
     "data": {
      "text/plain": [
       "{'@context': 'http://schema.org',\n",
       " '@type': 'Organization',\n",
       " 'url': 'https://ieni.org/',\n",
       " 'sameAs': ['https://twitter.com/@ieni'],\n",
       " '@id': '#organization',\n",
       " 'name': 'Vakvereniging i&amp;i',\n",
       " 'logo': 'https://ieni.org/assets/img/brand/header-dark.svg'}"
      ]
     },
     "execution_count": 127,
     "metadata": {},
     "output_type": "execute_result"
    }
   ],
   "source": [
    "get_json_ld(\"https://ieni.org\")"
   ]
  },
  {
   "cell_type": "code",
   "execution_count": 128,
   "metadata": {},
   "outputs": [
    {
     "data": {
      "text/plain": [
       "{'@context': 'https://schema.org',\n",
       " '@type': 'Article',\n",
       " 'name': 'Hedy Lamarr',\n",
       " 'url': 'https://nl.wikipedia.org/wiki/Hedy_Lamarr',\n",
       " 'sameAs': 'http://www.wikidata.org/entity/Q49034',\n",
       " 'mainEntity': 'http://www.wikidata.org/entity/Q49034',\n",
       " 'author': {'@type': 'Organization',\n",
       "  'name': 'Bijdragers aan Wikimedia projecten'},\n",
       " 'publisher': {'@type': 'Organization',\n",
       "  'name': 'Wikimedia Foundation, Inc.',\n",
       "  'logo': {'@type': 'ImageObject',\n",
       "   'url': 'https://www.wikimedia.org/static/images/wmf-hor-googpub.png'}},\n",
       " 'datePublished': '2005-03-15T19:42:44Z',\n",
       " 'dateModified': '2020-11-09T12:29:00Z',\n",
       " 'image': 'https://upload.wikimedia.org/wikipedia/commons/6/61/Hedy_lamarr_-_1940.jpg',\n",
       " 'headline': 'Oostenrijks-Amerikaans actrice en uitvindster'}"
      ]
     },
     "execution_count": 128,
     "metadata": {},
     "output_type": "execute_result"
    }
   ],
   "source": [
    "get_json_ld(\"https://nl.wikipedia.org/wiki/Hedy_Lamarr\")"
   ]
  },
  {
   "cell_type": "markdown",
   "metadata": {},
   "source": [
    "* volg de link naar wikidata voor meer gestructureerde gegevens over Hedy LLamar"
   ]
  },
  {
   "cell_type": "code",
   "execution_count": 144,
   "metadata": {},
   "outputs": [
    {
     "ename": "IndexError",
     "evalue": "list index out of range",
     "output_type": "error",
     "traceback": [
      "\u001b[0;31m---------------------------------------------------------------------------\u001b[0m",
      "\u001b[0;31mIndexError\u001b[0m                                Traceback (most recent call last)",
      "\u001b[0;32m<ipython-input-144-38781c4ad511>\u001b[0m in \u001b[0;36m<module>\u001b[0;34m\u001b[0m\n\u001b[0;32m----> 1\u001b[0;31m \u001b[0mget_json_ld\u001b[0m\u001b[0;34m(\u001b[0m\u001b[0;34m'http://dbpedia.org/page/Hedy_Lamarr'\u001b[0m\u001b[0;34m)\u001b[0m\u001b[0;34m\u001b[0m\u001b[0;34m\u001b[0m\u001b[0m\n\u001b[0m",
      "\u001b[0;32m<ipython-input-126-005f97224526>\u001b[0m in \u001b[0;36mget_json_ld\u001b[0;34m(url)\u001b[0m\n\u001b[1;32m      7\u001b[0m     \u001b[0;32mif\u001b[0m \u001b[0mjson_script\u001b[0m \u001b[0;34m==\u001b[0m \u001b[0;32mNone\u001b[0m\u001b[0;34m:\u001b[0m\u001b[0;34m\u001b[0m\u001b[0;34m\u001b[0m\u001b[0m\n\u001b[1;32m      8\u001b[0m         \u001b[0;32mreturn\u001b[0m \u001b[0;32mNone\u001b[0m\u001b[0;34m\u001b[0m\u001b[0;34m\u001b[0m\u001b[0m\n\u001b[0;32m----> 9\u001b[0;31m     \u001b[0;32mreturn\u001b[0m \u001b[0mjson\u001b[0m\u001b[0;34m.\u001b[0m\u001b[0mloads\u001b[0m\u001b[0;34m(\u001b[0m\u001b[0mjson_script\u001b[0m\u001b[0;34m.\u001b[0m\u001b[0mcontents\u001b[0m\u001b[0;34m[\u001b[0m\u001b[0;36m0\u001b[0m\u001b[0;34m]\u001b[0m\u001b[0;34m.\u001b[0m\u001b[0mstring\u001b[0m\u001b[0;34m)\u001b[0m\u001b[0;34m\u001b[0m\u001b[0;34m\u001b[0m\u001b[0m\n\u001b[0m",
      "\u001b[0;31mIndexError\u001b[0m: list index out of range"
     ]
    }
   ],
   "source": [
    "get_json_ld('http://dbpedia.org/page/Hedy_Lamarr')"
   ]
  },
  {
   "cell_type": "code",
   "execution_count": 150,
   "metadata": {},
   "outputs": [],
   "source": [
    "url = 'http://dbpedia.org?resource%2FHedy_Lamarr&format=application%2Fjson-ld'\n",
    "r = requests.get(url)\n",
    "if r.status_code == 200:\n",
    "    \n",
    "    soup =  BeautifulSoup(r.text, \"html.parser\")\n",
    "    json_script = soup.find(type=\"application/ld+json\")\n",
    "json_script    "
   ]
  },
  {
   "cell_type": "code",
   "execution_count": 139,
   "metadata": {},
   "outputs": [
    {
     "data": {
      "text/plain": [
       "{'language': 'nl', 'value': 'Oostenrijks-Amerikaans actrice en uitvindster'}"
      ]
     },
     "execution_count": 139,
     "metadata": {},
     "output_type": "execute_result"
    }
   ],
   "source": [
    "r10 = requests.get('http://www.wikidata.org/entity/Q49034')\n",
    "r10.json()[\"entities\"][\"Q49034\"][\"descriptions\"][\"nl\"]"
   ]
  },
  {
   "cell_type": "code",
   "execution_count": 151,
   "metadata": {},
   "outputs": [
    {
     "ename": "SyntaxError",
     "evalue": "invalid syntax (<ipython-input-151-516ceb22f86d>, line 1)",
     "output_type": "error",
     "traceback": [
      "\u001b[0;36m  File \u001b[0;32m\"<ipython-input-151-516ceb22f86d>\"\u001b[0;36m, line \u001b[0;32m1\u001b[0m\n\u001b[0;31m    r10.json()[\"entities\"][\"Q49034\"].\u001b[0m\n\u001b[0m                                     ^\u001b[0m\n\u001b[0;31mSyntaxError\u001b[0m\u001b[0;31m:\u001b[0m invalid syntax\n"
     ]
    }
   ],
   "source": [
    "r10.json()[\"entities\"][\"Q49034\"]."
   ]
  },
  {
   "cell_type": "code",
   "execution_count": 154,
   "metadata": {},
   "outputs": [
    {
     "data": {
      "text/plain": [
       "{'@context': 'https://schema.org/',\n",
       " '@type': 'Recipe',\n",
       " 'keywords': 'Recept, Weihnachtsstolle of duitse kerststol, Ontbijt, Duitse keuken, Zoet',\n",
       " 'author': {'@type': 'Person', 'name': 'pwiggers'},\n",
       " 'name': 'Weihnachtsstolle of duitse kerststol',\n",
       " 'recipeCategory': 'Brood',\n",
       " 'recipeCuisine': 'Duits',\n",
       " 'cookTime': 'PT1H30M',\n",
       " 'totalTime': 'PT1H30M',\n",
       " 'recipeIngredient': '500 gr bloem - 1 zakje bakpoeder - 180 gr suiker - 1 zakje vanillesuiker - mespunt zout - 4 druppels amandelaroma - 5 druppels citroenaroma - 1 borrelglas rum - 2 eieren - 120 gr koude boter - 250 gr magere kwark - 200 gr gewassen rozijnen - 100 gr gewassen krenten - 150 gr gemalen amandelen - 50 gr gedroogde sinaasappelschilletjes - 50 gr gesnipperde sukade\\nOm te bestrijken: 50 gram zachte boter\\nOm te bestrooien: 50 gram poedersuiker',\n",
       " 'recipeInstructions': 'Voorbereiding\\n\\nRozijnen, krenten, sukade en sinaasappelschilletjes avond tevoren in de rum zetten. Is de kwark nat dan even laten uitlekken in een zeef.\\nBloem en bakpoeder vermengen en zeven. Suiker, vanillesuiker, zout, aroma`s en eieren door elkaar mengen + een groot deel van de bloem. Koude boter in stukjes toevoegen + de rest van het bloem, gemalen amandelen, kwark, rozijnen, krenten, sinaasappelschilletjes en sukade. Alles goed door elkaar kneden. Als het deeg kleeft nog wat bloem toevoegen.\\n\\nOven voorverwarmen tot 180 graden. Van het deeg een kerststol vormen (zie foto) en op een met bakpapier beklede bakplaat leggen. In het midden van de oven ± 50-60 minuten bakken. Als de stol uit de oven komt direct met gesmolten boter insmeren en dik met poedersuiker bestrooien. Er ontstaat dan een dikke korst die er voor zorgt dat de kerststol niet uitdroogt.',\n",
       " 'description': 'Een hele lekkere kerststol die zonder gist gebakken wordt. Deze kerststol kun je wel een paar weken bewaren mits je hem goed verpakt in plastic folie. De stol wordt alleen maar lekkerder. De kerststol smaakt zoals je deze in Duitsland eet, dus lijkt niet op het \"kerstkrentenbrood\" wat in Nederland verkocht wordt. Bij ons al jaren een succes.\\nDe kerststol moet worden gebakken met boven- en onderwarmte in de oven. Gebruik je toch hetelucht zet de temperatuur dan op 160 graden. Elke oven is weer anders, dus let op!\\nDit jaar weer de kerststollen gebakken. Uit het in het recept genoemde deeg 3 kleinere stollen gemaakt (zie foto). Weer kom ik tot de conclusie dat het deeg, wanneer je het recept precies volgt, perfect is. Kleeft niet en is ook niet te droog.',\n",
       " 'recipeYield': '10 personen',\n",
       " 'image': ['https://images.smulweb.nl/recepten/200312/1064577/low_res/kerststol_2014.JPG',\n",
       "  'https://images.smulweb.nl/recepten/1064577/low_res/kerststollen_2011_in_de_oven.JPG',\n",
       "  'https://images.smulweb.nl/recepten/1064577/low_res/kerststollen.jpg',\n",
       "  'https://images.smulweb.nl/recepten/200312/1064577/low_res/kerststollen2012-1.JPG',\n",
       "  'https://images.smulweb.nl/recepten/200312/1064577/low_res/kerststollen2012.JPG',\n",
       "  'https://images.smulweb.nl/recepten/1064577/low_res/kerststolle.jpg'],\n",
       " 'aggregateRating': {'@type': 'AggregateRating',\n",
       "  'ratingValue': '5.0',\n",
       "  'bestRating': '5',\n",
       "  'worstRating': '0',\n",
       "  'ratingCount': '4'},\n",
       " 'comment': [{'@type': 'Comment',\n",
       "   'text': 'Heel graag gedaan meetyoda. Ik bak de kerststol elkaar. Dit jaar heb ik 7 stuks gebakken. Iedereen is er dol op.',\n",
       "   'datePublished': '23-12-2016',\n",
       "   'author': {'@type': 'Person', 'name': 'pwiggers'}},\n",
       "  {'@type': 'Comment',\n",
       "   'text': 'Bedankt voor dit heerlijk recept\\nNet gebakken echt heerlijk\\nFijne feestdagen gr yoda',\n",
       "   'datePublished': '23-12-2016',\n",
       "   'author': {'@type': 'Person', 'name': 'meetyoda'}},\n",
       "  {'@type': 'Comment',\n",
       "   'text': 'Mijn favoriete echte Duitse kerststol. Deze week worden er weer een aantal gebakken. Ook om weg te geven als kerstcadeautje.',\n",
       "   'datePublished': '13-12-2016',\n",
       "   'author': {'@type': 'Person', 'name': 'pwiggers'}},\n",
       "  {'@type': 'Comment',\n",
       "   'text': 'Met Kerst voor de tweede keer gemaakt. het was weer heerlijk.',\n",
       "   'datePublished': '15-01-2016',\n",
       "   'author': {'@type': 'Person', 'name': 'finegourmet'}},\n",
       "  {'@type': 'Comment',\n",
       "   'text': 'Deon en Louise, ik heb vorige week weer deze kerststollen gebakken en we eten er iedere dag weer een plak van. Kan er geen genoeg van krijgen. Het blijft heerlijk.',\n",
       "   'datePublished': '17-01-2015',\n",
       "   'author': {'@type': 'Person', 'name': 'pwiggers'}},\n",
       "  {'@type': 'Comment',\n",
       "   'text': 'Pasen komt ook Louise, dan heet dit Paasbrood :) ...',\n",
       "   'datePublished': '17-01-2015',\n",
       "   'author': {'@type': 'Person', 'name': 'deonart'}},\n",
       "  {'@type': 'Comment',\n",
       "   'text': 'Het is nog lang geen Kerstmis, sterker nog het is pas geweest maar het hoeft geen december te zijn om dit te maken toch? Ik eet ook wel eens appelbeignets in de zomer! Kortom voor ik dit recept  kwijt',\n",
       "   'datePublished': '16-01-2015',\n",
       "   'author': {'@type': 'Person', 'name': 'alidada'}},\n",
       "  {'@type': 'Comment',\n",
       "   'text': 'Gisteren weer 2 van deze heerlijke kerststollen gebakken. Ze blijven zeker 8 weken goed, maar of ze dat halen?',\n",
       "   'datePublished': '19-12-2014',\n",
       "   'author': {'@type': 'Person', 'name': 'pwiggers'}},\n",
       "  {'@type': 'Comment',\n",
       "   'text': 'Ik heb gisteren twee Kerststollen gemaakt de eerste is al , de tweede opgeborgen op een veilige plek :), wat een heerlijk recept, dank je',\n",
       "   'datePublished': '23-12-2013',\n",
       "   'author': {'@type': 'Person', 'name': 'GeryC'}},\n",
       "  {'@type': 'Comment',\n",
       "   'text': 'Ik heb gisteren twee kerststollen gemaakt, de eerste is al op de tweede opgeborgen.........wat een heerlijk recept die ga ik vaker maken!',\n",
       "   'datePublished': '23-12-2013',\n",
       "   'author': {'@type': 'Person', 'name': 'GeryC'}}]}"
      ]
     },
     "execution_count": 154,
     "metadata": {},
     "output_type": "execute_result"
    }
   ],
   "source": [
    "get_json_ld(\"https://www.smulweb.nl/recepten/1064577/Weihnachtsstolle-of-duitse-kerststol\")"
   ]
  },
  {
   "cell_type": "code",
   "execution_count": null,
   "metadata": {},
   "outputs": [],
   "source": []
  }
 ],
 "metadata": {
  "kernelspec": {
   "display_name": "Python 3",
   "language": "python",
   "name": "python3"
  },
  "language_info": {
   "codemirror_mode": {
    "name": "ipython",
    "version": 3
   },
   "file_extension": ".py",
   "mimetype": "text/x-python",
   "name": "python",
   "nbconvert_exporter": "python",
   "pygments_lexer": "ipython3",
   "version": "3.7.9"
  }
 },
 "nbformat": 4,
 "nbformat_minor": 4
}
