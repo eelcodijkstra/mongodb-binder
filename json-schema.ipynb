{
 "cells": [
  {
   "cell_type": "markdown",
   "metadata": {},
   "source": [
    "[Schema](Schema.ipynb) <- vorige - [Inhoudsopgave](Inhoud.ipynb) - volgende -> [Linked data(1)](Linked-data-1.ipynb)"
   ]
  },
  {
   "cell_type": "markdown",
   "metadata": {},
   "source": [
    "# JSON-schema\n",
    "\n",
    "Met JSON-schema kun je schema's voor JSON-objecten maken.\n",
    "Deze kun je gebruiken als documentatie van JSON-objecten die bijvoorbeeld in een web-API gebruikt worden.\n",
    "Vervolgens kun je JSON-objecten valideren tegen een schema.\n",
    "Dit kan handig zijn voor JSON-objecten in web-API's,\n",
    "zowel bij het genereren als bij het accepteren van JSON objecten.\n"
   ]
  },
  {
   "cell_type": "markdown",
   "metadata": {},
   "source": [
    "## JSON-schema in MongoDB\n",
    "\n",
    "In MongoDB kun je schema's in de JSON-schema notatie gebruiken voor het valideren van documenten in een collection."
   ]
  },
  {
   "cell_type": "markdown",
   "metadata": {},
   "source": [
    "## Definiëren van een schema"
   ]
  },
  {
   "cell_type": "markdown",
   "metadata": {},
   "source": [
    "### Annotaties\n",
    "\n",
    "Deze annotaties zijn niet verplicht, maar wel \"good practice\".\n",
    "\n",
    "* `$schema` - welke (standaard)notatie gebruiken we hier? (\"schema van het schema\")\n",
    "* `title` - de naam van het schema\n",
    "* `description` - een beschrijving van het schema"
   ]
  },
  {
   "cell_type": "markdown",
   "metadata": {},
   "source": [
    "### Type, object, properties\n",
    "\n",
    "Een document heeft als type: `object`.\n",
    "\n",
    "Per veld (*property*) van dit object geef je de naam en het type.\n",
    "Je kunt ook aangeven of welke velden verplicht (*required*) zijn."
   ]
  },
  {
   "cell_type": "code",
   "execution_count": null,
   "metadata": {},
   "outputs": [],
   "source": [
    "contact_schema = {\n",
    "    \"$schema\": \"http://json-schema.org/draft-07/schema#\",\n",
    "    \"title\": \"Contact\",\n",
    "    \"description\": \"schema for documents in the contacts collection\",\n",
    "    \"type\": \"object\",\n",
    "    \"properties\": {\n",
    "        \"name\": {\"type\": \"string\"},\n",
    "        \"email\": {\"type\": \"string\"},\n",
    "        \"telephone\": {\"type\": \"string\"},\n",
    "    },\n",
    "    \"required\": [\"name\", \"email\", \"telephone\"]\n",
    "}"
   ]
  },
  {
   "cell_type": "markdown",
   "metadata": {},
   "source": [
    "## JSON-schema in Python\n",
    "\n",
    "Je kunt in Python een schema definiëren als een Python dictionary.\n",
    "(Dit is vrijwel dezelfde notatie als JSON.)\n",
    "\n",
    "De libraries `jsonschema` (https://python-jsonschema.readthedocs.io) en `fastjsonschema` geven je functies om JSON-objecten te valideren tegen een schema.\n",
    "\n"
   ]
  },
  {
   "cell_type": "code",
   "execution_count": null,
   "metadata": {},
   "outputs": [],
   "source": [
    "from jsonschema import validate"
   ]
  },
  {
   "cell_type": "code",
   "execution_count": null,
   "metadata": {},
   "outputs": [],
   "source": [
    "mycontact = {\n",
    "    \"name\": \"Harry van Doorn\",\n",
    "    \"email\": \"harryvdoorm@friendmail.org\",\n",
    "    \"tel\": \"06-1357 8642\"\n",
    "}\n",
    "\n",
    "validate(instance=mycontact, schema=contact_schema)"
   ]
  },
  {
   "cell_type": "markdown",
   "metadata": {},
   "source": [
    "* Verbeter `mycontact` en valideer opnieuw."
   ]
  },
  {
   "cell_type": "markdown",
   "metadata": {},
   "source": [
    "### Arrays\n",
    "\n",
    "Als we meerdere e-mailadressen toestaan dan kunnen we daarvan een `array` maken:"
   ]
  },
  {
   "cell_type": "code",
   "execution_count": null,
   "metadata": {},
   "outputs": [],
   "source": [
    "contact_schema_1 = {\n",
    "    \"$schema\": \"http://json-schema.org/draft-07/schema#\",\n",
    "    \"title\": \"Contact\",\n",
    "    \"description\": \"schema for documents in the contacts collection\",\n",
    "    \"type\": \"object\",\n",
    "    \"properties\": {\n",
    "        \"name\": {\"type\": \"string\"},\n",
    "        \"email\": {\"type\": \"array\", \n",
    "                  \"items\": {\"type\": \"string\"}},\n",
    "        \"telephone\": {\"type\": \"string\"},\n",
    "    },\n",
    "    \"required\": [\"name\", \"email\", \"telephone\"]\n",
    "}"
   ]
  },
  {
   "cell_type": "code",
   "execution_count": null,
   "metadata": {},
   "outputs": [],
   "source": [
    "mycontact_1 = {\n",
    "    \"name\": \"Harry van Doorn\",\n",
    "    \"email\": \"harryvdoorm@friendmail.org\",\n",
    "    \"telephone\": \"06-1357 8642\"\n",
    "}\n",
    "\n",
    "validate(instance=mycontact_1, schema=contact_schema_1)"
   ]
  },
  {
   "cell_type": "markdown",
   "metadata": {},
   "source": [
    "* Verbeter het veld `email` door daar een array van te maken, en valideer opnieuw."
   ]
  },
  {
   "cell_type": "markdown",
   "metadata": {},
   "source": [
    "## Alternatieven\n",
    "\n",
    "In een contact moeten we tenminste een e-mailadres opnemen of een telefoonnummer, beide is niet verplicht.\n",
    "\n",
    "We gebruiken hiervoor het keyword `anyOf`, met een lijst van alternatieven."
   ]
  },
  {
   "cell_type": "code",
   "execution_count": null,
   "metadata": {},
   "outputs": [],
   "source": [
    "contact_schema_2 = {\n",
    "    \"$schema\": \"http://json-schema.org/draft-07/schema#\",\n",
    "    \"title\": \"Contact\",\n",
    "    \"description\": \"schema for documents in the contacts collection\",\n",
    "     \"type\": \"object\",\n",
    "          \"required\": [\"name\"],\n",
    "          \"properties\": {\n",
    "              \"name\": {\"type\": \"string\"}\n",
    "          },\n",
    "          \"anyOf\": [\n",
    "                  {\"properties\": {\"email\": {\"type\": \"array\",\n",
    "                                            \"items\": {\"type\": \"string\"}\n",
    "                                           }\n",
    "                                                     \n",
    "                                 },\n",
    "                   \"required\": [\"email\"]},\n",
    "              \n",
    "                  {\"properties\": {\"telephone\": {\"type\": \"string\"}},\n",
    "                   \"required\": [\"telephone\"]}\n",
    "          ]\n",
    "         }"
   ]
  },
  {
   "cell_type": "code",
   "execution_count": null,
   "metadata": {},
   "outputs": [],
   "source": [
    "mycontact_2 = {\n",
    "    \"name\": \"Harry van Doorn\"\n",
    "}\n",
    "\n",
    "validate(instance=mycontact_2, schema=contact_schema_2)"
   ]
  },
  {
   "cell_type": "markdown",
   "metadata": {},
   "source": [
    "* verbeter `mycontact2` door een e-mailadres of een telefoonnummer toe te voegen, en valideer opnieuw.\n",
    "\n",
    "(Merk op dat het eerste missende alternatief als ontbrekend gemeld wordt,\n",
    "terwijl je natuurlijk ook de andere alternatieven kunt opgeven."
   ]
  },
  {
   "cell_type": "markdown",
   "metadata": {},
   "source": [
    "## Patronen (reguliere expressies)\n",
    "\n",
    "Zoals je ziet is een waarde van een veld vaak een string.\n",
    "In veel gevallen moet die string aan een bepaald patroon (reguliere expressie) voldoen.\n",
    "Dit patronen kun je ook beschrijven in JSON-schema.\n",
    "\n",
    "Zie: https://json-schema.org/understanding-json-schema/reference/regular_expressions.html\n"
   ]
  },
  {
   "cell_type": "markdown",
   "metadata": {},
   "source": [
    "## Gestandaardiseerde schema's\n",
    "\n",
    "Voor veel voorkomende domeinen zijn standaard-schema's gemaakt.\n",
    "Je vindt deze bijvoorbeeld via (in json-schema formaat).\n",
    "Schema.org bevat een *ontologie* van veel-voorkomende begrippen.\n",
    "Deze begrippen zijn in samenhang met elkaar gedefinieerd.\n",
    "\n",
    "Zie bijvoorbeeld:\n",
    "\n",
    "* https://schema.org/ContactPoint\n",
    "* https://json.schemastore.org/schema-org-contact-point (hetzelfde, in json-ld)\n",
    "* en de lijst: \n",
    "* https://schema.org/Person\n",
    "** met bijvoorbeeld: `givenName` en `familyName`.\n",
    "\n",
    "(Dit vormt een opstapje naar Linked Open Data.)"
   ]
  },
  {
   "cell_type": "code",
   "execution_count": null,
   "metadata": {},
   "outputs": [],
   "source": []
  }
 ],
 "metadata": {
  "kernelspec": {
   "display_name": "Python 3",
   "language": "python",
   "name": "python3"
  },
  "language_info": {
   "codemirror_mode": {
    "name": "ipython",
    "version": 3
   },
   "file_extension": ".py",
   "mimetype": "text/x-python",
   "name": "python",
   "nbconvert_exporter": "python",
   "pygments_lexer": "ipython3",
   "version": "3.7.9"
  }
 },
 "nbformat": 4,
 "nbformat_minor": 4
}
